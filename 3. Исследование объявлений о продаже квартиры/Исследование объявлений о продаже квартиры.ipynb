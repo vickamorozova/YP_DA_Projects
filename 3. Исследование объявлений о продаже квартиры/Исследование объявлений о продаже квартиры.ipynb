{
 "cells": [
  {
   "cell_type": "markdown",
   "metadata": {},
   "source": [
    "### 1. Обзор данных"
   ]
  },
  {
   "cell_type": "markdown",
   "metadata": {},
   "source": [
    "Составим первое представление об исходных данных."
   ]
  },
  {
   "cell_type": "code",
   "execution_count": 1,
   "metadata": {},
   "outputs": [],
   "source": [
    "# импорт библиотек pandas, matplotlib, seaborn\n",
    "import pandas as pd\n",
    "import matplotlib.pyplot as plt\n",
    "import seaborn as sns"
   ]
  },
  {
   "cell_type": "code",
   "execution_count": 2,
   "metadata": {},
   "outputs": [],
   "source": [
    "# чтение файла с данными и сохранение в data\n",
    "try:\n",
    "    data = pd.read_csv('real_estate_data.csv')\n",
    "except:\n",
    "    data = pd.read_csv('/datasets/real_estate_data.csv')"
   ]
  },
  {
   "cell_type": "markdown",
   "metadata": {},
   "source": [
    "Выведем первые 5 строчек датафрейма на экран."
   ]
  },
  {
   "cell_type": "code",
   "execution_count": 3,
   "metadata": {
    "scrolled": true
   },
   "outputs": [
    {
     "data": {
      "text/html": [
       "<div>\n",
       "<style scoped>\n",
       "    .dataframe tbody tr th:only-of-type {\n",
       "        vertical-align: middle;\n",
       "    }\n",
       "\n",
       "    .dataframe tbody tr th {\n",
       "        vertical-align: top;\n",
       "    }\n",
       "\n",
       "    .dataframe thead th {\n",
       "        text-align: right;\n",
       "    }\n",
       "</style>\n",
       "<table border=\"1\" class=\"dataframe\">\n",
       "  <thead>\n",
       "    <tr style=\"text-align: right;\">\n",
       "      <th></th>\n",
       "      <th>total_images\\tlast_price\\ttotal_area\\tfirst_day_exposition\\trooms\\tceiling_height\\tfloors_total\\tliving_area\\tfloor\\tis_apartment\\tstudio\\topen_plan\\tkitchen_area\\tbalcony\\tlocality_name\\tairports_nearest\\tcityCenters_nearest\\tparks_around3000\\tparks_nearest\\tponds_around3000\\tponds_nearest\\tdays_exposition</th>\n",
       "    </tr>\n",
       "  </thead>\n",
       "  <tbody>\n",
       "    <tr>\n",
       "      <th>0</th>\n",
       "      <td>20\\t13000000.0\\t108.0\\t2019-03-07T00:00:00\\t3\\...</td>\n",
       "    </tr>\n",
       "    <tr>\n",
       "      <th>1</th>\n",
       "      <td>7\\t3350000.0\\t40.4\\t2018-12-04T00:00:00\\t1\\t\\t...</td>\n",
       "    </tr>\n",
       "    <tr>\n",
       "      <th>2</th>\n",
       "      <td>10\\t5196000.0\\t56.0\\t2015-08-20T00:00:00\\t2\\t\\...</td>\n",
       "    </tr>\n",
       "    <tr>\n",
       "      <th>3</th>\n",
       "      <td>0\\t64900000.0\\t159.0\\t2015-07-24T00:00:00\\t3\\t...</td>\n",
       "    </tr>\n",
       "    <tr>\n",
       "      <th>4</th>\n",
       "      <td>2\\t10000000.0\\t100.0\\t2018-06-19T00:00:00\\t2\\t...</td>\n",
       "    </tr>\n",
       "  </tbody>\n",
       "</table>\n",
       "</div>"
      ],
      "text/plain": [
       "  total_images\\tlast_price\\ttotal_area\\tfirst_day_exposition\\trooms\\tceiling_height\\tfloors_total\\tliving_area\\tfloor\\tis_apartment\\tstudio\\topen_plan\\tkitchen_area\\tbalcony\\tlocality_name\\tairports_nearest\\tcityCenters_nearest\\tparks_around3000\\tparks_nearest\\tponds_around3000\\tponds_nearest\\tdays_exposition\n",
       "0  20\\t13000000.0\\t108.0\\t2019-03-07T00:00:00\\t3\\...                                                                                                                                                                                                                                                                  \n",
       "1  7\\t3350000.0\\t40.4\\t2018-12-04T00:00:00\\t1\\t\\t...                                                                                                                                                                                                                                                                  \n",
       "2  10\\t5196000.0\\t56.0\\t2015-08-20T00:00:00\\t2\\t\\...                                                                                                                                                                                                                                                                  \n",
       "3  0\\t64900000.0\\t159.0\\t2015-07-24T00:00:00\\t3\\t...                                                                                                                                                                                                                                                                  \n",
       "4  2\\t10000000.0\\t100.0\\t2018-06-19T00:00:00\\t2\\t...                                                                                                                                                                                                                                                                  "
      ]
     },
     "execution_count": 3,
     "metadata": {},
     "output_type": "execute_result"
    }
   ],
   "source": [
    "# получение первых 5 строк таблицы data\n",
    "data.head()"
   ]
  },
  {
   "cell_type": "markdown",
   "metadata": {},
   "source": [
    "Мы видим, что данные склеились в одну строку из-за разделителя `\\t`. Добавим параметр `sep`, чтобы разбить текст на колонки."
   ]
  },
  {
   "cell_type": "code",
   "execution_count": 4,
   "metadata": {},
   "outputs": [],
   "source": [
    "# чтение файла с данными и сохранение в data\n",
    "try:\n",
    "    data = pd.read_csv('real_estate_data.csv', sep='\\t')\n",
    "except:\n",
    "    data = pd.read_csv('/datasets/real_estate_data.csv', sep='\\t')\n",
    "# настройка pandas для увеличения количества отражаемых столбцов\n",
    "pd.set_option('display.max_columns', 50) "
   ]
  },
  {
   "cell_type": "markdown",
   "metadata": {},
   "source": [
    "Проверим, разделился ли текст на колонки и все ли столбцы отображаются. Выведем еще раз первые строки `data` на экран."
   ]
  },
  {
   "cell_type": "code",
   "execution_count": 5,
   "metadata": {
    "scrolled": true
   },
   "outputs": [
    {
     "data": {
      "text/html": [
       "<div>\n",
       "<style scoped>\n",
       "    .dataframe tbody tr th:only-of-type {\n",
       "        vertical-align: middle;\n",
       "    }\n",
       "\n",
       "    .dataframe tbody tr th {\n",
       "        vertical-align: top;\n",
       "    }\n",
       "\n",
       "    .dataframe thead th {\n",
       "        text-align: right;\n",
       "    }\n",
       "</style>\n",
       "<table border=\"1\" class=\"dataframe\">\n",
       "  <thead>\n",
       "    <tr style=\"text-align: right;\">\n",
       "      <th></th>\n",
       "      <th>total_images</th>\n",
       "      <th>last_price</th>\n",
       "      <th>total_area</th>\n",
       "      <th>first_day_exposition</th>\n",
       "      <th>rooms</th>\n",
       "      <th>ceiling_height</th>\n",
       "      <th>floors_total</th>\n",
       "      <th>living_area</th>\n",
       "      <th>floor</th>\n",
       "      <th>is_apartment</th>\n",
       "      <th>studio</th>\n",
       "      <th>open_plan</th>\n",
       "      <th>kitchen_area</th>\n",
       "      <th>balcony</th>\n",
       "      <th>locality_name</th>\n",
       "      <th>airports_nearest</th>\n",
       "      <th>cityCenters_nearest</th>\n",
       "      <th>parks_around3000</th>\n",
       "      <th>parks_nearest</th>\n",
       "      <th>ponds_around3000</th>\n",
       "      <th>ponds_nearest</th>\n",
       "      <th>days_exposition</th>\n",
       "    </tr>\n",
       "  </thead>\n",
       "  <tbody>\n",
       "    <tr>\n",
       "      <th>0</th>\n",
       "      <td>20</td>\n",
       "      <td>13000000.0</td>\n",
       "      <td>108.0</td>\n",
       "      <td>2019-03-07T00:00:00</td>\n",
       "      <td>3</td>\n",
       "      <td>2.70</td>\n",
       "      <td>16.0</td>\n",
       "      <td>51.0</td>\n",
       "      <td>8</td>\n",
       "      <td>NaN</td>\n",
       "      <td>False</td>\n",
       "      <td>False</td>\n",
       "      <td>25.0</td>\n",
       "      <td>NaN</td>\n",
       "      <td>Санкт-Петербург</td>\n",
       "      <td>18863.0</td>\n",
       "      <td>16028.0</td>\n",
       "      <td>1.0</td>\n",
       "      <td>482.0</td>\n",
       "      <td>2.0</td>\n",
       "      <td>755.0</td>\n",
       "      <td>NaN</td>\n",
       "    </tr>\n",
       "    <tr>\n",
       "      <th>1</th>\n",
       "      <td>7</td>\n",
       "      <td>3350000.0</td>\n",
       "      <td>40.4</td>\n",
       "      <td>2018-12-04T00:00:00</td>\n",
       "      <td>1</td>\n",
       "      <td>NaN</td>\n",
       "      <td>11.0</td>\n",
       "      <td>18.6</td>\n",
       "      <td>1</td>\n",
       "      <td>NaN</td>\n",
       "      <td>False</td>\n",
       "      <td>False</td>\n",
       "      <td>11.0</td>\n",
       "      <td>2.0</td>\n",
       "      <td>посёлок Шушары</td>\n",
       "      <td>12817.0</td>\n",
       "      <td>18603.0</td>\n",
       "      <td>0.0</td>\n",
       "      <td>NaN</td>\n",
       "      <td>0.0</td>\n",
       "      <td>NaN</td>\n",
       "      <td>81.0</td>\n",
       "    </tr>\n",
       "    <tr>\n",
       "      <th>2</th>\n",
       "      <td>10</td>\n",
       "      <td>5196000.0</td>\n",
       "      <td>56.0</td>\n",
       "      <td>2015-08-20T00:00:00</td>\n",
       "      <td>2</td>\n",
       "      <td>NaN</td>\n",
       "      <td>5.0</td>\n",
       "      <td>34.3</td>\n",
       "      <td>4</td>\n",
       "      <td>NaN</td>\n",
       "      <td>False</td>\n",
       "      <td>False</td>\n",
       "      <td>8.3</td>\n",
       "      <td>0.0</td>\n",
       "      <td>Санкт-Петербург</td>\n",
       "      <td>21741.0</td>\n",
       "      <td>13933.0</td>\n",
       "      <td>1.0</td>\n",
       "      <td>90.0</td>\n",
       "      <td>2.0</td>\n",
       "      <td>574.0</td>\n",
       "      <td>558.0</td>\n",
       "    </tr>\n",
       "    <tr>\n",
       "      <th>3</th>\n",
       "      <td>0</td>\n",
       "      <td>64900000.0</td>\n",
       "      <td>159.0</td>\n",
       "      <td>2015-07-24T00:00:00</td>\n",
       "      <td>3</td>\n",
       "      <td>NaN</td>\n",
       "      <td>14.0</td>\n",
       "      <td>NaN</td>\n",
       "      <td>9</td>\n",
       "      <td>NaN</td>\n",
       "      <td>False</td>\n",
       "      <td>False</td>\n",
       "      <td>NaN</td>\n",
       "      <td>0.0</td>\n",
       "      <td>Санкт-Петербург</td>\n",
       "      <td>28098.0</td>\n",
       "      <td>6800.0</td>\n",
       "      <td>2.0</td>\n",
       "      <td>84.0</td>\n",
       "      <td>3.0</td>\n",
       "      <td>234.0</td>\n",
       "      <td>424.0</td>\n",
       "    </tr>\n",
       "    <tr>\n",
       "      <th>4</th>\n",
       "      <td>2</td>\n",
       "      <td>10000000.0</td>\n",
       "      <td>100.0</td>\n",
       "      <td>2018-06-19T00:00:00</td>\n",
       "      <td>2</td>\n",
       "      <td>3.03</td>\n",
       "      <td>14.0</td>\n",
       "      <td>32.0</td>\n",
       "      <td>13</td>\n",
       "      <td>NaN</td>\n",
       "      <td>False</td>\n",
       "      <td>False</td>\n",
       "      <td>41.0</td>\n",
       "      <td>NaN</td>\n",
       "      <td>Санкт-Петербург</td>\n",
       "      <td>31856.0</td>\n",
       "      <td>8098.0</td>\n",
       "      <td>2.0</td>\n",
       "      <td>112.0</td>\n",
       "      <td>1.0</td>\n",
       "      <td>48.0</td>\n",
       "      <td>121.0</td>\n",
       "    </tr>\n",
       "  </tbody>\n",
       "</table>\n",
       "</div>"
      ],
      "text/plain": [
       "   total_images  last_price  total_area first_day_exposition  rooms  \\\n",
       "0            20  13000000.0       108.0  2019-03-07T00:00:00      3   \n",
       "1             7   3350000.0        40.4  2018-12-04T00:00:00      1   \n",
       "2            10   5196000.0        56.0  2015-08-20T00:00:00      2   \n",
       "3             0  64900000.0       159.0  2015-07-24T00:00:00      3   \n",
       "4             2  10000000.0       100.0  2018-06-19T00:00:00      2   \n",
       "\n",
       "   ceiling_height  floors_total  living_area  floor is_apartment  studio  \\\n",
       "0            2.70          16.0         51.0      8          NaN   False   \n",
       "1             NaN          11.0         18.6      1          NaN   False   \n",
       "2             NaN           5.0         34.3      4          NaN   False   \n",
       "3             NaN          14.0          NaN      9          NaN   False   \n",
       "4            3.03          14.0         32.0     13          NaN   False   \n",
       "\n",
       "   open_plan  kitchen_area  balcony    locality_name  airports_nearest  \\\n",
       "0      False          25.0      NaN  Санкт-Петербург           18863.0   \n",
       "1      False          11.0      2.0   посёлок Шушары           12817.0   \n",
       "2      False           8.3      0.0  Санкт-Петербург           21741.0   \n",
       "3      False           NaN      0.0  Санкт-Петербург           28098.0   \n",
       "4      False          41.0      NaN  Санкт-Петербург           31856.0   \n",
       "\n",
       "   cityCenters_nearest  parks_around3000  parks_nearest  ponds_around3000  \\\n",
       "0              16028.0               1.0          482.0               2.0   \n",
       "1              18603.0               0.0            NaN               0.0   \n",
       "2              13933.0               1.0           90.0               2.0   \n",
       "3               6800.0               2.0           84.0               3.0   \n",
       "4               8098.0               2.0          112.0               1.0   \n",
       "\n",
       "   ponds_nearest  days_exposition  \n",
       "0          755.0              NaN  \n",
       "1            NaN             81.0  \n",
       "2          574.0            558.0  \n",
       "3          234.0            424.0  \n",
       "4           48.0            121.0  "
      ]
     },
     "execution_count": 5,
     "metadata": {},
     "output_type": "execute_result"
    }
   ],
   "source": [
    "data.head()"
   ]
  },
  {
   "cell_type": "markdown",
   "metadata": {},
   "source": [
    "Текст разделился на колонки. Выведем основную информацию о датафрейме с помощью метода `info`."
   ]
  },
  {
   "cell_type": "code",
   "execution_count": 6,
   "metadata": {
    "scrolled": true
   },
   "outputs": [
    {
     "name": "stdout",
     "output_type": "stream",
     "text": [
      "<class 'pandas.core.frame.DataFrame'>\n",
      "RangeIndex: 23699 entries, 0 to 23698\n",
      "Data columns (total 22 columns):\n",
      " #   Column                Non-Null Count  Dtype  \n",
      "---  ------                --------------  -----  \n",
      " 0   total_images          23699 non-null  int64  \n",
      " 1   last_price            23699 non-null  float64\n",
      " 2   total_area            23699 non-null  float64\n",
      " 3   first_day_exposition  23699 non-null  object \n",
      " 4   rooms                 23699 non-null  int64  \n",
      " 5   ceiling_height        14504 non-null  float64\n",
      " 6   floors_total          23613 non-null  float64\n",
      " 7   living_area           21796 non-null  float64\n",
      " 8   floor                 23699 non-null  int64  \n",
      " 9   is_apartment          2775 non-null   object \n",
      " 10  studio                23699 non-null  bool   \n",
      " 11  open_plan             23699 non-null  bool   \n",
      " 12  kitchen_area          21421 non-null  float64\n",
      " 13  balcony               12180 non-null  float64\n",
      " 14  locality_name         23650 non-null  object \n",
      " 15  airports_nearest      18157 non-null  float64\n",
      " 16  cityCenters_nearest   18180 non-null  float64\n",
      " 17  parks_around3000      18181 non-null  float64\n",
      " 18  parks_nearest         8079 non-null   float64\n",
      " 19  ponds_around3000      18181 non-null  float64\n",
      " 20  ponds_nearest         9110 non-null   float64\n",
      " 21  days_exposition       20518 non-null  float64\n",
      "dtypes: bool(2), float64(14), int64(3), object(3)\n",
      "memory usage: 3.7+ MB\n"
     ]
    }
   ],
   "source": [
    "# получение общей информации о данных в таблице data\n",
    "data.info()"
   ]
  },
  {
   "cell_type": "markdown",
   "metadata": {},
   "source": [
    "Итак, в таблице 22 столбца и 23699 строк. Значения представлены четырех видов - `int64`, `float64`, `bool` и `object`. В дальнейшем мы изучим их поближе и при необходимости заменим на необходимые.\n",
    "\n",
    "Определим распределение числовых значений в таблице, для этого построим общую гистограмму по всем столбцам со значениями `int64` и `float64`."
   ]
  },
  {
   "cell_type": "code",
   "execution_count": 7,
   "metadata": {
    "scrolled": true
   },
   "outputs": [
    {
     "data": {
      "image/png": "[encoded data removed]",
      "text/plain": [
       "<Figure size 1080x1440 with 20 Axes>"
      ]
     },
     "metadata": {
      "needs_background": "light"
     },
     "output_type": "display_data"
    }
   ],
   "source": [
    "# построение гистограмм по числовым столбцам data\n",
    "data.hist(figsize=(15, 20))\n",
    "None"
   ]
  },
  {
   "cell_type": "code",
   "execution_count": 8,
   "metadata": {},
   "outputs": [
    {
     "data": {
      "image/png": "[encoded data removed]",
      "text/plain": [
       "<Figure size 1080x1440 with 20 Axes>"
      ]
     },
     "metadata": {
      "needs_background": "light"
     },
     "output_type": "display_data"
    }
   ],
   "source": [
    "# Код ревьюера\n",
    "\n",
    "data.hist(figsize=(15, 20))\n",
    "None"
   ]
  },
  {
   "cell_type": "code",
   "execution_count": 9,
   "metadata": {
    "scrolled": false
   },
   "outputs": [
    {
     "data": {
      "text/html": [
       "<div>\n",
       "<style scoped>\n",
       "    .dataframe tbody tr th:only-of-type {\n",
       "        vertical-align: middle;\n",
       "    }\n",
       "\n",
       "    .dataframe tbody tr th {\n",
       "        vertical-align: top;\n",
       "    }\n",
       "\n",
       "    .dataframe thead th {\n",
       "        text-align: right;\n",
       "    }\n",
       "</style>\n",
       "<table border=\"1\" class=\"dataframe\">\n",
       "  <thead>\n",
       "    <tr style=\"text-align: right;\">\n",
       "      <th></th>\n",
       "      <th>total_images</th>\n",
       "      <th>last_price</th>\n",
       "      <th>total_area</th>\n",
       "      <th>rooms</th>\n",
       "      <th>ceiling_height</th>\n",
       "      <th>floors_total</th>\n",
       "      <th>living_area</th>\n",
       "      <th>floor</th>\n",
       "      <th>kitchen_area</th>\n",
       "      <th>balcony</th>\n",
       "      <th>airports_nearest</th>\n",
       "      <th>cityCenters_nearest</th>\n",
       "      <th>parks_around3000</th>\n",
       "      <th>parks_nearest</th>\n",
       "      <th>ponds_around3000</th>\n",
       "      <th>ponds_nearest</th>\n",
       "      <th>days_exposition</th>\n",
       "    </tr>\n",
       "  </thead>\n",
       "  <tbody>\n",
       "    <tr>\n",
       "      <th>count</th>\n",
       "      <td>23699.000000</td>\n",
       "      <td>2.369900e+04</td>\n",
       "      <td>23699.000000</td>\n",
       "      <td>23699.000000</td>\n",
       "      <td>14504.000000</td>\n",
       "      <td>23613.000000</td>\n",
       "      <td>21796.000000</td>\n",
       "      <td>23699.000000</td>\n",
       "      <td>21421.000000</td>\n",
       "      <td>12180.000000</td>\n",
       "      <td>18157.000000</td>\n",
       "      <td>18180.000000</td>\n",
       "      <td>18181.000000</td>\n",
       "      <td>8079.000000</td>\n",
       "      <td>18181.000000</td>\n",
       "      <td>9110.000000</td>\n",
       "      <td>20518.000000</td>\n",
       "    </tr>\n",
       "    <tr>\n",
       "      <th>mean</th>\n",
       "      <td>9.858475</td>\n",
       "      <td>6.541549e+06</td>\n",
       "      <td>60.348651</td>\n",
       "      <td>2.070636</td>\n",
       "      <td>2.771499</td>\n",
       "      <td>10.673824</td>\n",
       "      <td>34.457852</td>\n",
       "      <td>5.892358</td>\n",
       "      <td>10.569807</td>\n",
       "      <td>1.150082</td>\n",
       "      <td>28793.672193</td>\n",
       "      <td>14191.277833</td>\n",
       "      <td>0.611408</td>\n",
       "      <td>490.804555</td>\n",
       "      <td>0.770255</td>\n",
       "      <td>517.980900</td>\n",
       "      <td>180.888634</td>\n",
       "    </tr>\n",
       "    <tr>\n",
       "      <th>std</th>\n",
       "      <td>5.682529</td>\n",
       "      <td>1.088701e+07</td>\n",
       "      <td>35.654083</td>\n",
       "      <td>1.078405</td>\n",
       "      <td>1.261056</td>\n",
       "      <td>6.597173</td>\n",
       "      <td>22.030445</td>\n",
       "      <td>4.885249</td>\n",
       "      <td>5.905438</td>\n",
       "      <td>1.071300</td>\n",
       "      <td>12630.880622</td>\n",
       "      <td>8608.386210</td>\n",
       "      <td>0.802074</td>\n",
       "      <td>342.317995</td>\n",
       "      <td>0.938346</td>\n",
       "      <td>277.720643</td>\n",
       "      <td>219.727988</td>\n",
       "    </tr>\n",
       "    <tr>\n",
       "      <th>min</th>\n",
       "      <td>0.000000</td>\n",
       "      <td>1.219000e+04</td>\n",
       "      <td>12.000000</td>\n",
       "      <td>0.000000</td>\n",
       "      <td>1.000000</td>\n",
       "      <td>1.000000</td>\n",
       "      <td>2.000000</td>\n",
       "      <td>1.000000</td>\n",
       "      <td>1.300000</td>\n",
       "      <td>0.000000</td>\n",
       "      <td>0.000000</td>\n",
       "      <td>181.000000</td>\n",
       "      <td>0.000000</td>\n",
       "      <td>1.000000</td>\n",
       "      <td>0.000000</td>\n",
       "      <td>13.000000</td>\n",
       "      <td>1.000000</td>\n",
       "    </tr>\n",
       "    <tr>\n",
       "      <th>25%</th>\n",
       "      <td>6.000000</td>\n",
       "      <td>3.400000e+06</td>\n",
       "      <td>40.000000</td>\n",
       "      <td>1.000000</td>\n",
       "      <td>2.520000</td>\n",
       "      <td>5.000000</td>\n",
       "      <td>18.600000</td>\n",
       "      <td>2.000000</td>\n",
       "      <td>7.000000</td>\n",
       "      <td>0.000000</td>\n",
       "      <td>18585.000000</td>\n",
       "      <td>9238.000000</td>\n",
       "      <td>0.000000</td>\n",
       "      <td>288.000000</td>\n",
       "      <td>0.000000</td>\n",
       "      <td>294.000000</td>\n",
       "      <td>45.000000</td>\n",
       "    </tr>\n",
       "    <tr>\n",
       "      <th>50%</th>\n",
       "      <td>9.000000</td>\n",
       "      <td>4.650000e+06</td>\n",
       "      <td>52.000000</td>\n",
       "      <td>2.000000</td>\n",
       "      <td>2.650000</td>\n",
       "      <td>9.000000</td>\n",
       "      <td>30.000000</td>\n",
       "      <td>4.000000</td>\n",
       "      <td>9.100000</td>\n",
       "      <td>1.000000</td>\n",
       "      <td>26726.000000</td>\n",
       "      <td>13098.500000</td>\n",
       "      <td>0.000000</td>\n",
       "      <td>455.000000</td>\n",
       "      <td>1.000000</td>\n",
       "      <td>502.000000</td>\n",
       "      <td>95.000000</td>\n",
       "    </tr>\n",
       "    <tr>\n",
       "      <th>75%</th>\n",
       "      <td>14.000000</td>\n",
       "      <td>6.800000e+06</td>\n",
       "      <td>69.900000</td>\n",
       "      <td>3.000000</td>\n",
       "      <td>2.800000</td>\n",
       "      <td>16.000000</td>\n",
       "      <td>42.300000</td>\n",
       "      <td>8.000000</td>\n",
       "      <td>12.000000</td>\n",
       "      <td>2.000000</td>\n",
       "      <td>37273.000000</td>\n",
       "      <td>16293.000000</td>\n",
       "      <td>1.000000</td>\n",
       "      <td>612.000000</td>\n",
       "      <td>1.000000</td>\n",
       "      <td>729.000000</td>\n",
       "      <td>232.000000</td>\n",
       "    </tr>\n",
       "    <tr>\n",
       "      <th>max</th>\n",
       "      <td>50.000000</td>\n",
       "      <td>7.630000e+08</td>\n",
       "      <td>900.000000</td>\n",
       "      <td>19.000000</td>\n",
       "      <td>100.000000</td>\n",
       "      <td>60.000000</td>\n",
       "      <td>409.700000</td>\n",
       "      <td>33.000000</td>\n",
       "      <td>112.000000</td>\n",
       "      <td>5.000000</td>\n",
       "      <td>84869.000000</td>\n",
       "      <td>65968.000000</td>\n",
       "      <td>3.000000</td>\n",
       "      <td>3190.000000</td>\n",
       "      <td>3.000000</td>\n",
       "      <td>1344.000000</td>\n",
       "      <td>1580.000000</td>\n",
       "    </tr>\n",
       "  </tbody>\n",
       "</table>\n",
       "</div>"
      ],
      "text/plain": [
       "       total_images    last_price    total_area         rooms  ceiling_height  \\\n",
       "count  23699.000000  2.369900e+04  23699.000000  23699.000000    14504.000000   \n",
       "mean       9.858475  6.541549e+06     60.348651      2.070636        2.771499   \n",
       "std        5.682529  1.088701e+07     35.654083      1.078405        1.261056   \n",
       "min        0.000000  1.219000e+04     12.000000      0.000000        1.000000   \n",
       "25%        6.000000  3.400000e+06     40.000000      1.000000        2.520000   \n",
       "50%        9.000000  4.650000e+06     52.000000      2.000000        2.650000   \n",
       "75%       14.000000  6.800000e+06     69.900000      3.000000        2.800000   \n",
       "max       50.000000  7.630000e+08    900.000000     19.000000      100.000000   \n",
       "\n",
       "       floors_total   living_area         floor  kitchen_area       balcony  \\\n",
       "count  23613.000000  21796.000000  23699.000000  21421.000000  12180.000000   \n",
       "mean      10.673824     34.457852      5.892358     10.569807      1.150082   \n",
       "std        6.597173     22.030445      4.885249      5.905438      1.071300   \n",
       "min        1.000000      2.000000      1.000000      1.300000      0.000000   \n",
       "25%        5.000000     18.600000      2.000000      7.000000      0.000000   \n",
       "50%        9.000000     30.000000      4.000000      9.100000      1.000000   \n",
       "75%       16.000000     42.300000      8.000000     12.000000      2.000000   \n",
       "max       60.000000    409.700000     33.000000    112.000000      5.000000   \n",
       "\n",
       "       airports_nearest  cityCenters_nearest  parks_around3000  parks_nearest  \\\n",
       "count      18157.000000         18180.000000      18181.000000    8079.000000   \n",
       "mean       28793.672193         14191.277833          0.611408     490.804555   \n",
       "std        12630.880622          8608.386210          0.802074     342.317995   \n",
       "min            0.000000           181.000000          0.000000       1.000000   \n",
       "25%        18585.000000          9238.000000          0.000000     288.000000   \n",
       "50%        26726.000000         13098.500000          0.000000     455.000000   \n",
       "75%        37273.000000         16293.000000          1.000000     612.000000   \n",
       "max        84869.000000         65968.000000          3.000000    3190.000000   \n",
       "\n",
       "       ponds_around3000  ponds_nearest  days_exposition  \n",
       "count      18181.000000    9110.000000     20518.000000  \n",
       "mean           0.770255     517.980900       180.888634  \n",
       "std            0.938346     277.720643       219.727988  \n",
       "min            0.000000      13.000000         1.000000  \n",
       "25%            0.000000     294.000000        45.000000  \n",
       "50%            1.000000     502.000000        95.000000  \n",
       "75%            1.000000     729.000000       232.000000  \n",
       "max            3.000000    1344.000000      1580.000000  "
      ]
     },
     "execution_count": 9,
     "metadata": {},
     "output_type": "execute_result"
    }
   ],
   "source": [
    "# получение основных статистических значений числовых столбцов data\n",
    "data.describe()"
   ]
  },
  {
   "cell_type": "markdown",
   "metadata": {},
   "source": [
    "Оценив распределение числовых признаков мы можем сделать первичные выводы:\n",
    "\n",
    "* В большинстве объявлений содержится до 20 фотографий, при этом более, чем у четырех тысяч обьявлений фотографии отсутствуют вовсе.\n",
    "* Распределение цен на момент снятия с публикации тяжело оценить на этой гистограмме, так как значения представлены в шестнадцатеричной системе, в дальнейшем при анализе мы дополнительно обработаем и исследуем их. \n",
    "* У абсолютного большинства квартир, представленных на сайте, общая площадь не превышает 100 квадратных метров.\n",
    "* Количество комнат в большинстве обьектов недвижимости менее 5. Более точные значения при необходимости можно будет оценить с помощью дальнейшего анализа.\n",
    "* Высока потолков в большинстве квартир типичная, однако мы можем увидеть на гистограмме аномальные значения около 25м и даже около 100м. Необходимо будет исследовать это.\n",
    "* Большинство обьектов недвижимости располагаются в домах высотой до 20 этажей.\n",
    "* Жилая площадь у большинства объектов не превышает 50 квадратных метров.\n",
    "* Чуть более двенадцати тысяч объектов недвижимости располагаются до 5 этажа.\n",
    "* Площадь кухни в абсолютном большинстве объектов недвижимости менее двадцати пяти квадратных метров и только единичных случаях превышает это значение.\n",
    "* Больше всего представлено квартир с одним балконом, но так же большое количество квартир с двумя или вообще без балкона. Три и более балконов встречаются редко.\n",
    "* Большинство объектов недвижимости находятся в непосредственной удаленности от аэропорта от 10км до 60км, и близости к центру города до 20км. Небольшая часть объектов находятся на расстоянии от 20км до 40км от центра.\n",
    "* Распределения частоты парков и водоемов в радиусе 3км похожи - у большинства объектов недвижимости на этом расстоянии нет парков или водоемов, у 6 тысяч объектов в этом радиусе есть 1 парк или водоем. При этом интересно отметить, что у тех счастливчиков, у которых все-таки они есть, ближайший парк или водоем в большинстве находятся на расстоянии до 1км.\n",
    "* Большинство объявлений от публикации до продажи были представлены на сайте менее 500 дней."
   ]
  },
  {
   "cell_type": "markdown",
   "metadata": {},
   "source": [
    "#### Вывод"
   ]
  },
  {
   "cell_type": "markdown",
   "metadata": {},
   "source": [
    "Первичный анализ показал, что большинство гистограмм смещены или отсечены. Это говорит о том, что данные признаки не распределены\n",
    "нормально.  Распределение ближайших водоёмов больше похоже на распределение Пуассона. Мы проведем предобработку, а затем приступим к исследовательскому анализу данных и определим зависимости, которые существуют на рынке недвижимости."
   ]
  },
  {
   "cell_type": "markdown",
   "metadata": {},
   "source": [
    "### 2. Предобработка данных"
   ]
  },
  {
   "cell_type": "markdown",
   "metadata": {},
   "source": [
    "#### Удаление пропусков"
   ]
  },
  {
   "cell_type": "markdown",
   "metadata": {},
   "source": [
    "Выведем количество пропущенных значений для каждого столбца."
   ]
  },
  {
   "cell_type": "code",
   "execution_count": 10,
   "metadata": {
    "scrolled": true
   },
   "outputs": [
    {
     "data": {
      "text/plain": [
       "total_images                0\n",
       "open_plan                   0\n",
       "floor                       0\n",
       "rooms                       0\n",
       "studio                      0\n",
       "total_area                  0\n",
       "last_price                  0\n",
       "first_day_exposition        0\n",
       "locality_name              49\n",
       "floors_total               86\n",
       "living_area              1903\n",
       "kitchen_area             2278\n",
       "days_exposition          3181\n",
       "ponds_around3000         5518\n",
       "parks_around3000         5518\n",
       "cityCenters_nearest      5519\n",
       "airports_nearest         5542\n",
       "ceiling_height           9195\n",
       "balcony                 11519\n",
       "ponds_nearest           14589\n",
       "parks_nearest           15620\n",
       "is_apartment            20924\n",
       "dtype: int64"
      ]
     },
     "execution_count": 10,
     "metadata": {},
     "output_type": "execute_result"
    }
   ],
   "source": [
    "# подсчёт пропусков\n",
    "data.isna().sum().sort_values()\n"
   ]
  },
  {
   "cell_type": "code",
   "execution_count": 11,
   "metadata": {},
   "outputs": [
    {
     "data": {
      "text/plain": [
       "total_images             0.000000\n",
       "last_price               0.000000\n",
       "total_area               0.000000\n",
       "first_day_exposition     0.000000\n",
       "rooms                    0.000000\n",
       "ceiling_height          38.799105\n",
       "floors_total             0.362885\n",
       "living_area              8.029875\n",
       "floor                    0.000000\n",
       "is_apartment            88.290645\n",
       "studio                   0.000000\n",
       "open_plan                0.000000\n",
       "kitchen_area             9.612220\n",
       "balcony                 48.605426\n",
       "locality_name            0.206760\n",
       "airports_nearest        23.384953\n",
       "cityCenters_nearest     23.287902\n",
       "parks_around3000        23.283683\n",
       "parks_nearest           65.909954\n",
       "ponds_around3000        23.283683\n",
       "ponds_nearest           61.559559\n",
       "days_exposition         13.422507\n",
       "dtype: float64"
      ]
     },
     "execution_count": 11,
     "metadata": {},
     "output_type": "execute_result"
    }
   ],
   "source": [
    "# подсчёт процента пропусков\n",
    "data.isna().sum() / len(data) * 100"
   ]
  },
  {
   "cell_type": "markdown",
   "metadata": {},
   "source": [
    "Мы видим много столбцов с пропущенными значениями. Для начала оценим столбцы с признаками, которые заполнялись пользователями, а значит появились по причине человеческого фактора.\n",
    "\n",
    "Больше всего пропусков в столбце `is_apartment`. Этот столбец заполнялся пользователем, поэтому вероятно, что пропущенные значения могли появиться, когда обладатель жилой недвижимости, а не апартаментов, пропустил этот пункт и не выбрал обратное. Таким образом, мы можем заполнить все пропущенные значения в данном столбце на значение `False`."
   ]
  },
  {
   "cell_type": "code",
   "execution_count": 12,
   "metadata": {},
   "outputs": [],
   "source": [
    "# заполнение нулевых значений в столбце 'is_apartment' \n",
    "data['is_apartment'] = data['is_apartment'].fillna('False')"
   ]
  },
  {
   "cell_type": "markdown",
   "metadata": {},
   "source": [
    "Также, почти половина значений пропущены в стобце с количеством балконов. Вероятно, если продавец не указал число балконов, то в квартире их нет. Такие пропущенные значения логично заменить на 0."
   ]
  },
  {
   "cell_type": "code",
   "execution_count": 13,
   "metadata": {},
   "outputs": [],
   "source": [
    "# заполнение нулевых значений в столбце 'balcony' \n",
    "data['balcony'] = data['balcony'].fillna(0)"
   ]
  },
  {
   "cell_type": "markdown",
   "metadata": {},
   "source": [
    "Много пропусков в столбце с высотой потолка. По первичному анализу видно, что почти во всех объектах высота потолков находится в одном схожем диапазоне, кроме аномальных значений, а также среднее почти совпадает с медианой. Максимальное значение в столбце - 100м, а минимальное - 1м, таких значений не бывает. Удалим аномальные значения до 2 м и свыше 40м, а значения свыше 10м и пропущенные значения заполним медианой."
   ]
  },
  {
   "cell_type": "code",
   "execution_count": 14,
   "metadata": {},
   "outputs": [
    {
     "data": {
      "text/plain": [
       "0.0"
      ]
     },
     "execution_count": 14,
     "metadata": {},
     "output_type": "execute_result"
    }
   ],
   "source": [
    "# заполнение нулевых значений и значений выше 10м медианой\n",
    "data['ceiling_height'] = data['ceiling_height'].fillna(data['ceiling_height'].median())\n",
    "data.loc[data['ceiling_height'] > 10] = data['ceiling_height'].median()\n",
    "\n",
    "# подсчёт процента строк со значениями высоты потолков меньше 2м и больше 40м от всех строк\n",
    "len(data.loc[(data['ceiling_height'] < 2) & (data['ceiling_height'] > 40)]) / len(data) * 100"
   ]
  },
  {
   "cell_type": "markdown",
   "metadata": {},
   "source": [
    "Количество строк, в которых значения высоты потолков менее 2 метров и более 40 метров составляют менее одной десятой процента, поэтому мы можем уверенно избавиться от них."
   ]
  },
  {
   "cell_type": "code",
   "execution_count": 15,
   "metadata": {},
   "outputs": [],
   "source": [
    "# удаление из датафрнейма строк со значениями высоты потолков меньше 2м и больше 40м\n",
    "data = data.loc[(data['ceiling_height'] > 2) & (data['ceiling_height'] < 40)]"
   ]
  },
  {
   "cell_type": "markdown",
   "metadata": {},
   "source": [
    "В столбце `living_area` заполним пропуски медианным значением по количеству комнат в объекте недвижимости для того, чтобы после заполнения избежать ошибки `total_area` < `living_area`. По аналогии заполним пропущенные значения в столбце `kitchen_area`."
   ]
  },
  {
   "cell_type": "code",
   "execution_count": 17,
   "metadata": {},
   "outputs": [],
   "source": [
    "# заполнение нулевых значений в столбце `living_area` по количеству комнат\n",
    "data['living_area'] = data['living_area']\\\n",
    "    .fillna(data.groupby('rooms')['living_area'].transform('median'))\n",
    "        \n",
    "# заполнение нулевых значений в столбце `kitchen_area` по количеству комнат \n",
    "data['kitchen_area'] = data['kitchen_area']\\\n",
    "    .fillna(data.groupby('rooms')['kitchen_area'].transform('median'))"
   ]
  },
  {
   "cell_type": "markdown",
   "metadata": {},
   "source": [
    "Из пропущенных значений, возникших по причине человеческого фактора, осталось 86 пропущенных значений в столбце `floors_total`. Для того, чтобы избежать ошибки, при которой общее количество этажей в доме будет меньше этажа квартиры, заменим пропущенные значения в данном столбце на этаж квартиры."
   ]
  },
  {
   "cell_type": "code",
   "execution_count": 18,
   "metadata": {},
   "outputs": [],
   "source": [
    "# заполнение нулевых значений в столбце 'floors_total' \n",
    "data['floors_total'] = data['floors_total'].fillna(data['floor'])"
   ]
  },
  {
   "cell_type": "markdown",
   "metadata": {},
   "source": [
    "Мы обработали все пропуски, возникшие по причине человеческого фактора. Оставшиеся пропуски возникли в столбцах, которые были заполнены автоматически на основе картографических данных. Мы можем предположить, что данные пропуски возникли в связи с тем, что не был определен точный адрес объекта недвижимости или в связи с тем, что автоматическая система недостаточно корректно определяет значения. \n",
    "\n",
    "В столбце `locality_name` количество пропусков всего 49, заполнить их мы не можем, так как в столбце не числовые значения, а название населенного пункта. В таком случае, данные строки из датафрейма лучше удалить, так как мы не сможем получить необходимые для исследования данные без определения населенного пункта, в котором расположен объект, а значительного влияния на достоверность исследования удаление такого небольшого количества строк не повлияет."
   ]
  },
  {
   "cell_type": "code",
   "execution_count": 19,
   "metadata": {},
   "outputs": [],
   "source": [
    "# удаление строк с нулевыми значениями в столбце 'locality_name'\n",
    "data.dropna(subset=['locality_name'], inplace=True)"
   ]
  },
  {
   "cell_type": "markdown",
   "metadata": {},
   "source": [
    "В столбцах `airports_nearest`, `cityCenters_nearest`, `parks_around3000`, `parks_nearest`, `ponds_around3000`, `ponds_nearest` пропущены значения удаленности объекта от аэропорта, центра города, парков и водоёмов. Данные незаполненные значения мы оставим, так как они зависят от географического положения и их неточность может привести к искажению достоверности исследования.\n",
    "\n",
    "Остались пропуски в столбце `days_exposition`. Данные пропуски возникли, вероятнее всего, вследствие технической ошибки и некорректного сбора данных, либо на момент сбора информации объект недвижимости все еще был рамещен на сайте. Проанализировав общие статистические показатели, мы видим, что среднее значение практически в два раза больше медианы, а стандартное отклонение больше среднего значения в столбце, что говорит нам о большом разбросе значений в столбце, поэтому не будем пока заполнять эти пропуски, чтобы не исказить достоверность исследования.\n",
    "\n",
    "Проверим себя, выведем на экран еще раз пропущенные значения."
   ]
  },
  {
   "cell_type": "code",
   "execution_count": 20,
   "metadata": {
    "scrolled": true
   },
   "outputs": [
    {
     "data": {
      "text/plain": [
       "total_images                0\n",
       "locality_name               0\n",
       "balcony                     0\n",
       "open_plan                   0\n",
       "is_apartment                0\n",
       "floor                       0\n",
       "living_area                 0\n",
       "studio                      0\n",
       "ceiling_height              0\n",
       "rooms                       0\n",
       "first_day_exposition        0\n",
       "total_area                  0\n",
       "last_price                  0\n",
       "floors_total                0\n",
       "kitchen_area              196\n",
       "days_exposition          3171\n",
       "parks_around3000         5492\n",
       "ponds_around3000         5492\n",
       "cityCenters_nearest      5493\n",
       "airports_nearest         5516\n",
       "ponds_nearest           14538\n",
       "parks_nearest           15558\n",
       "dtype: int64"
      ]
     },
     "execution_count": 20,
     "metadata": {},
     "output_type": "execute_result"
    }
   ],
   "source": [
    "# подсчёт пропусков\n",
    "data.isna().sum().sort_values()"
   ]
  },
  {
   "cell_type": "markdown",
   "metadata": {},
   "source": [
    "В столбце `kitchen_area` все еще остались пропущенные значения. Выведем на экран строки с этими пропущенными значениями и предположим, почему это могло произойти."
   ]
  },
  {
   "cell_type": "code",
   "execution_count": 21,
   "metadata": {},
   "outputs": [
    {
     "data": {
      "text/html": [
       "<div>\n",
       "<style scoped>\n",
       "    .dataframe tbody tr th:only-of-type {\n",
       "        vertical-align: middle;\n",
       "    }\n",
       "\n",
       "    .dataframe tbody tr th {\n",
       "        vertical-align: top;\n",
       "    }\n",
       "\n",
       "    .dataframe thead th {\n",
       "        text-align: right;\n",
       "    }\n",
       "</style>\n",
       "<table border=\"1\" class=\"dataframe\">\n",
       "  <thead>\n",
       "    <tr style=\"text-align: right;\">\n",
       "      <th></th>\n",
       "      <th>total_images</th>\n",
       "      <th>last_price</th>\n",
       "      <th>total_area</th>\n",
       "      <th>first_day_exposition</th>\n",
       "      <th>rooms</th>\n",
       "      <th>ceiling_height</th>\n",
       "      <th>floors_total</th>\n",
       "      <th>living_area</th>\n",
       "      <th>floor</th>\n",
       "      <th>is_apartment</th>\n",
       "      <th>studio</th>\n",
       "      <th>open_plan</th>\n",
       "      <th>kitchen_area</th>\n",
       "      <th>balcony</th>\n",
       "      <th>locality_name</th>\n",
       "      <th>airports_nearest</th>\n",
       "      <th>cityCenters_nearest</th>\n",
       "      <th>parks_around3000</th>\n",
       "      <th>parks_nearest</th>\n",
       "      <th>ponds_around3000</th>\n",
       "      <th>ponds_nearest</th>\n",
       "      <th>days_exposition</th>\n",
       "    </tr>\n",
       "  </thead>\n",
       "  <tbody>\n",
       "    <tr>\n",
       "      <th>5958</th>\n",
       "      <td>1.0</td>\n",
       "      <td>3200000.0</td>\n",
       "      <td>30.30</td>\n",
       "      <td>2018-09-07T00:00:00</td>\n",
       "      <td>0.0</td>\n",
       "      <td>2.65</td>\n",
       "      <td>13.0</td>\n",
       "      <td>18.00</td>\n",
       "      <td>13.0</td>\n",
       "      <td>False</td>\n",
       "      <td>True</td>\n",
       "      <td>False</td>\n",
       "      <td>NaN</td>\n",
       "      <td>0.0</td>\n",
       "      <td>Санкт-Петербург</td>\n",
       "      <td>22735.0</td>\n",
       "      <td>11618.0</td>\n",
       "      <td>1.0</td>\n",
       "      <td>835.0</td>\n",
       "      <td>1.0</td>\n",
       "      <td>652.0</td>\n",
       "      <td>68.0</td>\n",
       "    </tr>\n",
       "    <tr>\n",
       "      <th>18730</th>\n",
       "      <td>14.0</td>\n",
       "      <td>1700000.0</td>\n",
       "      <td>23.70</td>\n",
       "      <td>2018-08-16T00:00:00</td>\n",
       "      <td>0.0</td>\n",
       "      <td>2.65</td>\n",
       "      <td>3.0</td>\n",
       "      <td>19.80</td>\n",
       "      <td>1.0</td>\n",
       "      <td>False</td>\n",
       "      <td>True</td>\n",
       "      <td>False</td>\n",
       "      <td>NaN</td>\n",
       "      <td>2.0</td>\n",
       "      <td>Всеволожск</td>\n",
       "      <td>NaN</td>\n",
       "      <td>NaN</td>\n",
       "      <td>NaN</td>\n",
       "      <td>NaN</td>\n",
       "      <td>NaN</td>\n",
       "      <td>NaN</td>\n",
       "      <td>40.0</td>\n",
       "    </tr>\n",
       "    <tr>\n",
       "      <th>11692</th>\n",
       "      <td>0.0</td>\n",
       "      <td>2550000.0</td>\n",
       "      <td>23.06</td>\n",
       "      <td>2017-10-24T00:00:00</td>\n",
       "      <td>0.0</td>\n",
       "      <td>2.80</td>\n",
       "      <td>14.0</td>\n",
       "      <td>18.00</td>\n",
       "      <td>9.0</td>\n",
       "      <td>False</td>\n",
       "      <td>False</td>\n",
       "      <td>True</td>\n",
       "      <td>NaN</td>\n",
       "      <td>2.0</td>\n",
       "      <td>деревня Кудрово</td>\n",
       "      <td>NaN</td>\n",
       "      <td>NaN</td>\n",
       "      <td>NaN</td>\n",
       "      <td>NaN</td>\n",
       "      <td>NaN</td>\n",
       "      <td>NaN</td>\n",
       "      <td>20.0</td>\n",
       "    </tr>\n",
       "    <tr>\n",
       "      <th>10273</th>\n",
       "      <td>8.0</td>\n",
       "      <td>1870000.0</td>\n",
       "      <td>20.50</td>\n",
       "      <td>2016-04-04T00:00:00</td>\n",
       "      <td>0.0</td>\n",
       "      <td>2.65</td>\n",
       "      <td>15.0</td>\n",
       "      <td>15.80</td>\n",
       "      <td>13.0</td>\n",
       "      <td>False</td>\n",
       "      <td>True</td>\n",
       "      <td>False</td>\n",
       "      <td>NaN</td>\n",
       "      <td>2.0</td>\n",
       "      <td>посёлок Мурино</td>\n",
       "      <td>NaN</td>\n",
       "      <td>NaN</td>\n",
       "      <td>NaN</td>\n",
       "      <td>NaN</td>\n",
       "      <td>NaN</td>\n",
       "      <td>NaN</td>\n",
       "      <td>856.0</td>\n",
       "    </tr>\n",
       "    <tr>\n",
       "      <th>440</th>\n",
       "      <td>8.0</td>\n",
       "      <td>2480000.0</td>\n",
       "      <td>27.11</td>\n",
       "      <td>2018-03-12T00:00:00</td>\n",
       "      <td>0.0</td>\n",
       "      <td>2.65</td>\n",
       "      <td>17.0</td>\n",
       "      <td>24.75</td>\n",
       "      <td>4.0</td>\n",
       "      <td>False</td>\n",
       "      <td>True</td>\n",
       "      <td>False</td>\n",
       "      <td>NaN</td>\n",
       "      <td>2.0</td>\n",
       "      <td>Санкт-Петербург</td>\n",
       "      <td>38171.0</td>\n",
       "      <td>15015.0</td>\n",
       "      <td>0.0</td>\n",
       "      <td>NaN</td>\n",
       "      <td>2.0</td>\n",
       "      <td>982.0</td>\n",
       "      <td>64.0</td>\n",
       "    </tr>\n",
       "    <tr>\n",
       "      <th>5074</th>\n",
       "      <td>18.0</td>\n",
       "      <td>3500000.0</td>\n",
       "      <td>28.00</td>\n",
       "      <td>2017-07-10T00:00:00</td>\n",
       "      <td>0.0</td>\n",
       "      <td>2.65</td>\n",
       "      <td>25.0</td>\n",
       "      <td>20.00</td>\n",
       "      <td>17.0</td>\n",
       "      <td>False</td>\n",
       "      <td>True</td>\n",
       "      <td>False</td>\n",
       "      <td>NaN</td>\n",
       "      <td>0.0</td>\n",
       "      <td>Санкт-Петербург</td>\n",
       "      <td>6989.0</td>\n",
       "      <td>13205.0</td>\n",
       "      <td>1.0</td>\n",
       "      <td>535.0</td>\n",
       "      <td>0.0</td>\n",
       "      <td>NaN</td>\n",
       "      <td>28.0</td>\n",
       "    </tr>\n",
       "    <tr>\n",
       "      <th>11705</th>\n",
       "      <td>5.0</td>\n",
       "      <td>3380000.0</td>\n",
       "      <td>26.00</td>\n",
       "      <td>2018-02-20T00:00:00</td>\n",
       "      <td>0.0</td>\n",
       "      <td>2.80</td>\n",
       "      <td>17.0</td>\n",
       "      <td>17.00</td>\n",
       "      <td>8.0</td>\n",
       "      <td>False</td>\n",
       "      <td>False</td>\n",
       "      <td>True</td>\n",
       "      <td>NaN</td>\n",
       "      <td>1.0</td>\n",
       "      <td>Санкт-Петербург</td>\n",
       "      <td>15706.0</td>\n",
       "      <td>7734.0</td>\n",
       "      <td>2.0</td>\n",
       "      <td>592.0</td>\n",
       "      <td>1.0</td>\n",
       "      <td>802.0</td>\n",
       "      <td>45.0</td>\n",
       "    </tr>\n",
       "    <tr>\n",
       "      <th>4971</th>\n",
       "      <td>11.0</td>\n",
       "      <td>4300000.0</td>\n",
       "      <td>29.30</td>\n",
       "      <td>2017-07-14T00:00:00</td>\n",
       "      <td>0.0</td>\n",
       "      <td>2.65</td>\n",
       "      <td>20.0</td>\n",
       "      <td>19.03</td>\n",
       "      <td>17.0</td>\n",
       "      <td>False</td>\n",
       "      <td>True</td>\n",
       "      <td>False</td>\n",
       "      <td>NaN</td>\n",
       "      <td>2.0</td>\n",
       "      <td>Санкт-Петербург</td>\n",
       "      <td>20802.0</td>\n",
       "      <td>12554.0</td>\n",
       "      <td>1.0</td>\n",
       "      <td>526.0</td>\n",
       "      <td>0.0</td>\n",
       "      <td>NaN</td>\n",
       "      <td>7.0</td>\n",
       "    </tr>\n",
       "    <tr>\n",
       "      <th>16093</th>\n",
       "      <td>8.0</td>\n",
       "      <td>2200000.0</td>\n",
       "      <td>25.70</td>\n",
       "      <td>2018-01-01T00:00:00</td>\n",
       "      <td>0.0</td>\n",
       "      <td>2.70</td>\n",
       "      <td>24.0</td>\n",
       "      <td>17.80</td>\n",
       "      <td>15.0</td>\n",
       "      <td>False</td>\n",
       "      <td>True</td>\n",
       "      <td>False</td>\n",
       "      <td>NaN</td>\n",
       "      <td>1.0</td>\n",
       "      <td>Санкт-Петербург</td>\n",
       "      <td>22089.0</td>\n",
       "      <td>17417.0</td>\n",
       "      <td>0.0</td>\n",
       "      <td>NaN</td>\n",
       "      <td>1.0</td>\n",
       "      <td>136.0</td>\n",
       "      <td>189.0</td>\n",
       "    </tr>\n",
       "    <tr>\n",
       "      <th>20082</th>\n",
       "      <td>10.0</td>\n",
       "      <td>16300000.0</td>\n",
       "      <td>98.40</td>\n",
       "      <td>2017-11-08T00:00:00</td>\n",
       "      <td>0.0</td>\n",
       "      <td>3.10</td>\n",
       "      <td>5.0</td>\n",
       "      <td>60.50</td>\n",
       "      <td>2.0</td>\n",
       "      <td>False</td>\n",
       "      <td>True</td>\n",
       "      <td>False</td>\n",
       "      <td>NaN</td>\n",
       "      <td>0.0</td>\n",
       "      <td>Санкт-Петербург</td>\n",
       "      <td>26972.0</td>\n",
       "      <td>5819.0</td>\n",
       "      <td>0.0</td>\n",
       "      <td>NaN</td>\n",
       "      <td>1.0</td>\n",
       "      <td>674.0</td>\n",
       "      <td>537.0</td>\n",
       "    </tr>\n",
       "    <tr>\n",
       "      <th>20584</th>\n",
       "      <td>12.0</td>\n",
       "      <td>2170000.0</td>\n",
       "      <td>22.20</td>\n",
       "      <td>2018-11-04T00:00:00</td>\n",
       "      <td>0.0</td>\n",
       "      <td>2.65</td>\n",
       "      <td>18.0</td>\n",
       "      <td>16.60</td>\n",
       "      <td>7.0</td>\n",
       "      <td>False</td>\n",
       "      <td>True</td>\n",
       "      <td>False</td>\n",
       "      <td>NaN</td>\n",
       "      <td>1.0</td>\n",
       "      <td>посёлок Мурино</td>\n",
       "      <td>NaN</td>\n",
       "      <td>NaN</td>\n",
       "      <td>NaN</td>\n",
       "      <td>NaN</td>\n",
       "      <td>NaN</td>\n",
       "      <td>NaN</td>\n",
       "      <td>36.0</td>\n",
       "    </tr>\n",
       "    <tr>\n",
       "      <th>11035</th>\n",
       "      <td>1.0</td>\n",
       "      <td>2500000.0</td>\n",
       "      <td>26.00</td>\n",
       "      <td>2017-11-10T00:00:00</td>\n",
       "      <td>0.0</td>\n",
       "      <td>2.65</td>\n",
       "      <td>8.0</td>\n",
       "      <td>14.00</td>\n",
       "      <td>6.0</td>\n",
       "      <td>False</td>\n",
       "      <td>False</td>\n",
       "      <td>True</td>\n",
       "      <td>NaN</td>\n",
       "      <td>0.0</td>\n",
       "      <td>городской посёлок Янино-1</td>\n",
       "      <td>NaN</td>\n",
       "      <td>NaN</td>\n",
       "      <td>NaN</td>\n",
       "      <td>NaN</td>\n",
       "      <td>NaN</td>\n",
       "      <td>NaN</td>\n",
       "      <td>22.0</td>\n",
       "    </tr>\n",
       "    <tr>\n",
       "      <th>15319</th>\n",
       "      <td>4.0</td>\n",
       "      <td>5970000.0</td>\n",
       "      <td>43.30</td>\n",
       "      <td>2017-07-20T00:00:00</td>\n",
       "      <td>0.0</td>\n",
       "      <td>2.80</td>\n",
       "      <td>9.0</td>\n",
       "      <td>28.20</td>\n",
       "      <td>2.0</td>\n",
       "      <td>False</td>\n",
       "      <td>True</td>\n",
       "      <td>False</td>\n",
       "      <td>NaN</td>\n",
       "      <td>2.0</td>\n",
       "      <td>Санкт-Петербург</td>\n",
       "      <td>23617.0</td>\n",
       "      <td>5223.0</td>\n",
       "      <td>0.0</td>\n",
       "      <td>NaN</td>\n",
       "      <td>1.0</td>\n",
       "      <td>874.0</td>\n",
       "      <td>30.0</td>\n",
       "    </tr>\n",
       "    <tr>\n",
       "      <th>20054</th>\n",
       "      <td>5.0</td>\n",
       "      <td>2730000.0</td>\n",
       "      <td>21.00</td>\n",
       "      <td>2017-11-22T00:00:00</td>\n",
       "      <td>0.0</td>\n",
       "      <td>2.65</td>\n",
       "      <td>9.0</td>\n",
       "      <td>14.00</td>\n",
       "      <td>6.0</td>\n",
       "      <td>False</td>\n",
       "      <td>False</td>\n",
       "      <td>True</td>\n",
       "      <td>NaN</td>\n",
       "      <td>0.0</td>\n",
       "      <td>Санкт-Петербург</td>\n",
       "      <td>17048.0</td>\n",
       "      <td>5936.0</td>\n",
       "      <td>2.0</td>\n",
       "      <td>462.0</td>\n",
       "      <td>0.0</td>\n",
       "      <td>NaN</td>\n",
       "      <td>45.0</td>\n",
       "    </tr>\n",
       "    <tr>\n",
       "      <th>21758</th>\n",
       "      <td>0.0</td>\n",
       "      <td>2330000.0</td>\n",
       "      <td>23.00</td>\n",
       "      <td>2018-01-01T00:00:00</td>\n",
       "      <td>0.0</td>\n",
       "      <td>2.65</td>\n",
       "      <td>24.0</td>\n",
       "      <td>2.00</td>\n",
       "      <td>22.0</td>\n",
       "      <td>False</td>\n",
       "      <td>True</td>\n",
       "      <td>False</td>\n",
       "      <td>NaN</td>\n",
       "      <td>0.0</td>\n",
       "      <td>посёлок Мурино</td>\n",
       "      <td>NaN</td>\n",
       "      <td>NaN</td>\n",
       "      <td>NaN</td>\n",
       "      <td>NaN</td>\n",
       "      <td>NaN</td>\n",
       "      <td>NaN</td>\n",
       "      <td>66.0</td>\n",
       "    </tr>\n",
       "    <tr>\n",
       "      <th>4437</th>\n",
       "      <td>10.0</td>\n",
       "      <td>3200000.0</td>\n",
       "      <td>25.00</td>\n",
       "      <td>2017-10-16T00:00:00</td>\n",
       "      <td>0.0</td>\n",
       "      <td>2.65</td>\n",
       "      <td>9.0</td>\n",
       "      <td>18.60</td>\n",
       "      <td>9.0</td>\n",
       "      <td>False</td>\n",
       "      <td>False</td>\n",
       "      <td>True</td>\n",
       "      <td>NaN</td>\n",
       "      <td>2.0</td>\n",
       "      <td>Санкт-Петербург</td>\n",
       "      <td>11943.0</td>\n",
       "      <td>11710.0</td>\n",
       "      <td>1.0</td>\n",
       "      <td>518.0</td>\n",
       "      <td>1.0</td>\n",
       "      <td>232.0</td>\n",
       "      <td>97.0</td>\n",
       "    </tr>\n",
       "    <tr>\n",
       "      <th>2532</th>\n",
       "      <td>5.0</td>\n",
       "      <td>3500000.0</td>\n",
       "      <td>27.10</td>\n",
       "      <td>2018-02-01T00:00:00</td>\n",
       "      <td>0.0</td>\n",
       "      <td>2.65</td>\n",
       "      <td>18.0</td>\n",
       "      <td>18.70</td>\n",
       "      <td>9.0</td>\n",
       "      <td>False</td>\n",
       "      <td>False</td>\n",
       "      <td>True</td>\n",
       "      <td>NaN</td>\n",
       "      <td>2.0</td>\n",
       "      <td>Санкт-Петербург</td>\n",
       "      <td>32036.0</td>\n",
       "      <td>8175.0</td>\n",
       "      <td>0.0</td>\n",
       "      <td>NaN</td>\n",
       "      <td>1.0</td>\n",
       "      <td>644.0</td>\n",
       "      <td>70.0</td>\n",
       "    </tr>\n",
       "    <tr>\n",
       "      <th>10416</th>\n",
       "      <td>8.0</td>\n",
       "      <td>3700000.0</td>\n",
       "      <td>29.10</td>\n",
       "      <td>2018-08-28T00:00:00</td>\n",
       "      <td>0.0</td>\n",
       "      <td>2.60</td>\n",
       "      <td>14.0</td>\n",
       "      <td>20.50</td>\n",
       "      <td>2.0</td>\n",
       "      <td>False</td>\n",
       "      <td>True</td>\n",
       "      <td>False</td>\n",
       "      <td>NaN</td>\n",
       "      <td>0.0</td>\n",
       "      <td>Санкт-Петербург</td>\n",
       "      <td>42068.0</td>\n",
       "      <td>10240.0</td>\n",
       "      <td>1.0</td>\n",
       "      <td>637.0</td>\n",
       "      <td>0.0</td>\n",
       "      <td>NaN</td>\n",
       "      <td>37.0</td>\n",
       "    </tr>\n",
       "    <tr>\n",
       "      <th>15606</th>\n",
       "      <td>4.0</td>\n",
       "      <td>3499000.0</td>\n",
       "      <td>25.00</td>\n",
       "      <td>2019-04-05T00:00:00</td>\n",
       "      <td>0.0</td>\n",
       "      <td>2.80</td>\n",
       "      <td>14.0</td>\n",
       "      <td>17.00</td>\n",
       "      <td>13.0</td>\n",
       "      <td>False</td>\n",
       "      <td>True</td>\n",
       "      <td>False</td>\n",
       "      <td>NaN</td>\n",
       "      <td>2.0</td>\n",
       "      <td>Санкт-Петербург</td>\n",
       "      <td>43427.0</td>\n",
       "      <td>15930.0</td>\n",
       "      <td>1.0</td>\n",
       "      <td>529.0</td>\n",
       "      <td>0.0</td>\n",
       "      <td>NaN</td>\n",
       "      <td>NaN</td>\n",
       "    </tr>\n",
       "    <tr>\n",
       "      <th>8718</th>\n",
       "      <td>10.0</td>\n",
       "      <td>4000000.0</td>\n",
       "      <td>26.00</td>\n",
       "      <td>2018-02-27T00:00:00</td>\n",
       "      <td>0.0</td>\n",
       "      <td>2.80</td>\n",
       "      <td>16.0</td>\n",
       "      <td>22.00</td>\n",
       "      <td>7.0</td>\n",
       "      <td>False</td>\n",
       "      <td>True</td>\n",
       "      <td>False</td>\n",
       "      <td>NaN</td>\n",
       "      <td>2.0</td>\n",
       "      <td>Санкт-Петербург</td>\n",
       "      <td>10796.0</td>\n",
       "      <td>14361.0</td>\n",
       "      <td>0.0</td>\n",
       "      <td>NaN</td>\n",
       "      <td>0.0</td>\n",
       "      <td>NaN</td>\n",
       "      <td>50.0</td>\n",
       "    </tr>\n",
       "  </tbody>\n",
       "</table>\n",
       "</div>"
      ],
      "text/plain": [
       "       total_images  last_price  total_area first_day_exposition  rooms  \\\n",
       "5958            1.0   3200000.0       30.30  2018-09-07T00:00:00    0.0   \n",
       "18730          14.0   1700000.0       23.70  2018-08-16T00:00:00    0.0   \n",
       "11692           0.0   2550000.0       23.06  2017-10-24T00:00:00    0.0   \n",
       "10273           8.0   1870000.0       20.50  2016-04-04T00:00:00    0.0   \n",
       "440             8.0   2480000.0       27.11  2018-03-12T00:00:00    0.0   \n",
       "5074           18.0   3500000.0       28.00  2017-07-10T00:00:00    0.0   \n",
       "11705           5.0   3380000.0       26.00  2018-02-20T00:00:00    0.0   \n",
       "4971           11.0   4300000.0       29.30  2017-07-14T00:00:00    0.0   \n",
       "16093           8.0   2200000.0       25.70  2018-01-01T00:00:00    0.0   \n",
       "20082          10.0  16300000.0       98.40  2017-11-08T00:00:00    0.0   \n",
       "20584          12.0   2170000.0       22.20  2018-11-04T00:00:00    0.0   \n",
       "11035           1.0   2500000.0       26.00  2017-11-10T00:00:00    0.0   \n",
       "15319           4.0   5970000.0       43.30  2017-07-20T00:00:00    0.0   \n",
       "20054           5.0   2730000.0       21.00  2017-11-22T00:00:00    0.0   \n",
       "21758           0.0   2330000.0       23.00  2018-01-01T00:00:00    0.0   \n",
       "4437           10.0   3200000.0       25.00  2017-10-16T00:00:00    0.0   \n",
       "2532            5.0   3500000.0       27.10  2018-02-01T00:00:00    0.0   \n",
       "10416           8.0   3700000.0       29.10  2018-08-28T00:00:00    0.0   \n",
       "15606           4.0   3499000.0       25.00  2019-04-05T00:00:00    0.0   \n",
       "8718           10.0   4000000.0       26.00  2018-02-27T00:00:00    0.0   \n",
       "\n",
       "       ceiling_height  floors_total  living_area  floor is_apartment studio  \\\n",
       "5958             2.65          13.0        18.00   13.0        False   True   \n",
       "18730            2.65           3.0        19.80    1.0        False   True   \n",
       "11692            2.80          14.0        18.00    9.0        False  False   \n",
       "10273            2.65          15.0        15.80   13.0        False   True   \n",
       "440              2.65          17.0        24.75    4.0        False   True   \n",
       "5074             2.65          25.0        20.00   17.0        False   True   \n",
       "11705            2.80          17.0        17.00    8.0        False  False   \n",
       "4971             2.65          20.0        19.03   17.0        False   True   \n",
       "16093            2.70          24.0        17.80   15.0        False   True   \n",
       "20082            3.10           5.0        60.50    2.0        False   True   \n",
       "20584            2.65          18.0        16.60    7.0        False   True   \n",
       "11035            2.65           8.0        14.00    6.0        False  False   \n",
       "15319            2.80           9.0        28.20    2.0        False   True   \n",
       "20054            2.65           9.0        14.00    6.0        False  False   \n",
       "21758            2.65          24.0         2.00   22.0        False   True   \n",
       "4437             2.65           9.0        18.60    9.0        False  False   \n",
       "2532             2.65          18.0        18.70    9.0        False  False   \n",
       "10416            2.60          14.0        20.50    2.0        False   True   \n",
       "15606            2.80          14.0        17.00   13.0        False   True   \n",
       "8718             2.80          16.0        22.00    7.0        False   True   \n",
       "\n",
       "      open_plan  kitchen_area  balcony              locality_name  \\\n",
       "5958      False           NaN      0.0            Санкт-Петербург   \n",
       "18730     False           NaN      2.0                 Всеволожск   \n",
       "11692      True           NaN      2.0            деревня Кудрово   \n",
       "10273     False           NaN      2.0             посёлок Мурино   \n",
       "440       False           NaN      2.0            Санкт-Петербург   \n",
       "5074      False           NaN      0.0            Санкт-Петербург   \n",
       "11705      True           NaN      1.0            Санкт-Петербург   \n",
       "4971      False           NaN      2.0            Санкт-Петербург   \n",
       "16093     False           NaN      1.0            Санкт-Петербург   \n",
       "20082     False           NaN      0.0            Санкт-Петербург   \n",
       "20584     False           NaN      1.0             посёлок Мурино   \n",
       "11035      True           NaN      0.0  городской посёлок Янино-1   \n",
       "15319     False           NaN      2.0            Санкт-Петербург   \n",
       "20054      True           NaN      0.0            Санкт-Петербург   \n",
       "21758     False           NaN      0.0             посёлок Мурино   \n",
       "4437       True           NaN      2.0            Санкт-Петербург   \n",
       "2532       True           NaN      2.0            Санкт-Петербург   \n",
       "10416     False           NaN      0.0            Санкт-Петербург   \n",
       "15606     False           NaN      2.0            Санкт-Петербург   \n",
       "8718      False           NaN      2.0            Санкт-Петербург   \n",
       "\n",
       "       airports_nearest  cityCenters_nearest  parks_around3000  parks_nearest  \\\n",
       "5958            22735.0              11618.0               1.0          835.0   \n",
       "18730               NaN                  NaN               NaN            NaN   \n",
       "11692               NaN                  NaN               NaN            NaN   \n",
       "10273               NaN                  NaN               NaN            NaN   \n",
       "440             38171.0              15015.0               0.0            NaN   \n",
       "5074             6989.0              13205.0               1.0          535.0   \n",
       "11705           15706.0               7734.0               2.0          592.0   \n",
       "4971            20802.0              12554.0               1.0          526.0   \n",
       "16093           22089.0              17417.0               0.0            NaN   \n",
       "20082           26972.0               5819.0               0.0            NaN   \n",
       "20584               NaN                  NaN               NaN            NaN   \n",
       "11035               NaN                  NaN               NaN            NaN   \n",
       "15319           23617.0               5223.0               0.0            NaN   \n",
       "20054           17048.0               5936.0               2.0          462.0   \n",
       "21758               NaN                  NaN               NaN            NaN   \n",
       "4437            11943.0              11710.0               1.0          518.0   \n",
       "2532            32036.0               8175.0               0.0            NaN   \n",
       "10416           42068.0              10240.0               1.0          637.0   \n",
       "15606           43427.0              15930.0               1.0          529.0   \n",
       "8718            10796.0              14361.0               0.0            NaN   \n",
       "\n",
       "       ponds_around3000  ponds_nearest  days_exposition  \n",
       "5958                1.0          652.0             68.0  \n",
       "18730               NaN            NaN             40.0  \n",
       "11692               NaN            NaN             20.0  \n",
       "10273               NaN            NaN            856.0  \n",
       "440                 2.0          982.0             64.0  \n",
       "5074                0.0            NaN             28.0  \n",
       "11705               1.0          802.0             45.0  \n",
       "4971                0.0            NaN              7.0  \n",
       "16093               1.0          136.0            189.0  \n",
       "20082               1.0          674.0            537.0  \n",
       "20584               NaN            NaN             36.0  \n",
       "11035               NaN            NaN             22.0  \n",
       "15319               1.0          874.0             30.0  \n",
       "20054               0.0            NaN             45.0  \n",
       "21758               NaN            NaN             66.0  \n",
       "4437                1.0          232.0             97.0  \n",
       "2532                1.0          644.0             70.0  \n",
       "10416               0.0            NaN             37.0  \n",
       "15606               0.0            NaN              NaN  \n",
       "8718                0.0            NaN             50.0  "
      ]
     },
     "execution_count": 21,
     "metadata": {},
     "output_type": "execute_result"
    }
   ],
   "source": [
    "# отбор строк, в которых не заполнилось пустое значение столбца `kitchen_area`\n",
    "data.loc[data['kitchen_area'].isna()].sample(20)"
   ]
  },
  {
   "cell_type": "markdown",
   "metadata": {},
   "source": [
    "Мы видим, что значения не заполнились, так как в столбце с количеством комнат проставлены нули. А также, в большинстве случаев это нежилые объекты недвижимости - апартаменты. Однако встречаются и значения `False`в столбце `is_apartment`. Проверим по индексу эту строку. "
   ]
  },
  {
   "cell_type": "code",
   "execution_count": 22,
   "metadata": {},
   "outputs": [
    {
     "data": {
      "text/plain": [
       "total_images                           16.0\n",
       "last_price                        3500000.0\n",
       "total_area                             29.2\n",
       "first_day_exposition    2017-04-16T00:00:00\n",
       "rooms                                   0.0\n",
       "ceiling_height                         2.64\n",
       "floors_total                           16.0\n",
       "living_area                            16.7\n",
       "floor                                   3.0\n",
       "is_apartment                          False\n",
       "studio                                 True\n",
       "open_plan                             False\n",
       "kitchen_area                            NaN\n",
       "balcony                                 2.0\n",
       "locality_name               Санкт-Петербург\n",
       "airports_nearest                    17693.0\n",
       "cityCenters_nearest                 12516.0\n",
       "parks_around3000                        0.0\n",
       "parks_nearest                           NaN\n",
       "ponds_around3000                        0.0\n",
       "ponds_nearest                           NaN\n",
       "days_exposition                        28.0\n",
       "Name: 7256, dtype: object"
      ]
     },
     "execution_count": 22,
     "metadata": {},
     "output_type": "execute_result"
    }
   ],
   "source": [
    "data.loc[7256]"
   ]
  },
  {
   "cell_type": "markdown",
   "metadata": {},
   "source": [
    "Объект недвижимости под индексом 7256 является студией, поэтому в столбце с комнатами стоит нулевое значение. \n",
    "\n",
    "Таким образом, мы можем заполнить оставшиеся пропущенные значения в столбце `kitchen_area` нулями, так как это значения в апартаментах и студиях."
   ]
  },
  {
   "cell_type": "code",
   "execution_count": 23,
   "metadata": {},
   "outputs": [],
   "source": [
    "# заполнение оставшихся пропущенных значений в столбце `kitchen_area`\n",
    "data['kitchen_area'] = data['kitchen_area'].fillna(0)"
   ]
  },
  {
   "cell_type": "markdown",
   "metadata": {},
   "source": [
    "Посчитаем еще раз пропущенные значения в столбце `kitchen_area`, чтобы убедиться в том, что они все заполнены."
   ]
  },
  {
   "cell_type": "code",
   "execution_count": 24,
   "metadata": {},
   "outputs": [
    {
     "data": {
      "text/plain": [
       "0"
      ]
     },
     "execution_count": 24,
     "metadata": {},
     "output_type": "execute_result"
    }
   ],
   "source": [
    "# определение количества пропущенных значений в столбце `kitchen_area`\n",
    "data['kitchen_area'].isna().sum()"
   ]
  },
  {
   "cell_type": "markdown",
   "metadata": {},
   "source": [
    "Мы заполнили все пропущенные значения там, где это возможно. Приступим к изменению типов данных."
   ]
  },
  {
   "cell_type": "markdown",
   "metadata": {},
   "source": [
    "#### Изменение типов данных"
   ]
  },
  {
   "cell_type": "markdown",
   "metadata": {},
   "source": [
    "Преобразуем типы данных в столбцах, в которых это необходимо.\n",
    "\n",
    "Так, например, столбец `first_day_exposition` сейчас представлен типом `object`. Однако для того, чтобы мы могли дальше проводить с этим столбцом действия, нам необходимо преобразовать его в тип `datetime`, так как в нем хранится информация о дате публикации."
   ]
  },
  {
   "cell_type": "code",
   "execution_count": 25,
   "metadata": {},
   "outputs": [],
   "source": [
    "# преобразование типа данных в столбце `first_day_exposition`\n",
    "data['first_day_exposition'] = pd.to_datetime(data['first_day_exposition'], format='%Y-%m-%dT%H:%M:%S')"
   ]
  },
  {
   "cell_type": "markdown",
   "metadata": {},
   "source": [
    "Столбец `is_apartment` сейчас представлен типом значений `object`, однако строки в нем принимают значения `True` или `False`, соответственно для корректного дальнейшенго анализа, нам необходимо привести этот столбец к типу `bool`."
   ]
  },
  {
   "cell_type": "code",
   "execution_count": 26,
   "metadata": {},
   "outputs": [],
   "source": [
    "# преобразование типа данных в столбце 'is_apartment'\n",
    "data['is_apartment'] = data['is_apartment'].astype('bool')"
   ]
  },
  {
   "cell_type": "markdown",
   "metadata": {},
   "source": [
    "Заменим цифровые значения с плавающей точкой на целочисленные в тех столбцах, где значения не могут быть дробными - `floors_total` и `balcony`."
   ]
  },
  {
   "cell_type": "code",
   "execution_count": 27,
   "metadata": {},
   "outputs": [],
   "source": [
    "data[['floor', 'floors_total', 'balcony']] = data[['floor', 'floors_total', 'balcony']].astype('int')"
   ]
  },
  {
   "cell_type": "markdown",
   "metadata": {},
   "source": [
    "Проверим себя, выведем еще раз общую информацию о таблице, чтобы убедиться в том, что все типы заменились правильно."
   ]
  },
  {
   "cell_type": "code",
   "execution_count": 28,
   "metadata": {},
   "outputs": [
    {
     "name": "stdout",
     "output_type": "stream",
     "text": [
      "<class 'pandas.core.frame.DataFrame'>\n",
      "Int64Index: 23636 entries, 0 to 23698\n",
      "Data columns (total 22 columns):\n",
      " #   Column                Non-Null Count  Dtype         \n",
      "---  ------                --------------  -----         \n",
      " 0   total_images          23636 non-null  float64       \n",
      " 1   last_price            23636 non-null  float64       \n",
      " 2   total_area            23636 non-null  float64       \n",
      " 3   first_day_exposition  23636 non-null  datetime64[ns]\n",
      " 4   rooms                 23636 non-null  float64       \n",
      " 5   ceiling_height        23636 non-null  float64       \n",
      " 6   floors_total          23636 non-null  int64         \n",
      " 7   living_area           23636 non-null  float64       \n",
      " 8   floor                 23636 non-null  int64         \n",
      " 9   is_apartment          23636 non-null  bool          \n",
      " 10  studio                23636 non-null  object        \n",
      " 11  open_plan             23636 non-null  object        \n",
      " 12  kitchen_area          23636 non-null  float64       \n",
      " 13  balcony               23636 non-null  int64         \n",
      " 14  locality_name         23636 non-null  object        \n",
      " 15  airports_nearest      18120 non-null  float64       \n",
      " 16  cityCenters_nearest   18143 non-null  float64       \n",
      " 17  parks_around3000      18144 non-null  float64       \n",
      " 18  parks_nearest         8078 non-null   float64       \n",
      " 19  ponds_around3000      18144 non-null  float64       \n",
      " 20  ponds_nearest         9098 non-null   float64       \n",
      " 21  days_exposition       20465 non-null  float64       \n",
      "dtypes: bool(1), datetime64[ns](1), float64(14), int64(3), object(3)\n",
      "memory usage: 4.5+ MB\n"
     ]
    }
   ],
   "source": [
    "# общая информация о таблице data\n",
    "data.info()"
   ]
  },
  {
   "cell_type": "markdown",
   "metadata": {},
   "source": [
    "Мы убедились в том, что все столбцы приведены к необходимому типу данных. Перейдем к обработке дубликатов."
   ]
  },
  {
   "cell_type": "markdown",
   "metadata": {},
   "source": [
    "#### Обработка дубликатов"
   ]
  },
  {
   "cell_type": "markdown",
   "metadata": {},
   "source": [
    "Проверим таблицу на наличие явных дубликатов."
   ]
  },
  {
   "cell_type": "code",
   "execution_count": 29,
   "metadata": {},
   "outputs": [
    {
     "data": {
      "text/plain": [
       "24"
      ]
     },
     "execution_count": 29,
     "metadata": {},
     "output_type": "execute_result"
    }
   ],
   "source": [
    "# определение количества явных дубликатов\n",
    "data.duplicated().sum()"
   ]
  },
  {
   "cell_type": "markdown",
   "metadata": {},
   "source": [
    "В таблице отсутствуют строки с явными дубликатами. Изучим уникальные значения в столбце с названиями населенных пунктов, определим наличие неявных дубликатов. Выведем на экран перечень униклаьных значений столбца."
   ]
  },
  {
   "cell_type": "code",
   "execution_count": 30,
   "metadata": {},
   "outputs": [
    {
     "data": {
      "text/plain": [
       "array(['Санкт-Петербург', 'посёлок Шушары', 'городской посёлок Янино-1',\n",
       "       'посёлок Парголово', 'посёлок Мурино', 'Ломоносов', 'Сертолово',\n",
       "       'Петергоф', 'Пушкин', 'деревня Кудрово', 'Коммунар', 'Колпино',\n",
       "       'поселок городского типа Красный Бор', 'Гатчина', 'поселок Мурино',\n",
       "       'деревня Фёдоровское', 'Выборг', 'Кронштадт', 'Кировск',\n",
       "       'деревня Новое Девяткино', 'посёлок Металлострой',\n",
       "       'посёлок городского типа Лебяжье',\n",
       "       'посёлок городского типа Сиверский', 'поселок Молодцово',\n",
       "       'поселок городского типа Кузьмоловский',\n",
       "       'садовое товарищество Новая Ропша', 'Павловск',\n",
       "       'деревня Пикколово', 'Всеволожск', 'Волхов', 'Кингисепп',\n",
       "       'Приозерск', 'Сестрорецк', 'деревня Куттузи', 'посёлок Аннино',\n",
       "       'поселок городского типа Ефимовский', 'посёлок Плодовое',\n",
       "       'деревня Заклинье', 'поселок Торковичи', 'поселок Первомайское',\n",
       "       'Красное Село', 'посёлок Понтонный', 'Сясьстрой', 'деревня Старая',\n",
       "       'деревня Лесколово', 'посёлок Новый Свет', 'Сланцы',\n",
       "       'село Путилово', 'Ивангород', 'Мурино', 'Шлиссельбург',\n",
       "       'Никольское', 'Зеленогорск', 'Сосновый Бор', 'поселок Новый Свет',\n",
       "       'деревня Оржицы', 'деревня Кальтино', 2.65, 'Кудрово',\n",
       "       'поселок Романовка', 'посёлок Бугры', 'поселок Бугры',\n",
       "       'поселок городского типа Рощино', 'Кириши', 'Луга', 'Волосово',\n",
       "       'Отрадное', 'село Павлово', 'поселок Оредеж', 'село Копорье',\n",
       "       'посёлок городского типа Красный Бор', 'посёлок Молодёжное',\n",
       "       'Тихвин', 'посёлок Победа', 'деревня Нурма',\n",
       "       'поселок городского типа Синявино', 'Тосно',\n",
       "       'посёлок городского типа Кузьмоловский', 'посёлок Стрельна',\n",
       "       'Бокситогорск', 'посёлок Александровская', 'деревня Лопухинка',\n",
       "       'Пикалёво', 'поселок Терволово',\n",
       "       'поселок городского типа Советский', 'Подпорожье',\n",
       "       'посёлок Петровское', 'посёлок городского типа Токсово',\n",
       "       'поселок Сельцо', 'посёлок городского типа Вырица',\n",
       "       'деревня Кипень', 'деревня Келози', 'деревня Вартемяги',\n",
       "       'посёлок Тельмана', 'поселок Севастьяново',\n",
       "       'городской поселок Большая Ижора', 'городской посёлок Павлово',\n",
       "       'деревня Агалатово', 'посёлок Новогорелово',\n",
       "       'городской посёлок Лесогорский', 'деревня Лаголово',\n",
       "       'поселок Цвелодубово', 'поселок городского типа Рахья',\n",
       "       'поселок городского типа Вырица', 'деревня Белогорка',\n",
       "       'поселок Заводской', 'городской посёлок Новоселье',\n",
       "       'деревня Большие Колпаны', 'деревня Горбунки', 'деревня Батово',\n",
       "       'деревня Заневка', 'деревня Иссад', 'Приморск',\n",
       "       'городской посёлок Фёдоровское', 'деревня Мистолово',\n",
       "       'Новая Ладога', 'поселок Зимитицы', 'поселок Барышево',\n",
       "       'деревня Разметелево', 'поселок городского типа имени Свердлова',\n",
       "       'деревня Пеники', 'поселок Рябово', 'деревня Пудомяги',\n",
       "       'поселок станции Корнево', 'деревня Низино', 'деревня Бегуницы',\n",
       "       'посёлок Поляны', 'городской посёлок Мга', 'поселок Елизаветино',\n",
       "       'посёлок городского типа Кузнечное', 'деревня Колтуши',\n",
       "       'поселок Запорожское', 'посёлок городского типа Рощино',\n",
       "       'деревня Гостилицы', 'деревня Малое Карлино',\n",
       "       'посёлок Мичуринское', 'посёлок городского типа имени Морозова',\n",
       "       'посёлок Песочный', 'посёлок Сосново', 'деревня Аро',\n",
       "       'поселок Ильичёво', 'посёлок городского типа Тайцы',\n",
       "       'деревня Малое Верево', 'деревня Извара', 'поселок станции Вещево',\n",
       "       'село Паша', 'деревня Калитино',\n",
       "       'посёлок городского типа Ульяновка', 'деревня Чудской Бор',\n",
       "       'поселок городского типа Дубровка', 'деревня Мины',\n",
       "       'поселок Войсковицы', 'посёлок городского типа имени Свердлова',\n",
       "       'деревня Коркино', 'посёлок Ропша',\n",
       "       'поселок городского типа Приладожский', 'посёлок Щеглово',\n",
       "       'посёлок Гаврилово', 'Лодейное Поле', 'деревня Рабитицы',\n",
       "       'поселок городского типа Никольский', 'деревня Кузьмолово',\n",
       "       'деревня Малые Колпаны', 'поселок Тельмана',\n",
       "       'посёлок Петро-Славянка', 'городской посёлок Назия',\n",
       "       'посёлок Репино', 'посёлок Ильичёво', 'поселок Углово',\n",
       "       'поселок Старая Малукса', 'садовое товарищество Рахья',\n",
       "       'поселок Аннино', 'поселок Победа', 'деревня Меньково',\n",
       "       'деревня Старые Бегуницы', 'посёлок Сапёрный', 'поселок Семрино',\n",
       "       'поселок Гаврилово', 'поселок Глажево', 'поселок Кобринское',\n",
       "       'деревня Гарболово', 'деревня Юкки',\n",
       "       'поселок станции Приветнинское', 'деревня Мануйлово',\n",
       "       'деревня Пчева', 'поселок Поляны', 'поселок Цвылёво',\n",
       "       'поселок Мельниково', 'посёлок Пудость', 'посёлок Усть-Луга',\n",
       "       'Светогорск', 'Любань', 'поселок Селезнёво',\n",
       "       'поселок городского типа Рябово', 'Каменногорск', 'деревня Кривко',\n",
       "       'поселок Глебычево', 'деревня Парицы', 'поселок Жилпосёлок',\n",
       "       'посёлок городского типа Мга', 'городской поселок Янино-1',\n",
       "       'посёлок Войскорово', 'село Никольское', 'посёлок Терволово',\n",
       "       'поселок Стеклянный', 'посёлок городского типа Важины',\n",
       "       'посёлок Мыза-Ивановка', 'село Русско-Высоцкое',\n",
       "       'поселок городского типа Лебяжье',\n",
       "       'поселок городского типа Форносово', 'село Старая Ладога',\n",
       "       'поселок Житково', 'городской посёлок Виллози', 'деревня Лампово',\n",
       "       'деревня Шпаньково', 'деревня Лаврики', 'посёлок Сумино',\n",
       "       'посёлок Возрождение', 'деревня Старосиверская',\n",
       "       'посёлок Кикерино', 'поселок Возрождение',\n",
       "       'деревня Старое Хинколово', 'посёлок Пригородный',\n",
       "       'посёлок Торфяное', 'городской посёлок Будогощь',\n",
       "       'поселок Суходолье', 'поселок Красная Долина', 'деревня Хапо-Ое',\n",
       "       'поселок городского типа Дружная Горка', 'поселок Лисий Нос',\n",
       "       'деревня Яльгелево', 'посёлок Стеклянный', 'село Рождествено',\n",
       "       'деревня Старополье', 'посёлок Левашово', 'деревня Сяськелево',\n",
       "       'деревня Камышовка',\n",
       "       'садоводческое некоммерческое товарищество Лесная Поляна',\n",
       "       'деревня Хязельки', 'поселок Жилгородок',\n",
       "       'посёлок городского типа Павлово', 'деревня Ялгино',\n",
       "       'поселок Новый Учхоз', 'городской посёлок Рощино',\n",
       "       'поселок Гончарово', 'поселок Почап', 'посёлок Сапёрное',\n",
       "       'посёлок Платформа 69-й километр', 'поселок Каложицы',\n",
       "       'деревня Фалилеево', 'деревня Пельгора',\n",
       "       'поселок городского типа Лесогорский', 'деревня Торошковичи',\n",
       "       'посёлок Белоостров', 'посёлок Алексеевка', 'поселок Серебрянский',\n",
       "       'поселок Лукаши', 'поселок Петровское', 'деревня Щеглово',\n",
       "       'поселок Мичуринское', 'деревня Тарасово', 'поселок Кингисеппский',\n",
       "       'посёлок при железнодорожной станции Вещево', 'поселок Ушаки',\n",
       "       'деревня Котлы', 'деревня Сижно', 'деревня Торосово',\n",
       "       'посёлок Форт Красная Горка', 'поселок городского типа Токсово',\n",
       "       'деревня Новолисино', 'посёлок станции Громово', 'деревня Глинка',\n",
       "       'посёлок Мельниково', 'поселок городского типа Назия',\n",
       "       'деревня Старая Пустошь', 'поселок Коммунары', 'поселок Починок',\n",
       "       'посёлок городского типа Вознесенье', 'деревня Разбегаево',\n",
       "       'посёлок городского типа Рябово', 'поселок Гладкое',\n",
       "       'посёлок при железнодорожной станции Приветнинское',\n",
       "       'поселок Тёсово-4', 'посёлок Жилгородок', 'деревня Бор',\n",
       "       'посёлок Коробицыно', 'деревня Большая Вруда', 'деревня Курковицы',\n",
       "       'посёлок Лисий Нос', 'городской посёлок Советский',\n",
       "       'посёлок Кобралово', 'деревня Суоранда', 'поселок Кобралово',\n",
       "       'поселок городского типа Кондратьево',\n",
       "       'коттеджный поселок Счастье', 'поселок Любань', 'деревня Реброво',\n",
       "       'деревня Зимитицы', 'деревня Тойворово', 'поселок Семиозерье',\n",
       "       'поселок Лесное', 'поселок Совхозный', 'поселок Усть-Луга',\n",
       "       'посёлок Ленинское', 'посёлок Суйда',\n",
       "       'посёлок городского типа Форносово', 'деревня Нижние Осельки',\n",
       "       'посёлок станции Свирь', 'поселок Перово', 'Высоцк',\n",
       "       'поселок Гарболово', 'село Шум', 'поселок Котельский',\n",
       "       'поселок станции Лужайка', 'деревня Большая Пустомержа',\n",
       "       'поселок Красносельское', 'деревня Вахнова Кара', 'деревня Пижма',\n",
       "       'коттеджный поселок Кивеннапа Север', 'поселок Коробицыно',\n",
       "       'поселок Ромашки', 'посёлок Перово', 'деревня Каськово',\n",
       "       'деревня Куровицы', 'посёлок Плоское', 'поселок Сумино',\n",
       "       'поселок городского типа Большая Ижора', 'поселок Кирпичное',\n",
       "       'деревня Ям-Тесово', 'деревня Раздолье', 'деревня Терпилицы',\n",
       "       'посёлок Шугозеро', 'деревня Ваганово', 'поселок Пушное',\n",
       "       'садовое товарищество Садко', 'посёлок Усть-Ижора',\n",
       "       'деревня Выскатка', 'городской посёлок Свирьстрой',\n",
       "       'поселок Громово', 'деревня Кисельня', 'посёлок Старая Малукса',\n",
       "       'деревня Трубников Бор', 'поселок Калитино',\n",
       "       'посёлок Высокоключевой', 'садовое товарищество Приладожский',\n",
       "       'посёлок Пансионат Зелёный Бор', 'деревня Ненимяки',\n",
       "       'поселок Пансионат Зелёный Бор', 'деревня Снегирёвка',\n",
       "       'деревня Рапполово', 'деревня Пустынка', 'поселок Рабитицы',\n",
       "       'деревня Большой Сабск', 'деревня Русско', 'деревня Лупполово',\n",
       "       'деревня Большое Рейзино', 'деревня Малая Романовка',\n",
       "       'поселок Дружноселье', 'поселок Пчевжа', 'поселок Володарское',\n",
       "       'коттеджный посёлок Лесное', 'деревня Тихковицы',\n",
       "       'деревня Борисова Грива', 'посёлок Дзержинского'], dtype=object)"
      ]
     },
     "execution_count": 30,
     "metadata": {},
     "output_type": "execute_result"
    }
   ],
   "source": [
    "# просмотр уникальных значений в столбце `locality_name`\n",
    "data['locality_name'].unique()"
   ]
  },
  {
   "cell_type": "markdown",
   "metadata": {},
   "source": [
    "Мы видим, что много неявных дубликатов связано с написание букв \"е\" и \"ё\" в названии поселков или с разницей в определении \"городской поселок\" и \"поселок городского типа\". Заменим все \"ё\" на \"е\", а все \"городские поселки\" на \"поселки городского типа\"."
   ]
  },
  {
   "cell_type": "code",
   "execution_count": 31,
   "metadata": {
    "scrolled": true
   },
   "outputs": [
    {
     "data": {
      "text/plain": [
       "364"
      ]
     },
     "execution_count": 31,
     "metadata": {},
     "output_type": "execute_result"
    }
   ],
   "source": [
    "# определение количества уникальных значений в столбце 'locality_name'\n",
    "len(data['locality_name'].unique())"
   ]
  },
  {
   "cell_type": "code",
   "execution_count": 32,
   "metadata": {},
   "outputs": [
    {
     "data": {
      "text/plain": [
       "321"
      ]
     },
     "execution_count": 32,
     "metadata": {},
     "output_type": "execute_result"
    }
   ],
   "source": [
    "# замена строк для удаления неявных дубликтов\n",
    "data['locality_name'] = data['locality_name'].str.replace('ё', 'е', regex=True)\n",
    "data['locality_name'] = data['locality_name'].str.replace('городской поселок', 'поселок городского типа', regex=True)\n",
    "data['locality_name'] = data['locality_name'].str.replace('поселок Мурино', 'Мурино', regex=True)\n",
    "data['locality_name'] = data['locality_name'].str.replace('деревня Кудрово', 'Кудрово', regex=True)\n",
    "len(data['locality_name'].unique())"
   ]
  },
  {
   "cell_type": "markdown",
   "metadata": {},
   "source": [
    "Мы убрали 43 строчки неявных дубликатов в столбце `locality_name`."
   ]
  },
  {
   "cell_type": "markdown",
   "metadata": {},
   "source": [
    "#### Обработка аномальных значений"
   ]
  },
  {
   "cell_type": "markdown",
   "metadata": {},
   "source": [
    "Расмотрим и обработаем аномальные значения в оставшихся столбцах.\n",
    "\n",
    "При первичном анализе мы обнаружили слишком маленькое минимальное значение в столбце `total_area` - 2,65м. Таких маленьких квартир не бывает. Самая маленькая квартира на рынке Санкт-Петербурга это микростудия 12м. Удалим из таблицы все строки со значением `total_area` меньше 12 метров квадратных."
   ]
  },
  {
   "cell_type": "code",
   "execution_count": 33,
   "metadata": {},
   "outputs": [
    {
     "data": {
      "text/plain": [
       "0.1057708580132002"
      ]
     },
     "execution_count": 33,
     "metadata": {},
     "output_type": "execute_result"
    }
   ],
   "source": [
    "# подсчёт процента строк со значениями 'total_area' менее 12м\n",
    "len(data.loc[data['total_area'] < 12]) / len(data) * 100"
   ]
  },
  {
   "cell_type": "markdown",
   "metadata": {},
   "source": [
    "Количество строк, в которых значения общей площади менее 12 метров составляют менее одной десятой процента, поэтому мы можем уверенно избавиться от них."
   ]
  },
  {
   "cell_type": "code",
   "execution_count": 34,
   "metadata": {},
   "outputs": [],
   "source": [
    "# удаление строк со значением общей площади менее 12 метров\n",
    "data = data[data['total_area'] > 12]"
   ]
  },
  {
   "cell_type": "markdown",
   "metadata": {},
   "source": [
    "#### Вывод"
   ]
  },
  {
   "cell_type": "markdown",
   "metadata": {},
   "source": [
    "В данных были пропуски значений, возникших по причине человеческого фактора и ошибок автоматической картографической системы. В первом случае, пропуски могли возникнуть в связи с тем, что пользователь пропускал и не заполнял данные в форме. В дальнейшем таких пропусков можно бы было избежать, если сделать все необходимые поля в форме обязательными для заполнения.\n",
    "Во втором случае пропуски возникали в связи с неточностбю автоматической картографической системы. В дальнейшем подобных пропусков можно бы было избежать при более точной настройке автоматической системы и определения локации объекта недвижимости.\n",
    "\n",
    "В столбце `is_apartment` мы заменили пропуски на значение `False` и изменили тип данных на `bool`.\n",
    "\n",
    "В столбцах с жилой площадью и площадью кухни мы заполнили пропуски медианным значением площадей по количеству комнат в объекте недвижимости. Так как в студиях и апартаментах отсутствует кухня - мы заменили на 0 пропущенные значения в этих строках.\n",
    "\n",
    "В столбцах с количеством этажей и балконов мы изменили тип данных на `int`, так как в них не может быть значений с плавающей точкой. Пропуски в столбце с количеством балконов мы заполнили нулем, в стобце с количеством этажей фактическим этажом квартиры.\n",
    "\n",
    "Мы удалили строки, в которых отсутствовало название населенного пункта, так без него мы не сможем достоверно провести исследовательский анализ, а также избавились от неявных дубликатов в данном столбце.\n",
    "\n",
    "Столбец с днем публикации объявления мы привели к типу `datetime`.\n",
    "\n",
    "Мы удалили аномально маленькие значения в столбце `total_area`, оставив в таблице значения общей площади объекта недвижимости свыше 12 метров квадратных.\n",
    "\n",
    "Можем приступать к следующему этапу исследования."
   ]
  },
  {
   "cell_type": "markdown",
   "metadata": {},
   "source": [
    "Добавим необходимые для дальнейшего исследования столбцы в датафрейм:\n",
    "* цена одного квадратного метра;\n",
    "* день недели публикации объявления (0 - понедельник, 1 - вторник и так далее);\n",
    "* месяц публикации объявления;\n",
    "* год публикации объявления;\n",
    "* тип этажа квартиры (значения — «первый», «последний», «другой»);\n",
    "* расстояние до центра города в километрах.\n"
   ]
  },
  {
   "cell_type": "code",
   "execution_count": 36,
   "metadata": {},
   "outputs": [],
   "source": [
    "# создание столбца с ценой одного квадратного метра\n",
    "data['price_m2'] = data['last_price'] / data['total_area']"
   ]
  },
  {
   "cell_type": "code",
   "execution_count": 37,
   "metadata": {},
   "outputs": [],
   "source": [
    "# создание столбцов с днем недели, месяцем и годом публикации объявления\n",
    "data['weekday_exposition'] = data['first_day_exposition'].dt.weekday\n",
    "data['month_exposition'] = data['first_day_exposition'].dt.month\n",
    "data['year_exposition'] = data['first_day_exposition'].dt.year"
   ]
  },
  {
   "cell_type": "code",
   "execution_count": 38,
   "metadata": {},
   "outputs": [],
   "source": [
    "# категоризация данных по этажу объекта недвижимости\n",
    "def floor_category(row):\n",
    "    if row['floor'] == 1:\n",
    "        return 'первый'\n",
    "    elif row['floor'] == row['floors_total']:\n",
    "        return 'последний'\n",
    "    else:\n",
    "        return 'другой'\n",
    "    \n",
    "data['floor_category'] = data.apply(floor_category, axis=1)"
   ]
  },
  {
   "cell_type": "code",
   "execution_count": 39,
   "metadata": {},
   "outputs": [],
   "source": [
    "# создания столбца с расстоянием до центра города в км\n",
    "data['cityCenters_nearest_km'] = round(data['cityCenters_nearest'] / 1000)"
   ]
  },
  {
   "cell_type": "markdown",
   "metadata": {},
   "source": [
    "Проверим себя, выведем на экран 5 верхних строк датафрейма."
   ]
  },
  {
   "cell_type": "code",
   "execution_count": 40,
   "metadata": {},
   "outputs": [
    {
     "data": {
      "text/html": [
       "<div>\n",
       "<style scoped>\n",
       "    .dataframe tbody tr th:only-of-type {\n",
       "        vertical-align: middle;\n",
       "    }\n",
       "\n",
       "    .dataframe tbody tr th {\n",
       "        vertical-align: top;\n",
       "    }\n",
       "\n",
       "    .dataframe thead th {\n",
       "        text-align: right;\n",
       "    }\n",
       "</style>\n",
       "<table border=\"1\" class=\"dataframe\">\n",
       "  <thead>\n",
       "    <tr style=\"text-align: right;\">\n",
       "      <th></th>\n",
       "      <th>total_images</th>\n",
       "      <th>last_price</th>\n",
       "      <th>total_area</th>\n",
       "      <th>first_day_exposition</th>\n",
       "      <th>rooms</th>\n",
       "      <th>ceiling_height</th>\n",
       "      <th>floors_total</th>\n",
       "      <th>living_area</th>\n",
       "      <th>floor</th>\n",
       "      <th>is_apartment</th>\n",
       "      <th>studio</th>\n",
       "      <th>open_plan</th>\n",
       "      <th>kitchen_area</th>\n",
       "      <th>balcony</th>\n",
       "      <th>locality_name</th>\n",
       "      <th>airports_nearest</th>\n",
       "      <th>cityCenters_nearest</th>\n",
       "      <th>parks_around3000</th>\n",
       "      <th>parks_nearest</th>\n",
       "      <th>ponds_around3000</th>\n",
       "      <th>ponds_nearest</th>\n",
       "      <th>days_exposition</th>\n",
       "      <th>price_m2</th>\n",
       "      <th>weekday_exposition</th>\n",
       "      <th>month_exposition</th>\n",
       "      <th>year_exposition</th>\n",
       "      <th>floor_category</th>\n",
       "      <th>cityCenters_nearest_km</th>\n",
       "    </tr>\n",
       "  </thead>\n",
       "  <tbody>\n",
       "    <tr>\n",
       "      <th>0</th>\n",
       "      <td>20.0</td>\n",
       "      <td>13000000.0</td>\n",
       "      <td>108.0</td>\n",
       "      <td>2019-03-07</td>\n",
       "      <td>3.0</td>\n",
       "      <td>2.70</td>\n",
       "      <td>16</td>\n",
       "      <td>51.0</td>\n",
       "      <td>8</td>\n",
       "      <td>True</td>\n",
       "      <td>False</td>\n",
       "      <td>False</td>\n",
       "      <td>25.0</td>\n",
       "      <td>0</td>\n",
       "      <td>Санкт-Петербург</td>\n",
       "      <td>18863.0</td>\n",
       "      <td>16028.0</td>\n",
       "      <td>1.0</td>\n",
       "      <td>482.0</td>\n",
       "      <td>2.0</td>\n",
       "      <td>755.0</td>\n",
       "      <td>NaN</td>\n",
       "      <td>120370.370370</td>\n",
       "      <td>3</td>\n",
       "      <td>3</td>\n",
       "      <td>2019</td>\n",
       "      <td>другой</td>\n",
       "      <td>16.0</td>\n",
       "    </tr>\n",
       "    <tr>\n",
       "      <th>1</th>\n",
       "      <td>7.0</td>\n",
       "      <td>3350000.0</td>\n",
       "      <td>40.4</td>\n",
       "      <td>2018-12-04</td>\n",
       "      <td>1.0</td>\n",
       "      <td>2.65</td>\n",
       "      <td>11</td>\n",
       "      <td>18.6</td>\n",
       "      <td>1</td>\n",
       "      <td>True</td>\n",
       "      <td>False</td>\n",
       "      <td>False</td>\n",
       "      <td>11.0</td>\n",
       "      <td>2</td>\n",
       "      <td>поселок Шушары</td>\n",
       "      <td>12817.0</td>\n",
       "      <td>18603.0</td>\n",
       "      <td>0.0</td>\n",
       "      <td>NaN</td>\n",
       "      <td>0.0</td>\n",
       "      <td>NaN</td>\n",
       "      <td>81.0</td>\n",
       "      <td>82920.792079</td>\n",
       "      <td>1</td>\n",
       "      <td>12</td>\n",
       "      <td>2018</td>\n",
       "      <td>первый</td>\n",
       "      <td>19.0</td>\n",
       "    </tr>\n",
       "    <tr>\n",
       "      <th>2</th>\n",
       "      <td>10.0</td>\n",
       "      <td>5196000.0</td>\n",
       "      <td>56.0</td>\n",
       "      <td>2015-08-20</td>\n",
       "      <td>2.0</td>\n",
       "      <td>2.65</td>\n",
       "      <td>5</td>\n",
       "      <td>34.3</td>\n",
       "      <td>4</td>\n",
       "      <td>True</td>\n",
       "      <td>False</td>\n",
       "      <td>False</td>\n",
       "      <td>8.3</td>\n",
       "      <td>0</td>\n",
       "      <td>Санкт-Петербург</td>\n",
       "      <td>21741.0</td>\n",
       "      <td>13933.0</td>\n",
       "      <td>1.0</td>\n",
       "      <td>90.0</td>\n",
       "      <td>2.0</td>\n",
       "      <td>574.0</td>\n",
       "      <td>558.0</td>\n",
       "      <td>92785.714286</td>\n",
       "      <td>3</td>\n",
       "      <td>8</td>\n",
       "      <td>2015</td>\n",
       "      <td>другой</td>\n",
       "      <td>14.0</td>\n",
       "    </tr>\n",
       "    <tr>\n",
       "      <th>3</th>\n",
       "      <td>0.0</td>\n",
       "      <td>64900000.0</td>\n",
       "      <td>159.0</td>\n",
       "      <td>2015-07-24</td>\n",
       "      <td>3.0</td>\n",
       "      <td>2.65</td>\n",
       "      <td>14</td>\n",
       "      <td>45.0</td>\n",
       "      <td>9</td>\n",
       "      <td>True</td>\n",
       "      <td>False</td>\n",
       "      <td>False</td>\n",
       "      <td>9.5</td>\n",
       "      <td>0</td>\n",
       "      <td>Санкт-Петербург</td>\n",
       "      <td>28098.0</td>\n",
       "      <td>6800.0</td>\n",
       "      <td>2.0</td>\n",
       "      <td>84.0</td>\n",
       "      <td>3.0</td>\n",
       "      <td>234.0</td>\n",
       "      <td>424.0</td>\n",
       "      <td>408176.100629</td>\n",
       "      <td>4</td>\n",
       "      <td>7</td>\n",
       "      <td>2015</td>\n",
       "      <td>другой</td>\n",
       "      <td>7.0</td>\n",
       "    </tr>\n",
       "    <tr>\n",
       "      <th>4</th>\n",
       "      <td>2.0</td>\n",
       "      <td>10000000.0</td>\n",
       "      <td>100.0</td>\n",
       "      <td>2018-06-19</td>\n",
       "      <td>2.0</td>\n",
       "      <td>3.03</td>\n",
       "      <td>14</td>\n",
       "      <td>32.0</td>\n",
       "      <td>13</td>\n",
       "      <td>True</td>\n",
       "      <td>False</td>\n",
       "      <td>False</td>\n",
       "      <td>41.0</td>\n",
       "      <td>0</td>\n",
       "      <td>Санкт-Петербург</td>\n",
       "      <td>31856.0</td>\n",
       "      <td>8098.0</td>\n",
       "      <td>2.0</td>\n",
       "      <td>112.0</td>\n",
       "      <td>1.0</td>\n",
       "      <td>48.0</td>\n",
       "      <td>121.0</td>\n",
       "      <td>100000.000000</td>\n",
       "      <td>1</td>\n",
       "      <td>6</td>\n",
       "      <td>2018</td>\n",
       "      <td>другой</td>\n",
       "      <td>8.0</td>\n",
       "    </tr>\n",
       "  </tbody>\n",
       "</table>\n",
       "</div>"
      ],
      "text/plain": [
       "   total_images  last_price  total_area first_day_exposition  rooms  \\\n",
       "0          20.0  13000000.0       108.0           2019-03-07    3.0   \n",
       "1           7.0   3350000.0        40.4           2018-12-04    1.0   \n",
       "2          10.0   5196000.0        56.0           2015-08-20    2.0   \n",
       "3           0.0  64900000.0       159.0           2015-07-24    3.0   \n",
       "4           2.0  10000000.0       100.0           2018-06-19    2.0   \n",
       "\n",
       "   ceiling_height  floors_total  living_area  floor  is_apartment studio  \\\n",
       "0            2.70            16         51.0      8          True  False   \n",
       "1            2.65            11         18.6      1          True  False   \n",
       "2            2.65             5         34.3      4          True  False   \n",
       "3            2.65            14         45.0      9          True  False   \n",
       "4            3.03            14         32.0     13          True  False   \n",
       "\n",
       "  open_plan  kitchen_area  balcony    locality_name  airports_nearest  \\\n",
       "0     False          25.0        0  Санкт-Петербург           18863.0   \n",
       "1     False          11.0        2   поселок Шушары           12817.0   \n",
       "2     False           8.3        0  Санкт-Петербург           21741.0   \n",
       "3     False           9.5        0  Санкт-Петербург           28098.0   \n",
       "4     False          41.0        0  Санкт-Петербург           31856.0   \n",
       "\n",
       "   cityCenters_nearest  parks_around3000  parks_nearest  ponds_around3000  \\\n",
       "0              16028.0               1.0          482.0               2.0   \n",
       "1              18603.0               0.0            NaN               0.0   \n",
       "2              13933.0               1.0           90.0               2.0   \n",
       "3               6800.0               2.0           84.0               3.0   \n",
       "4               8098.0               2.0          112.0               1.0   \n",
       "\n",
       "   ponds_nearest  days_exposition       price_m2  weekday_exposition  \\\n",
       "0          755.0              NaN  120370.370370                   3   \n",
       "1            NaN             81.0   82920.792079                   1   \n",
       "2          574.0            558.0   92785.714286                   3   \n",
       "3          234.0            424.0  408176.100629                   4   \n",
       "4           48.0            121.0  100000.000000                   1   \n",
       "\n",
       "   month_exposition  year_exposition floor_category  cityCenters_nearest_km  \n",
       "0                 3             2019         другой                    16.0  \n",
       "1                12             2018         первый                    19.0  \n",
       "2                 8             2015         другой                    14.0  \n",
       "3                 7             2015         другой                     7.0  \n",
       "4                 6             2018         другой                     8.0  "
      ]
     },
     "execution_count": 40,
     "metadata": {},
     "output_type": "execute_result"
    }
   ],
   "source": [
    "data.head()"
   ]
  },
  {
   "cell_type": "markdown",
   "metadata": {},
   "source": [
    "Мы добавили необходимые для дальнейшего исследования столбцы в таблицу:\n",
    "* цена одного квадратного метра;\n",
    "* день недели публикации объявления (0 - понедельник, 1 - вторник и так далее);\n",
    "* месяц публикации объявления;\n",
    "* год публикации объявления;\n",
    "* тип этажа квартиры (значения — «первый», «последний», «другой»);\n",
    "* расстояние до центра города в километрах.\n",
    "\n",
    "Приступим к исследовательскому анализу данных."
   ]
  },
  {
   "cell_type": "markdown",
   "metadata": {},
   "source": [
    "### 3. Исследовательский анализ данных"
   ]
  },
  {
   "cell_type": "markdown",
   "metadata": {},
   "source": [
    "#### Описание основных признаков объектов недвижимости"
   ]
  },
  {
   "cell_type": "markdown",
   "metadata": {},
   "source": [
    "Изучим следующие параметры:\n",
    "\n",
    "* общая площадь;\n",
    "* жилая площадь;\n",
    "* площадь кухни;\n",
    "* цена объекта;\n",
    "* количество комнат;\n",
    "* высота потолков;\n",
    "* этаж квартиры;\n",
    "* тип этажа квартиры («первый», «последний», «другой»);\n",
    "* общее количество этажей в доме;\n",
    "* расстояние до центра города в метрах;\n",
    "* расстояние до ближайшего аэропорта;\n",
    "* расстояние до ближайшего парка;\n",
    "* день и месяц публикации объявления.\n",
    "\n",
    "Построим гистограммы для каждого признака и опишем их.\n"
   ]
  },
  {
   "cell_type": "code",
   "execution_count": 41,
   "metadata": {},
   "outputs": [
    {
     "data": {
      "text/plain": [
       "count    23610.000000\n",
       "mean        60.346911\n",
       "std         35.680587\n",
       "min         13.000000\n",
       "25%         40.000000\n",
       "50%         52.000000\n",
       "75%         69.787500\n",
       "max        900.000000\n",
       "Name: total_area, dtype: float64"
      ]
     },
     "execution_count": 41,
     "metadata": {},
     "output_type": "execute_result"
    },
    {
     "data": {
      "image/png": "[encoded data removed]",
      "text/plain": [
       "<Figure size 432x288 with 1 Axes>"
      ]
     },
     "metadata": {
      "needs_background": "light"
     },
     "output_type": "display_data"
    }
   ],
   "source": [
    "# построение гистограммы для столбца \"total_area\"\n",
    "data['total_area'].hist(bins=100)\n",
    "# вызов метода describe для опсиания основных статистических показателей значений в столбце 'total_area'\n",
    "data['total_area'].describe()"
   ]
  },
  {
   "cell_type": "markdown",
   "metadata": {},
   "source": [
    "На гистограмме мы видим, что большинство значений в столбце находятся в диапазоне до 200 метров квадратных. Свыше 200 метров квадратных значений уже совсем мало. Это говорит нам о том, что большинство объектов недвижимости, выставленных на продажу имеют общую площадь до 200 метров квадратных. Минимальная общая площадь - 13 метров квадратных, максимальная - 900 метров квадратных. Среднее значение - 60, медиана - 52, стандартное отклонение 35. В данных присутствует большой разброс значений. Рассмотрим поближе эти значения. Построим гистограмму с диапазоном значений от 0 до 200."
   ]
  },
  {
   "cell_type": "code",
   "execution_count": 42,
   "metadata": {},
   "outputs": [
    {
     "data": {
      "image/png": "[encoded data removed]",
      "text/plain": [
       "<Figure size 432x288 with 1 Axes>"
      ]
     },
     "metadata": {
      "needs_background": "light"
     },
     "output_type": "display_data"
    }
   ],
   "source": [
    "# построение гистограммы для столбца \"total_area\"\n",
    "data['total_area'].hist(bins=100, range=(0, 200))\n",
    "None"
   ]
  },
  {
   "cell_type": "markdown",
   "metadata": {},
   "source": [
    "Рассмотрев значения ближе, мы видим, что данные не распределены нормально. Большинство объектов недвижимости, выставленных на продажу имеют площадь от 25 до 75 метров квадратных, затем значение общей площади постепенно снижается.\n",
    "\n",
    "Построим ящик с усами для значений общей площади, ограничив диапазон значениями от 0 до 200."
   ]
  },
  {
   "cell_type": "code",
   "execution_count": 43,
   "metadata": {},
   "outputs": [
    {
     "data": {
      "image/png": "[encoded data removed]",
      "text/plain": [
       "<Figure size 432x288 with 1 Axes>"
      ]
     },
     "metadata": {
      "needs_background": "light"
     },
     "output_type": "display_data"
    }
   ],
   "source": [
    "# построение ящика с усами для столбца 'total_area' и диапазоном значений от 0 до 200\n",
    "plt.ylim(0, 200)\n",
    "data.boxplot(column='total_area')\n",
    "None"
   ]
  },
  {
   "cell_type": "markdown",
   "metadata": {},
   "source": [
    "Мы видим, что большинство значений лежит в диапазоне до 75 метров квадратных. Ориентировочная граница нормального размаха равна третьему квартилю + 1,5 межквартильного размаха, то есть приблизительно 115 метров квадратных. Все, что лежит за ней - считается выбросом. Однако этих выбросов очень много, что они сливаются в черную линию за пределами усов. Для того, чтобы не убирать слишком много значений из ислледования, оставим в нашем исследовании только значения общей площади объекта недвижимости до 200 метров квадратных."
   ]
  },
  {
   "cell_type": "code",
   "execution_count": 44,
   "metadata": {},
   "outputs": [],
   "source": [
    "# создание датафрейма, в который будут включены значения общей площади до 115 метров квадратных\n",
    "good_data = data.query('total_area <= 200')"
   ]
  },
  {
   "cell_type": "markdown",
   "metadata": {},
   "source": [
    "Рассмотрим гистограммы жилой площади и площади кухни в уже отфильтрованном датафрейме."
   ]
  },
  {
   "cell_type": "code",
   "execution_count": 45,
   "metadata": {},
   "outputs": [
    {
     "data": {
      "text/plain": [
       "count    23383.000000\n",
       "mean        33.140941\n",
       "std         17.215936\n",
       "min          2.000000\n",
       "25%         18.300000\n",
       "50%         30.100000\n",
       "75%         42.100000\n",
       "max        164.700000\n",
       "Name: living_area, dtype: float64"
      ]
     },
     "execution_count": 45,
     "metadata": {},
     "output_type": "execute_result"
    },
    {
     "data": {
      "image/png": "[encoded data removed]",
      "text/plain": [
       "<Figure size 432x288 with 1 Axes>"
      ]
     },
     "metadata": {
      "needs_background": "light"
     },
     "output_type": "display_data"
    }
   ],
   "source": [
    "# построение гистограммы для столбца \"living_area\"\n",
    "good_data['living_area'].hist(bins=50)\n",
    "# вызов метода describe для опсиания основных статистических показателей значений в столбце 'living_area'\n",
    "good_data['living_area'].describe()"
   ]
  },
  {
   "cell_type": "markdown",
   "metadata": {},
   "source": [
    "На гистограмме мы видим, что большинство значений в столбце находятся в диапазоне до 80 метров квадратных, затем значения плавно снижаются до 100 метров квадратных, и остаются только редкие значения свыше 100м, свыше 120 метров значения уже почти отсутствуют. Минимальная жилая площадь - 2 метра квадратных, максимальная - 165 метров квадратных. Среднее значение - 33, медиана - 30, стандартное отклонение 17. В данных присутствует разброс значений. Построим ящик с усами в диапазоне от 0 до 140 метров для определения выбросов."
   ]
  },
  {
   "cell_type": "code",
   "execution_count": 46,
   "metadata": {},
   "outputs": [
    {
     "data": {
      "image/png": "[encoded data removed]",
      "text/plain": [
       "<Figure size 432x288 with 1 Axes>"
      ]
     },
     "metadata": {
      "needs_background": "light"
     },
     "output_type": "display_data"
    }
   ],
   "source": [
    "# построение ящика с усами для столбца 'living_area' и диапазоном значений от 0 до 140\n",
    "plt.ylim(0, 140)\n",
    "good_data.boxplot(column='living_area')\n",
    "None"
   ]
  },
  {
   "cell_type": "markdown",
   "metadata": {},
   "source": [
    "Большинство значений лежит в диапазоне до 42 метров квадратных. Все значения свыше 80 метров квадратных считаются выбросами. Выбросов очень много. Для того, чтобы не убирать слишком много значений из исследования, оставим в нашем исследовании только значения жилой площади до 130 метров квадратных, так как свыше выбросы уже становятся редкими."
   ]
  },
  {
   "cell_type": "code",
   "execution_count": 47,
   "metadata": {},
   "outputs": [],
   "source": [
    "# включение в 'good_data' значений жилой площади до 130 метров квадратных\n",
    "good_data = good_data.query('living_area <= 130')"
   ]
  },
  {
   "cell_type": "code",
   "execution_count": 48,
   "metadata": {},
   "outputs": [
    {
     "data": {
      "text/plain": [
       "count    23365.000000\n",
       "mean        10.197232\n",
       "std          5.206597\n",
       "min          0.000000\n",
       "25%          7.200000\n",
       "50%          9.050000\n",
       "75%         11.300000\n",
       "max         93.200000\n",
       "Name: kitchen_area, dtype: float64"
      ]
     },
     "execution_count": 48,
     "metadata": {},
     "output_type": "execute_result"
    },
    {
     "data": {
      "image/png": "[encoded data removed]",
      "text/plain": [
       "<Figure size 432x288 with 1 Axes>"
      ]
     },
     "metadata": {
      "needs_background": "light"
     },
     "output_type": "display_data"
    }
   ],
   "source": [
    "# построение гистограммы для столбца 'kitchen_area'\n",
    "good_data['kitchen_area'].hist(bins=50)\n",
    "# вызов метода describe для опсиания основных статистических показателей значений в столбце 'living_area'\n",
    "good_data['kitchen_area'].describe()"
   ]
  },
  {
   "cell_type": "markdown",
   "metadata": {},
   "source": [
    "На гистограмме мы видим, что большинство значений в столбце находятся в диапазоне до 20 метров квадратных. Стандартное отклонение равно 5, минимальное значение равно 0 в студиях и апартаментах, максимальное значение - 93 метров квадратных. В данных присутствует большой разброс значений. Построим ящик с усами в диапазоне от 0 до 40 метров для определения выбросов."
   ]
  },
  {
   "cell_type": "code",
   "execution_count": 49,
   "metadata": {},
   "outputs": [
    {
     "data": {
      "image/png": "[encoded data removed]",
      "text/plain": [
       "<Figure size 432x288 with 1 Axes>"
      ]
     },
     "metadata": {
      "needs_background": "light"
     },
     "output_type": "display_data"
    }
   ],
   "source": [
    "# построение ящика с усами для столбца 'kitchen_area' и диапазоном значений от 0 до 40\n",
    "plt.ylim(0, 40)\n",
    "good_data.boxplot(column='kitchen_area')\n",
    "None"
   ]
  },
  {
   "cell_type": "markdown",
   "metadata": {},
   "source": [
    "Большинство значений лежит в диапазоне до 11 метров квадратных. Все значения свыше 17 метров квадратных считаются выбросами. После 35 метров выбросы начинают редеть, поэтому оставим в нашем исследовании только значения площади кухни до 35 метров квадратных."
   ]
  },
  {
   "cell_type": "code",
   "execution_count": 50,
   "metadata": {},
   "outputs": [],
   "source": [
    "# включение в 'good_data' значений площади кухни до 16 метров квадратных\n",
    "good_data = good_data.query('kitchen_area <= 35')"
   ]
  },
  {
   "cell_type": "markdown",
   "metadata": {},
   "source": [
    "Построим гистограмму по цене объекта и оценим ее. Для начала приведем значения в столбце из рублей к миллиону рублей для удобства и читабельности графиков."
   ]
  },
  {
   "cell_type": "code",
   "execution_count": 51,
   "metadata": {},
   "outputs": [
    {
     "data": {
      "text/plain": [
       "count    23201.000000\n",
       "mean         5.875691\n",
       "std          5.445971\n",
       "min          0.430000\n",
       "25%          3.400000\n",
       "50%          4.600000\n",
       "75%          6.600000\n",
       "max        289.238400\n",
       "Name: last_price, dtype: float64"
      ]
     },
     "execution_count": 51,
     "metadata": {},
     "output_type": "execute_result"
    },
    {
     "data": {
      "image/png": "[encoded data removed]",
      "text/plain": [
       "<Figure size 432x288 with 1 Axes>"
      ]
     },
     "metadata": {
      "needs_background": "light"
     },
     "output_type": "display_data"
    }
   ],
   "source": [
    "# перевод значений столбца 'last_price' из рублей в миллионы рублей\n",
    "good_data['last_price'] = good_data['last_price'] / 1000000\n",
    "# построение гистограммы для столбца 'last_price'\n",
    "good_data['last_price'].hist(bins=100)\n",
    "# вызов метода describe для опсиания основных статистических показателей значений в столбце 'last_price'\n",
    "good_data['last_price'].describe()"
   ]
  },
  {
   "cell_type": "markdown",
   "metadata": {},
   "source": [
    "Почти все значения в столбце находятся в диапазоне до 50 миллионов рублей. Стандартное отклонение равно почти 3 миллиона рублей, минимальное значение равно 430 тысяч рублей, максимальное значение - 48 ммиллионов. В данных присутствует большой разброс значений. Построим ящик с усами в диапазоне от 0 до 20 миллионов для определения выбросов. Рассмотрим поближе эти значения. Построим гистограмму с диапазоном значений от 0 до 50 миллионов."
   ]
  },
  {
   "cell_type": "code",
   "execution_count": 52,
   "metadata": {},
   "outputs": [
    {
     "data": {
      "image/png": "[encoded data removed]",
      "text/plain": [
       "<Figure size 432x288 with 1 Axes>"
      ]
     },
     "metadata": {
      "needs_background": "light"
     },
     "output_type": "display_data"
    }
   ],
   "source": [
    "# построение гистограммы для столбца 'last_price' c диапазоном от 0 до 50\n",
    "good_data['last_price'].hist(bins=100, range=(0, 50))\n",
    "None"
   ]
  },
  {
   "cell_type": "markdown",
   "metadata": {},
   "source": [
    "Рассмотрев значения ближе, мы видим, что большинство цен объектов недвижимости, выставленных на продажу находятся в диапазоне до 20 миллионов рублей, затем встречаются отдельные значения до 50 миллионов.\n",
    "\n",
    "Построим ящик с усами для значений цены, ограничив диапазон значениями от 0 до 40."
   ]
  },
  {
   "cell_type": "code",
   "execution_count": 53,
   "metadata": {},
   "outputs": [
    {
     "data": {
      "image/png": "[encoded data removed]",
      "text/plain": [
       "<Figure size 432x288 with 1 Axes>"
      ]
     },
     "metadata": {
      "needs_background": "light"
     },
     "output_type": "display_data"
    }
   ],
   "source": [
    "# построение ящика с усами для столбца 'last_price' и диапазоном значений от 0 до 40\n",
    "plt.ylim(0, 40)\n",
    "good_data.boxplot(column='last_price')\n",
    "None"
   ]
  },
  {
   "cell_type": "markdown",
   "metadata": {},
   "source": [
    "Большинство цен объектов недвижимости лежит в диапазоне до 6.6 миллионов рублей. Все, что стоит больше 11 миллионов является выбросами, выбросов значительно много. После 30 миллионов количество выбросов редеет, оставим в данных только значения цены до 30 миллионов рублей."
   ]
  },
  {
   "cell_type": "code",
   "execution_count": 54,
   "metadata": {},
   "outputs": [],
   "source": [
    "# включение в 'good_data' значений цены до 10 миллионов\n",
    "good_data = good_data.query('last_price <= 30')"
   ]
  },
  {
   "cell_type": "code",
   "execution_count": 55,
   "metadata": {},
   "outputs": [
    {
     "data": {
      "text/plain": [
       "count    23048.000000\n",
       "mean         2.016227\n",
       "std          0.980257\n",
       "min          0.000000\n",
       "25%          1.000000\n",
       "50%          2.000000\n",
       "75%          3.000000\n",
       "max          8.000000\n",
       "Name: rooms, dtype: float64"
      ]
     },
     "execution_count": 55,
     "metadata": {},
     "output_type": "execute_result"
    },
    {
     "data": {
      "image/png": "[encoded data removed]",
      "text/plain": [
       "<Figure size 432x288 with 1 Axes>"
      ]
     },
     "metadata": {
      "needs_background": "light"
     },
     "output_type": "display_data"
    }
   ],
   "source": [
    "# построение гистограммы для столбца 'rooms'\n",
    "good_data['rooms'].hist()\n",
    "# вызов метода describe для опсиания основных статистических показателей значений в столбце 'last_price'\n",
    "good_data['rooms'].describe()"
   ]
  },
  {
   "cell_type": "markdown",
   "metadata": {},
   "source": [
    "Проанализировав гистограмму, мы видим, что значения количество комнат довольно равномерно распределены. Большинство объектов недвижимости имеют 1, 2 или 3 комнаты. В отдельных объектах встречаются нулевые значения - это могут быть объекты со свободной планировкой, они же являются минимальным значением в столбце. Максимальное значение - 6 комнат. Среднее равно 2, медиана - 2 комнаты. Стандартное отклонение меньше единицы. Данные распределены довольно равномерно. Посмотрим на ящик с усами."
   ]
  },
  {
   "cell_type": "code",
   "execution_count": 56,
   "metadata": {},
   "outputs": [
    {
     "data": {
      "image/png": "[encoded data removed]",
      "text/plain": [
       "<Figure size 432x288 with 1 Axes>"
      ]
     },
     "metadata": {
      "needs_background": "light"
     },
     "output_type": "display_data"
    }
   ],
   "source": [
    "# построение ящика с усами для столбца 'rooms'\n",
    "good_data.boxplot(column='rooms')\n",
    "None"
   ]
  },
  {
   "cell_type": "markdown",
   "metadata": {},
   "source": [
    "Мы убедились в том, что большинство значений лежат в диапазоне от 1 до 3 комнат. Существует два выброса по 7 и 8 комнат. Удалим их из наших данных."
   ]
  },
  {
   "cell_type": "code",
   "execution_count": 57,
   "metadata": {},
   "outputs": [],
   "source": [
    "# включение в 'good_data' значений комнат больше 6\n",
    "good_data = good_data.query('rooms <= 6')"
   ]
  },
  {
   "cell_type": "code",
   "execution_count": 58,
   "metadata": {},
   "outputs": [
    {
     "data": {
      "text/plain": [
       "count    23030.000000\n",
       "mean         2.689372\n",
       "std          0.215125\n",
       "min          2.200000\n",
       "25%          2.600000\n",
       "50%          2.650000\n",
       "75%          2.700000\n",
       "max          8.300000\n",
       "Name: ceiling_height, dtype: float64"
      ]
     },
     "execution_count": 58,
     "metadata": {},
     "output_type": "execute_result"
    },
    {
     "data": {
      "image/png": "[encoded data removed]",
      "text/plain": [
       "<Figure size 432x288 with 1 Axes>"
      ]
     },
     "metadata": {
      "needs_background": "light"
     },
     "output_type": "display_data"
    }
   ],
   "source": [
    "# построение гистограммы для столбца 'ceiling_height'\n",
    "good_data['ceiling_height'].hist()\n",
    "# вызов метода describe для опсиания основных статистических показателей значений в столбце 'ceiling_height'\n",
    "good_data['ceiling_height'].describe()"
   ]
  },
  {
   "cell_type": "markdown",
   "metadata": {},
   "source": [
    "От аномальных значений в данном столбце мы избавились еще на этапе предобработки данных. Пропуски заполнили медианами, поэтому данные в столбце сейчас распределены довольно равномерно и в большинстве своем состредоточены в одном диапазоне от 2 до 3 метров. Минимальное значение - 2.2 метров, максимальное значение - 8.3 метра. Среднее значение и медиана почти совпадают и составляют 2.7 метра. Стандартное отклонение меньше единицы. Проверим наличие выбросов с помощью ящика с усами."
   ]
  },
  {
   "cell_type": "code",
   "execution_count": 59,
   "metadata": {},
   "outputs": [
    {
     "data": {
      "image/png": "[encoded data removed]",
      "text/plain": [
       "<Figure size 432x288 with 1 Axes>"
      ]
     },
     "metadata": {
      "needs_background": "light"
     },
     "output_type": "display_data"
    }
   ],
   "source": [
    "# построение ящика с усами для столбца 'ceiling_height'\n",
    "plt.ylim(2, 4)\n",
    "good_data.boxplot(column='ceiling_height')\n",
    "None"
   ]
  },
  {
   "cell_type": "markdown",
   "metadata": {},
   "source": [
    "Ящик с усами демонстрирует нам очень интересную картину, в которой медиана равна третьему квартилю, а все значения свыше 2.8 и меньше 2.3 являются выбросами. Выбросов очень много. Удалим редкие выбросы и оставим данные в даиапазоне от 2.3 до 3.25 метра."
   ]
  },
  {
   "cell_type": "code",
   "execution_count": 60,
   "metadata": {},
   "outputs": [],
   "source": [
    "# включение в 'good_data' значений высота потолка в диапахоне от 2.3 до 3.25\n",
    "good_data = good_data.query('2.3 <= ceiling_height <= 3.25')"
   ]
  },
  {
   "cell_type": "code",
   "execution_count": 61,
   "metadata": {
    "scrolled": true
   },
   "outputs": [
    {
     "data": {
      "text/plain": [
       "count    22440.000000\n",
       "mean         5.977718\n",
       "std          4.939876\n",
       "min          1.000000\n",
       "25%          2.000000\n",
       "50%          4.000000\n",
       "75%          8.000000\n",
       "max         33.000000\n",
       "Name: floor, dtype: float64"
      ]
     },
     "execution_count": 61,
     "metadata": {},
     "output_type": "execute_result"
    },
    {
     "data": {
      "image/png": "[encoded data removed]",
      "text/plain": [
       "<Figure size 432x288 with 1 Axes>"
      ]
     },
     "metadata": {
      "needs_background": "light"
     },
     "output_type": "display_data"
    }
   ],
   "source": [
    "# построение гистограммы для столбца 'floor'\n",
    "good_data['floor'].hist()\n",
    "# вызов метода describe для опсиания основных статистических показателей значений в столбце 'ceiling_height'\n",
    "good_data['floor'].describe()"
   ]
  },
  {
   "cell_type": "markdown",
   "metadata": {},
   "source": [
    "Мы видим довольно равномерное на первый взгляд распределение данных. Большинство объектов недвижимости, выставленных на продажу, находятся до 10 этажа, затем количество снижается до 25 этажа и совсем немного значений до 30 этажа. Минимальный этаж - первый, максимальный - 31, среднее значение - 6 этаж, медиана - 4 этаж. Стандартное отклонение равно 4. Посмотрим на ящик с усами."
   ]
  },
  {
   "cell_type": "code",
   "execution_count": 62,
   "metadata": {},
   "outputs": [
    {
     "data": {
      "image/png": "[encoded data removed]",
      "text/plain": [
       "<Figure size 432x288 with 1 Axes>"
      ]
     },
     "metadata": {
      "needs_background": "light"
     },
     "output_type": "display_data"
    }
   ],
   "source": [
    "# построение ящика с усами для столбца 'floor'\n",
    "plt.ylim(0, 30)\n",
    "good_data.boxplot(column='floor')\n",
    "None"
   ]
  },
  {
   "cell_type": "markdown",
   "metadata": {},
   "source": [
    "Большинство значений находятся в диапазоне от 2 до 8 этажа. Свыше 18 этажа отдельные значения являются редкими выбросами. Удалим их из данных."
   ]
  },
  {
   "cell_type": "code",
   "execution_count": 63,
   "metadata": {},
   "outputs": [],
   "source": [
    "# включение в 'good_data' значений этажа меньше или равного 18\n",
    "good_data = good_data.loc[good_data['floor'] <= 18]"
   ]
  },
  {
   "cell_type": "code",
   "execution_count": 64,
   "metadata": {},
   "outputs": [
    {
     "data": {
      "text/plain": [
       "count      21711\n",
       "unique         3\n",
       "top       другой\n",
       "freq       15886\n",
       "Name: floor_category, dtype: object"
      ]
     },
     "execution_count": 64,
     "metadata": {},
     "output_type": "execute_result"
    },
    {
     "data": {
      "image/png": "[encoded data removed]",
      "text/plain": [
       "<Figure size 432x288 with 1 Axes>"
      ]
     },
     "metadata": {
      "needs_background": "light"
     },
     "output_type": "display_data"
    }
   ],
   "source": [
    "# построение гистограммы для столбца 'floor_category'\n",
    "good_data['floor_category'].hist(bins=6)\n",
    "good_data['floor_category'].describe()"
   ]
  },
  {
   "cell_type": "markdown",
   "metadata": {},
   "source": [
    "На гистограмме видно, что около 16 тысяч объектов недвижимости, выставленных на продажу, располагаются не на первом и не на последнем этажах. На первом и на последнем этажах расположено практически одинаковое количество - около 3 тысяч объектов недвижимости."
   ]
  },
  {
   "cell_type": "code",
   "execution_count": 65,
   "metadata": {},
   "outputs": [
    {
     "data": {
      "text/plain": [
       "count    21711.000000\n",
       "mean        10.432085\n",
       "std          6.244318\n",
       "min          1.000000\n",
       "25%          5.000000\n",
       "50%          9.000000\n",
       "75%         15.000000\n",
       "max         60.000000\n",
       "Name: floors_total, dtype: float64"
      ]
     },
     "execution_count": 65,
     "metadata": {},
     "output_type": "execute_result"
    },
    {
     "data": {
      "image/png": "[encoded data removed]",
      "text/plain": [
       "<Figure size 432x288 with 1 Axes>"
      ]
     },
     "metadata": {
      "needs_background": "light"
     },
     "output_type": "display_data"
    }
   ],
   "source": [
    "# построение гистограммы для столбца 'floors_total'\n",
    "good_data['floors_total'].hist(bins=30)\n",
    "# вызов метода describe для опсиания основных статистических показателей значений в столбце 'floors_total'\n",
    "good_data['floors_total'].describe()"
   ]
  },
  {
   "cell_type": "markdown",
   "metadata": {},
   "source": [
    "Проанализировав гистограмму, мы видим, что практически все значения столбца со значениями этажей в доме распределены в диапазоне до 30 этажей с редкими выбросами свыше. Минимальное значение - 1 этаж, максимальное 60 этажей. Среднее значение - 10 этажей, медиана - 9 этажей, стандартное отклонение - 6. Посмотрим на ящик с усами."
   ]
  },
  {
   "cell_type": "code",
   "execution_count": 66,
   "metadata": {},
   "outputs": [
    {
     "data": {
      "image/png": "[encoded data removed]",
      "text/plain": [
       "<Figure size 432x288 with 1 Axes>"
      ]
     },
     "metadata": {
      "needs_background": "light"
     },
     "output_type": "display_data"
    }
   ],
   "source": [
    "# построение ящика с усами для столбца 'floors_total'\n",
    "plt.ylim(0, 60)\n",
    "good_data.boxplot(column='floors_total')\n",
    "None"
   ]
  },
  {
   "cell_type": "markdown",
   "metadata": {},
   "source": [
    "Основное большинство значений находятся в диапазоне от 5 до 15 этажей. Свыше 30 этажей есть редкие выбросы, удалим их."
   ]
  },
  {
   "cell_type": "code",
   "execution_count": 67,
   "metadata": {},
   "outputs": [],
   "source": [
    "# включение в 'good_data' значений этажей в доме менее 30\n",
    "good_data = good_data.loc[good_data['floors_total'] < 30]"
   ]
  },
  {
   "cell_type": "code",
   "execution_count": 68,
   "metadata": {},
   "outputs": [
    {
     "data": {
      "text/plain": [
       "count    16366.000000\n",
       "mean        14.677685\n",
       "std          8.591951\n",
       "min          0.000000\n",
       "25%         10.000000\n",
       "50%         13.000000\n",
       "75%         16.000000\n",
       "max         66.000000\n",
       "Name: cityCenters_nearest_km, dtype: float64"
      ]
     },
     "execution_count": 68,
     "metadata": {},
     "output_type": "execute_result"
    },
    {
     "data": {
      "image/png": "[encoded data removed]",
      "text/plain": [
       "<Figure size 432x288 with 1 Axes>"
      ]
     },
     "metadata": {
      "needs_background": "light"
     },
     "output_type": "display_data"
    }
   ],
   "source": [
    "# построение гистограммы для столбца 'cityCenters_nearest_km'\n",
    "good_data['cityCenters_nearest_km'].hist(bins=33)\n",
    "# вызов метода describe для опсиания основных статистических показателей значений в столбце 'cityCenters_nearest_km'\n",
    "good_data['cityCenters_nearest_km'].describe()"
   ]
  },
  {
   "cell_type": "markdown",
   "metadata": {},
   "source": [
    "Большинство значений столбца с указанием расстояния до центра города находятся в диапазоне от 0 до 35 км. Более 3 тысяч объектов недвижимости находятся на расстоянии 12 и 14 км от центра города, около 2 тысяч на расстоянии 16 км. Данные не распределены нормально. Определим выбросы с помощью ящика с усами."
   ]
  },
  {
   "cell_type": "code",
   "execution_count": 69,
   "metadata": {},
   "outputs": [
    {
     "data": {
      "image/png": "[encoded data removed]",
      "text/plain": [
       "<Figure size 432x288 with 1 Axes>"
      ]
     },
     "metadata": {
      "needs_background": "light"
     },
     "output_type": "display_data"
    }
   ],
   "source": [
    "# построение ящика с усами для столбца 'cityCenters_nearest_km'\n",
    "plt.ylim(0, 60)\n",
    "good_data.boxplot(column='cityCenters_nearest_km')\n",
    "None"
   ]
  },
  {
   "cell_type": "markdown",
   "metadata": {},
   "source": [
    "Большинство значений находятся в диапазоне от 10 до 16 км от центра города. Среднее значение - 15 км, медиана - 13 км, стандартное отклонение равно 9км. Минимальное расстояние от центра города - 0 км, максимальное - 66 км. Выбросы свыше 25 км довольно редкие. Не будем избавляться от них, так как в столбце много пропущенных значений, запомним эту особенность для дальнейших выводов."
   ]
  },
  {
   "cell_type": "code",
   "execution_count": 70,
   "metadata": {},
   "outputs": [
    {
     "data": {
      "text/plain": [
       "count    16348.000000\n",
       "mean        28.899710\n",
       "std         12.797468\n",
       "min          0.000000\n",
       "25%         18.230000\n",
       "50%         27.179000\n",
       "75%         37.434000\n",
       "max         84.869000\n",
       "Name: airports_nearest, dtype: float64"
      ]
     },
     "execution_count": 70,
     "metadata": {},
     "output_type": "execute_result"
    },
    {
     "data": {
      "image/png": "[encoded data removed]",
      "text/plain": [
       "<Figure size 432x288 with 1 Axes>"
      ]
     },
     "metadata": {
      "needs_background": "light"
     },
     "output_type": "display_data"
    }
   ],
   "source": [
    "# перевод значений столбца 'airports_nearest' из метров в километры\n",
    "good_data['airports_nearest'] = good_data['airports_nearest'] / 1000\n",
    "# построение гистограммы для столбца 'airports_nearest'\n",
    "good_data['airports_nearest'].hist(bins=60)\n",
    "# вызов метода describe для опсиания основных статистических показателей значений в столбце 'airports_nearest'\n",
    "good_data['airports_nearest'].describe()"
   ]
  },
  {
   "cell_type": "markdown",
   "metadata": {},
   "source": [
    "Большинство значений лежат в диапазоне от 18 до 37 км, что говорит о том, что большинство объектов недвижимости находятся на удалении от аэропорта от 18 до 37 км. Минимальное значение - 28 км, максимальное значение - 62 км, среднее - 28 км, медиана 27 км, стандартное отклонение 12 км. Оценим выбросы на ящике с усами."
   ]
  },
  {
   "cell_type": "code",
   "execution_count": 71,
   "metadata": {},
   "outputs": [
    {
     "data": {
      "image/png": "[encoded data removed]",
      "text/plain": [
       "<Figure size 432x288 with 1 Axes>"
      ]
     },
     "metadata": {
      "needs_background": "light"
     },
     "output_type": "display_data"
    }
   ],
   "source": [
    "# построение ящика с усами для столбца 'airports_nearest'\n",
    "plt.ylim(0, 70)\n",
    "good_data.boxplot(column='airports_nearest')\n",
    "None"
   ]
  },
  {
   "cell_type": "markdown",
   "metadata": {},
   "source": [
    "Мы не видим выбросов на графике с усами, распределение довольно равномерное, без выбросов. "
   ]
  },
  {
   "cell_type": "code",
   "execution_count": 72,
   "metadata": {},
   "outputs": [
    {
     "data": {
      "text/plain": [
       "count    7118.000000\n",
       "mean      495.452655\n",
       "std       345.512329\n",
       "min         1.000000\n",
       "25%       292.000000\n",
       "50%       457.000000\n",
       "75%       614.000000\n",
       "max      3190.000000\n",
       "Name: parks_nearest, dtype: float64"
      ]
     },
     "execution_count": 72,
     "metadata": {},
     "output_type": "execute_result"
    },
    {
     "data": {
      "image/png": "[encoded data removed]",
      "text/plain": [
       "<Figure size 432x288 with 1 Axes>"
      ]
     },
     "metadata": {
      "needs_background": "light"
     },
     "output_type": "display_data"
    }
   ],
   "source": [
    "# построение гистограммы для столбца 'parks_nearest'\n",
    "good_data['parks_nearest'].hist(bins=60)\n",
    "# вызов метода describe для опсиания основных статистических показателей значений в столбце 'parks_nearest'\n",
    "good_data['parks_nearest'].describe()"
   ]
  },
  {
   "cell_type": "markdown",
   "metadata": {},
   "source": [
    "Мы видим, что основное большинство объектов недвижимости расположены на расстоянии от 0 до 1000 метров до ближайшего парка, гораздо меньшего количества объектов недвижимости ближайший парк находится на расстоянии от 1000 до 2500 метров. Минимальное значение - 1 метр, максимальное значение - 3190 метров, среднее значение - 506 метров, медиана 469 метров, стандартное отклоненре 349 метров. "
   ]
  },
  {
   "cell_type": "code",
   "execution_count": 73,
   "metadata": {},
   "outputs": [
    {
     "data": {
      "text/plain": [
       "<AxesSubplot:>"
      ]
     },
     "execution_count": 73,
     "metadata": {},
     "output_type": "execute_result"
    },
    {
     "data": {
      "image/png": "[encoded data removed]",
      "text/plain": [
       "<Figure size 432x288 with 1 Axes>"
      ]
     },
     "metadata": {
      "needs_background": "light"
     },
     "output_type": "display_data"
    }
   ],
   "source": [
    "# построение ящика с усами для столбца 'parks_nearest'\n",
    "plt.ylim(0, 2500)\n",
    "good_data.boxplot(column='parks_nearest')"
   ]
  },
  {
   "cell_type": "markdown",
   "metadata": {},
   "source": [
    "Большинство объектов недвижимости расположены на расстоянии от 307 до 624 метров от ближайшего парка. Свыше 1050 метров идут значения выбросы. Также учитываем то, что в столбце много пропущенных значений."
   ]
  },
  {
   "cell_type": "code",
   "execution_count": 74,
   "metadata": {},
   "outputs": [
    {
     "data": {
      "text/html": [
       "<div>\n",
       "<style scoped>\n",
       "    .dataframe tbody tr th:only-of-type {\n",
       "        vertical-align: middle;\n",
       "    }\n",
       "\n",
       "    .dataframe tbody tr th {\n",
       "        vertical-align: top;\n",
       "    }\n",
       "\n",
       "    .dataframe thead th {\n",
       "        text-align: right;\n",
       "    }\n",
       "</style>\n",
       "<table border=\"1\" class=\"dataframe\">\n",
       "  <thead>\n",
       "    <tr style=\"text-align: right;\">\n",
       "      <th></th>\n",
       "      <th>weekday_exposition</th>\n",
       "      <th>month_exposition</th>\n",
       "    </tr>\n",
       "  </thead>\n",
       "  <tbody>\n",
       "    <tr>\n",
       "      <th>count</th>\n",
       "      <td>21695.000000</td>\n",
       "      <td>21695.000000</td>\n",
       "    </tr>\n",
       "    <tr>\n",
       "      <th>mean</th>\n",
       "      <td>2.570961</td>\n",
       "      <td>6.403641</td>\n",
       "    </tr>\n",
       "    <tr>\n",
       "      <th>std</th>\n",
       "      <td>1.794074</td>\n",
       "      <td>3.491857</td>\n",
       "    </tr>\n",
       "    <tr>\n",
       "      <th>min</th>\n",
       "      <td>0.000000</td>\n",
       "      <td>1.000000</td>\n",
       "    </tr>\n",
       "    <tr>\n",
       "      <th>25%</th>\n",
       "      <td>1.000000</td>\n",
       "      <td>3.000000</td>\n",
       "    </tr>\n",
       "    <tr>\n",
       "      <th>50%</th>\n",
       "      <td>3.000000</td>\n",
       "      <td>6.000000</td>\n",
       "    </tr>\n",
       "    <tr>\n",
       "      <th>75%</th>\n",
       "      <td>4.000000</td>\n",
       "      <td>10.000000</td>\n",
       "    </tr>\n",
       "    <tr>\n",
       "      <th>max</th>\n",
       "      <td>6.000000</td>\n",
       "      <td>12.000000</td>\n",
       "    </tr>\n",
       "  </tbody>\n",
       "</table>\n",
       "</div>"
      ],
      "text/plain": [
       "       weekday_exposition  month_exposition\n",
       "count        21695.000000      21695.000000\n",
       "mean             2.570961          6.403641\n",
       "std              1.794074          3.491857\n",
       "min              0.000000          1.000000\n",
       "25%              1.000000          3.000000\n",
       "50%              3.000000          6.000000\n",
       "75%              4.000000         10.000000\n",
       "max              6.000000         12.000000"
      ]
     },
     "execution_count": 74,
     "metadata": {},
     "output_type": "execute_result"
    },
    {
     "data": {
      "image/png": "[encoded data removed]",
      "text/plain": [
       "<Figure size 432x288 with 2 Axes>"
      ]
     },
     "metadata": {
      "needs_background": "light"
     },
     "output_type": "display_data"
    }
   ],
   "source": [
    "# построение графика зависимости количества объявлений от дня и месяца публикации объекта\n",
    "good_data.plot(x='month_exposition', y='weekday_exposition', kind='hexbin', gridsize=11, sharex=False, grid=True)\n",
    "# вызов метода describe для опсиания основных статистических показателей значений в столбце 'month_exposition' и 'weekday_exposition\n",
    "good_data[['weekday_exposition', 'month_exposition']].describe()"
   ]
  },
  {
   "cell_type": "markdown",
   "metadata": {},
   "source": [
    "На графике видно, что самое большое количество объявлений было опубликовано по четвергам в феврале. \n",
    "В целом, по месяцам больше объявлений публикуется в феврале, марте, апреле и ноябре, меньше всего объявлений публиковалось в мае.\n",
    "По дням недели мы видим, что большинство объявление публиковались в будни, меньше всего - в выходные."
   ]
  },
  {
   "cell_type": "markdown",
   "metadata": {},
   "source": [
    "#### Исследование скорости продаж объектов недвижимости"
   ]
  },
  {
   "cell_type": "markdown",
   "metadata": {},
   "source": [
    "Посторим гистограмму по столбцу `days_exposition` и опишем её."
   ]
  },
  {
   "cell_type": "code",
   "execution_count": 75,
   "metadata": {},
   "outputs": [
    {
     "data": {
      "text/plain": [
       "count    18885.000000\n",
       "mean       176.479269\n",
       "std        214.784625\n",
       "min          1.000000\n",
       "25%         44.000000\n",
       "50%         93.000000\n",
       "75%        224.000000\n",
       "max       1580.000000\n",
       "Name: days_exposition, dtype: float64"
      ]
     },
     "execution_count": 75,
     "metadata": {},
     "output_type": "execute_result"
    },
    {
     "data": {
      "image/png": "[encoded data removed]",
      "text/plain": [
       "<Figure size 432x288 with 1 Axes>"
      ]
     },
     "metadata": {
      "needs_background": "light"
     },
     "output_type": "display_data"
    }
   ],
   "source": [
    "# построение гистограммы для столбца 'days_exposition'\n",
    "good_data['days_exposition'].hist(bins=100)\n",
    "# вызов метода describe для опсиания основных статистических показателей значений в столбце 'parks_nearest'\n",
    "good_data['days_exposition'].describe()"
   ]
  },
  {
   "cell_type": "code",
   "execution_count": 76,
   "metadata": {
    "scrolled": true
   },
   "outputs": [
    {
     "data": {
      "image/png": "[encoded data removed]",
      "text/plain": [
       "<Figure size 432x288 with 1 Axes>"
      ]
     },
     "metadata": {
      "needs_background": "light"
     },
     "output_type": "display_data"
    }
   ],
   "source": [
    "# построение ящика с усами для столбца 'days_exposition'\n",
    "good_data.boxplot(column='days_exposition')\n",
    "None"
   ]
  },
  {
   "cell_type": "markdown",
   "metadata": {},
   "source": [
    "Исследовав графики, мы видим, что обычно продажа объектов недвижимости занимала от 44 до 224 дней. Среднее значение - 176 дней, медиана - 93 дня. Стандартное отклонение - 214 дней. Быстрыми можно считать продажи от 1 до 44 дней, а необычно долгими - продажи более 494 дней."
   ]
  },
  {
   "cell_type": "markdown",
   "metadata": {},
   "source": [
    "#### Факторы, влияющие на стоимость объекта"
   ]
  },
  {
   "cell_type": "markdown",
   "metadata": {},
   "source": [
    "Изучим, зависит ли цена от:\n",
    "* общей площади;\n",
    "* жилой площади;\n",
    "* площади кухни;\n",
    "* количества комнат;\n",
    "* этажа, на котором расположена квартира (первый, последний, другой);\n",
    "* даты размещения (день недели, месяц, год).\n",
    "\n",
    "Анализ будем проводить на `good_data`, очищенном от выбросов."
   ]
  },
  {
   "cell_type": "code",
   "execution_count": 77,
   "metadata": {},
   "outputs": [
    {
     "data": {
      "image/png": "[encoded data removed]",
      "text/plain": [
       "<Figure size 432x288 with 1 Axes>"
      ]
     },
     "metadata": {
      "needs_background": "light"
     },
     "output_type": "display_data"
    }
   ],
   "source": [
    "# построение диаграммы рассеивания зависимости стоимости от общей площади\n",
    "(\n",
    "good_data.pivot_table(index='total_area', values='last_price', aggfunc='median')\n",
    "         .plot(style='o', grid=True, alpha=0.35)\n",
    ")\n",
    "None"
   ]
  },
  {
   "cell_type": "markdown",
   "metadata": {},
   "source": [
    "Мы видим на диаграмме заметную зависимость стоимости объекта недвижимости от его площади, чем больше площадь, тем больше цена. Однако, чем выше цена и больше общая площадь, тем больше значений начинают расходиться и рассеиваться по графику."
   ]
  },
  {
   "cell_type": "code",
   "execution_count": 78,
   "metadata": {},
   "outputs": [
    {
     "data": {
      "image/png": "[encoded data removed]",
      "text/plain": [
       "<Figure size 432x288 with 1 Axes>"
      ]
     },
     "metadata": {
      "needs_background": "light"
     },
     "output_type": "display_data"
    }
   ],
   "source": [
    "# построение диаграммы рассеивания зависимости стоимости от жилой площади\n",
    "(\n",
    "good_data.pivot_table(index='living_area', values='last_price', aggfunc='median')\n",
    "         .plot(style='o', grid=True, alpha=0.35)\n",
    ")\n",
    "None"
   ]
  },
  {
   "cell_type": "markdown",
   "metadata": {},
   "source": [
    "На данной диаграмме мы также можем увидеть прямую зависимость цены объекта недвижимости от жилой площади, но зависимость уже не такая явная, как в случае с общей площадью, График более размазан, встречается больше редких значений, выбивающихся из общей массы - например, объекты ценой более 80 миллионов, но с небольшой жилой площадью, или объекты недвижимости по цене менее 20 миллионов, но с жилой площадью 25 метров квадратных."
   ]
  },
  {
   "cell_type": "code",
   "execution_count": 79,
   "metadata": {},
   "outputs": [
    {
     "data": {
      "image/png": "[encoded data removed]",
      "text/plain": [
       "<Figure size 432x288 with 1 Axes>"
      ]
     },
     "metadata": {
      "needs_background": "light"
     },
     "output_type": "display_data"
    }
   ],
   "source": [
    "# построение диаграммы рассеивания зависимости стоимости от площади кухни\n",
    "(\n",
    "good_data.pivot_table(index='kitchen_area', values='last_price', aggfunc='median')\n",
    "         .plot(style='o', grid=True, alpha=0.35)\n",
    ")\n",
    "None"
   ]
  },
  {
   "cell_type": "markdown",
   "metadata": {},
   "source": [
    "В случае с площадью кухни сохраняется тенденция на увеличение цены жилья с увеличением площади кухни, но зависимость уже менее явная, чем в случае с жилой или общей площадью. Значения на диаграмме более рассеянные, угол наклона рассеивания меньше, чем у предыдущих диаграмм. Таким образом, мы можем сделать вывод, что площадь кухни влияет на цену недвижимости меньше, чем жилая и общая площадь, однако это логично, так как площадь кухни обычно значительно меньше жилой площади."
   ]
  },
  {
   "cell_type": "code",
   "execution_count": 80,
   "metadata": {},
   "outputs": [
    {
     "data": {
      "image/png": "[encoded data removed]",
      "text/plain": [
       "<Figure size 432x288 with 1 Axes>"
      ]
     },
     "metadata": {
      "needs_background": "light"
     },
     "output_type": "display_data"
    }
   ],
   "source": [
    "# построение диаграммы рассеивания зависимости стоимости от количества комнат\n",
    "(\n",
    "good_data.pivot_table(index='rooms', values='last_price', aggfunc='median')\n",
    "         .plot(style='o-', grid=True)\n",
    ")\n",
    "None"
   ]
  },
  {
   "cell_type": "markdown",
   "metadata": {},
   "source": [
    "На графике хорошо прослеживается прямая зависимость цены объекта недвижимости от количества комнат. Причем можно отметить интересную особенность, что до 3х комнат график растет плавно, а начиная от 4х комнат график резко идет вверх, что говорит, о большем влиянии количества комнат на цену жилья именно в этом диапазоне."
   ]
  },
  {
   "cell_type": "code",
   "execution_count": 81,
   "metadata": {},
   "outputs": [
    {
     "data": {
      "image/png": "[encoded data removed]",
      "text/plain": [
       "<Figure size 432x288 with 1 Axes>"
      ]
     },
     "metadata": {
      "needs_background": "light"
     },
     "output_type": "display_data"
    }
   ],
   "source": [
    "# построение диаграммы рассеивания зависимости стоимости от типа этажа\n",
    "(\n",
    "good_data.pivot_table(index='floor_category', values='last_price', aggfunc='median')\n",
    "         .plot(style='o-', grid=True)\n",
    ")\n",
    "None"
   ]
  },
  {
   "cell_type": "markdown",
   "metadata": {},
   "source": [
    "На графике видно, что дешевле всего продаются объекты недвижимости на первом этаже, а дороже всего продаются объекты недвижимости, находящие не на первом и не на последнем этажах. Цена объектов недвижимости на последнем чуть больше цены объектов недвижимости на первом этаже."
   ]
  },
  {
   "cell_type": "code",
   "execution_count": 82,
   "metadata": {},
   "outputs": [
    {
     "data": {
      "image/png": "[encoded data removed]",
      "text/plain": [
       "<Figure size 432x288 with 1 Axes>"
      ]
     },
     "metadata": {
      "needs_background": "light"
     },
     "output_type": "display_data"
    },
    {
     "data": {
      "image/png": "[encoded data removed]",
      "text/plain": [
       "<Figure size 432x288 with 1 Axes>"
      ]
     },
     "metadata": {
      "needs_background": "light"
     },
     "output_type": "display_data"
    },
    {
     "data": {
      "image/png": "[encoded data removed]",
      "text/plain": [
       "<Figure size 432x288 with 1 Axes>"
      ]
     },
     "metadata": {
      "needs_background": "light"
     },
     "output_type": "display_data"
    }
   ],
   "source": [
    "# построение диаграммы рассеивания зависимости стоимости от дня размещения\n",
    "(\n",
    "good_data.pivot_table(index='weekday_exposition', values='last_price', aggfunc='median')\n",
    "         .plot(style='o-', grid=True)\n",
    ")\n",
    "\n",
    "# построение диаграммы рассеивания зависимости стоимости от месяца размещения\n",
    "(\n",
    "good_data.pivot_table(index='month_exposition', values='last_price', aggfunc='median')\n",
    "         .plot(style='o-', grid=True)\n",
    ")\n",
    "\n",
    "# построение диаграммы рассеивания зависимости стоимости от года размещения\n",
    "(\n",
    "good_data.pivot_table(index='year_exposition', values='last_price', aggfunc='median')\n",
    "         .plot(style='o-', grid=True)\n",
    ")\n",
    "None"
   ]
  },
  {
   "cell_type": "markdown",
   "metadata": {},
   "source": [
    "По дате размещения мы можем определить следующие закономерности:\n",
    "\n",
    "1) Самые дорогие варианты выкладываются обычно по вторникам, а самые дешевые - по четвергам и воскресеньям.\n",
    "\n",
    "2) Если отслеживать тенденцию по месяцам, то варианты с самой низкой ценой размещались в июне, а самой высокой - в апреле. При этом в период с января по март, с июля по август, а также в октябре цена была приблизительно на одном уровне.\n",
    "\n",
    "3) С 2014 по 2017 год наблюдалось снижение цены объектов, а затем начался рост вплоть до 2019 года."
   ]
  },
  {
   "cell_type": "code",
   "execution_count": 83,
   "metadata": {
    "scrolled": true
   },
   "outputs": [
    {
     "data": {
      "text/html": [
       "<div>\n",
       "<style scoped>\n",
       "    .dataframe tbody tr th:only-of-type {\n",
       "        vertical-align: middle;\n",
       "    }\n",
       "\n",
       "    .dataframe tbody tr th {\n",
       "        vertical-align: top;\n",
       "    }\n",
       "\n",
       "    .dataframe thead th {\n",
       "        text-align: right;\n",
       "    }\n",
       "</style>\n",
       "<table border=\"1\" class=\"dataframe\">\n",
       "  <thead>\n",
       "    <tr style=\"text-align: right;\">\n",
       "      <th></th>\n",
       "      <th>last_price</th>\n",
       "      <th>total_area</th>\n",
       "      <th>living_area</th>\n",
       "      <th>kitchen_area</th>\n",
       "      <th>rooms</th>\n",
       "      <th>weekday_exposition</th>\n",
       "      <th>month_exposition</th>\n",
       "      <th>year_exposition</th>\n",
       "    </tr>\n",
       "  </thead>\n",
       "  <tbody>\n",
       "    <tr>\n",
       "      <th>last_price</th>\n",
       "      <td>1.000000</td>\n",
       "      <td>0.768858</td>\n",
       "      <td>0.630376</td>\n",
       "      <td>0.548157</td>\n",
       "      <td>0.472730</td>\n",
       "      <td>-0.017546</td>\n",
       "      <td>0.013080</td>\n",
       "      <td>-0.028244</td>\n",
       "    </tr>\n",
       "    <tr>\n",
       "      <th>total_area</th>\n",
       "      <td>0.768858</td>\n",
       "      <td>1.000000</td>\n",
       "      <td>0.907705</td>\n",
       "      <td>0.528391</td>\n",
       "      <td>0.788517</td>\n",
       "      <td>-0.012987</td>\n",
       "      <td>0.016679</td>\n",
       "      <td>-0.074907</td>\n",
       "    </tr>\n",
       "    <tr>\n",
       "      <th>living_area</th>\n",
       "      <td>0.630376</td>\n",
       "      <td>0.907705</td>\n",
       "      <td>1.000000</td>\n",
       "      <td>0.302877</td>\n",
       "      <td>0.886425</td>\n",
       "      <td>-0.009116</td>\n",
       "      <td>0.004325</td>\n",
       "      <td>-0.063206</td>\n",
       "    </tr>\n",
       "    <tr>\n",
       "      <th>kitchen_area</th>\n",
       "      <td>0.548157</td>\n",
       "      <td>0.528391</td>\n",
       "      <td>0.302877</td>\n",
       "      <td>1.000000</td>\n",
       "      <td>0.193678</td>\n",
       "      <td>-0.014263</td>\n",
       "      <td>0.015586</td>\n",
       "      <td>-0.050552</td>\n",
       "    </tr>\n",
       "    <tr>\n",
       "      <th>rooms</th>\n",
       "      <td>0.472730</td>\n",
       "      <td>0.788517</td>\n",
       "      <td>0.886425</td>\n",
       "      <td>0.193678</td>\n",
       "      <td>1.000000</td>\n",
       "      <td>-0.003254</td>\n",
       "      <td>0.001182</td>\n",
       "      <td>-0.044381</td>\n",
       "    </tr>\n",
       "    <tr>\n",
       "      <th>weekday_exposition</th>\n",
       "      <td>-0.017546</td>\n",
       "      <td>-0.012987</td>\n",
       "      <td>-0.009116</td>\n",
       "      <td>-0.014263</td>\n",
       "      <td>-0.003254</td>\n",
       "      <td>1.000000</td>\n",
       "      <td>0.006895</td>\n",
       "      <td>0.000011</td>\n",
       "    </tr>\n",
       "    <tr>\n",
       "      <th>month_exposition</th>\n",
       "      <td>0.013080</td>\n",
       "      <td>0.016679</td>\n",
       "      <td>0.004325</td>\n",
       "      <td>0.015586</td>\n",
       "      <td>0.001182</td>\n",
       "      <td>0.006895</td>\n",
       "      <td>1.000000</td>\n",
       "      <td>-0.274532</td>\n",
       "    </tr>\n",
       "    <tr>\n",
       "      <th>year_exposition</th>\n",
       "      <td>-0.028244</td>\n",
       "      <td>-0.074907</td>\n",
       "      <td>-0.063206</td>\n",
       "      <td>-0.050552</td>\n",
       "      <td>-0.044381</td>\n",
       "      <td>0.000011</td>\n",
       "      <td>-0.274532</td>\n",
       "      <td>1.000000</td>\n",
       "    </tr>\n",
       "  </tbody>\n",
       "</table>\n",
       "</div>"
      ],
      "text/plain": [
       "                    last_price  total_area  living_area  kitchen_area  \\\n",
       "last_price            1.000000    0.768858     0.630376      0.548157   \n",
       "total_area            0.768858    1.000000     0.907705      0.528391   \n",
       "living_area           0.630376    0.907705     1.000000      0.302877   \n",
       "kitchen_area          0.548157    0.528391     0.302877      1.000000   \n",
       "rooms                 0.472730    0.788517     0.886425      0.193678   \n",
       "weekday_exposition   -0.017546   -0.012987    -0.009116     -0.014263   \n",
       "month_exposition      0.013080    0.016679     0.004325      0.015586   \n",
       "year_exposition      -0.028244   -0.074907    -0.063206     -0.050552   \n",
       "\n",
       "                       rooms  weekday_exposition  month_exposition  \\\n",
       "last_price          0.472730           -0.017546          0.013080   \n",
       "total_area          0.788517           -0.012987          0.016679   \n",
       "living_area         0.886425           -0.009116          0.004325   \n",
       "kitchen_area        0.193678           -0.014263          0.015586   \n",
       "rooms               1.000000           -0.003254          0.001182   \n",
       "weekday_exposition -0.003254            1.000000          0.006895   \n",
       "month_exposition    0.001182            0.006895          1.000000   \n",
       "year_exposition    -0.044381            0.000011         -0.274532   \n",
       "\n",
       "                    year_exposition  \n",
       "last_price                -0.028244  \n",
       "total_area                -0.074907  \n",
       "living_area               -0.063206  \n",
       "kitchen_area              -0.050552  \n",
       "rooms                     -0.044381  \n",
       "weekday_exposition         0.000011  \n",
       "month_exposition          -0.274532  \n",
       "year_exposition            1.000000  "
      ]
     },
     "execution_count": 83,
     "metadata": {},
     "output_type": "execute_result"
    }
   ],
   "source": [
    "# построение матрицы коррелляции по всем вышеперечисленным признакам\n",
    "good_data[['last_price',\n",
    "           'total_area', \n",
    "           'living_area', \n",
    "           'kitchen_area', \n",
    "           'rooms', \n",
    "           'floor_category', \n",
    "           'weekday_exposition', \n",
    "           'month_exposition', \n",
    "           'year_exposition']].corr()"
   ]
  },
  {
   "cell_type": "markdown",
   "metadata": {},
   "source": [
    " Таким образом, мы видим, что из всех вышеперчисленных признаков больше всего на цену объекта недвижимости влияют общая площадь и жилая площадь, менее всего - дата размещения объявления."
   ]
  },
  {
   "cell_type": "markdown",
   "metadata": {},
   "source": [
    "#### Определение средней цены одного квадратного метра в 10 населённых пунктах с наибольшим числом объявлений."
   ]
  },
  {
   "cell_type": "markdown",
   "metadata": {},
   "source": [
    "Посчитаем среднюю цену одного квадратного метра в 10 населённых пунктах с наибольшим числом объявлений. Для начала определим эти 10 населенных пунктов."
   ]
  },
  {
   "cell_type": "code",
   "execution_count": 84,
   "metadata": {},
   "outputs": [
    {
     "data": {
      "text/plain": [
       "Санкт-Петербург      14095\n",
       "Мурино                 518\n",
       "Кудрово                427\n",
       "поселок Шушары         407\n",
       "Всеволожск             393\n",
       "Пушкин                 349\n",
       "Колпино                333\n",
       "Гатчина                303\n",
       "поселок Парголово      250\n",
       "Выборг                 227\n",
       "Name: locality_name, dtype: int64"
      ]
     },
     "execution_count": 84,
     "metadata": {},
     "output_type": "execute_result"
    }
   ],
   "source": [
    "# сгруппируем данные по количеству объявлений в населенных пунктах\n",
    "good_data['locality_name'].value_counts().head(10)"
   ]
  },
  {
   "cell_type": "code",
   "execution_count": 85,
   "metadata": {},
   "outputs": [
    {
     "data": {
      "text/html": [
       "<div>\n",
       "<style scoped>\n",
       "    .dataframe tbody tr th:only-of-type {\n",
       "        vertical-align: middle;\n",
       "    }\n",
       "\n",
       "    .dataframe tbody tr th {\n",
       "        vertical-align: top;\n",
       "    }\n",
       "\n",
       "    .dataframe thead th {\n",
       "        text-align: right;\n",
       "    }\n",
       "</style>\n",
       "<table border=\"1\" class=\"dataframe\">\n",
       "  <thead>\n",
       "    <tr style=\"text-align: right;\">\n",
       "      <th></th>\n",
       "      <th>price_m2</th>\n",
       "    </tr>\n",
       "    <tr>\n",
       "      <th>locality_name</th>\n",
       "      <th></th>\n",
       "    </tr>\n",
       "  </thead>\n",
       "  <tbody>\n",
       "    <tr>\n",
       "      <th>Всеволожск</th>\n",
       "      <td>68568.152092</td>\n",
       "    </tr>\n",
       "    <tr>\n",
       "      <th>Выборг</th>\n",
       "      <td>57972.726591</td>\n",
       "    </tr>\n",
       "    <tr>\n",
       "      <th>Гатчина</th>\n",
       "      <td>68705.873658</td>\n",
       "    </tr>\n",
       "    <tr>\n",
       "      <th>Колпино</th>\n",
       "      <td>75383.996034</td>\n",
       "    </tr>\n",
       "    <tr>\n",
       "      <th>Кудрово</th>\n",
       "      <td>95745.511557</td>\n",
       "    </tr>\n",
       "    <tr>\n",
       "      <th>Мурино</th>\n",
       "      <td>85665.765447</td>\n",
       "    </tr>\n",
       "    <tr>\n",
       "      <th>Пушкин</th>\n",
       "      <td>102537.103525</td>\n",
       "    </tr>\n",
       "    <tr>\n",
       "      <th>Санкт-Петербург</th>\n",
       "      <td>109326.825520</td>\n",
       "    </tr>\n",
       "    <tr>\n",
       "      <th>поселок Парголово</th>\n",
       "      <td>88898.057599</td>\n",
       "    </tr>\n",
       "    <tr>\n",
       "      <th>поселок Шушары</th>\n",
       "      <td>78592.953836</td>\n",
       "    </tr>\n",
       "  </tbody>\n",
       "</table>\n",
       "</div>"
      ],
      "text/plain": [
       "                        price_m2\n",
       "locality_name                   \n",
       "Всеволожск          68568.152092\n",
       "Выборг              57972.726591\n",
       "Гатчина             68705.873658\n",
       "Колпино             75383.996034\n",
       "Кудрово             95745.511557\n",
       "Мурино              85665.765447\n",
       "Пушкин             102537.103525\n",
       "Санкт-Петербург    109326.825520\n",
       "поселок Парголово   88898.057599\n",
       "поселок Шушары      78592.953836"
      ]
     },
     "execution_count": 85,
     "metadata": {},
     "output_type": "execute_result"
    }
   ],
   "source": [
    "# создадим список со значениями названий населенных пунктов\n",
    "top_10 = ['Санкт-Петербург', \n",
    "          'Мурино', \n",
    "          'Кудрово', \n",
    "          'поселок Шушары', \n",
    "          'Всеволожск', \n",
    "          'Пушкин', \n",
    "          'Колпино', \n",
    "          'Гатчина', \n",
    "          'поселок Парголово', \n",
    "          'Выборг']\n",
    "# включение в 'group_data' строк с объявлениями в 10 населённых пунктах с наибольшим числом объявлений\n",
    "group_data = good_data.loc[good_data['locality_name'].isin(top_10)]\n",
    "# сводная таблица для определения средней цены 1 квадратного метра в каждом населёенном пункте\n",
    "group_data.pivot_table(index='locality_name', values='price_m2')"
   ]
  },
  {
   "cell_type": "code",
   "execution_count": 86,
   "metadata": {},
   "outputs": [
    {
     "data": {
      "image/png": "[encoded data removed]",
      "text/plain": [
       "<Figure size 432x288 with 1 Axes>"
      ]
     },
     "metadata": {
      "needs_background": "light"
     },
     "output_type": "display_data"
    }
   ],
   "source": [
    "# построение гистограммы по средней цене 1 квадратного метра\n",
    "(\n",
    "    group_data.pivot_table(index='locality_name', values='price_m2')\n",
    "    .sort_values(by='price_m2')\n",
    "    .plot(kind='bar')\n",
    ")\n",
    "None"
   ]
  },
  {
   "cell_type": "markdown",
   "metadata": {},
   "source": [
    "Из графика и данных сводной таблицы мы получаем, что самая высокая цена одного квадратного метра в 10 населённых пунктах с наибольшим числом объявлений была в городе Санкт-Петербурге и составляла 109327 рублей, а самая низкая цена в городе Выборг и составляла 57973 рубля. "
   ]
  },
  {
   "cell_type": "markdown",
   "metadata": {},
   "source": [
    "#### Зависимость стоимости объектов от расстояния до центра города"
   ]
  },
  {
   "cell_type": "markdown",
   "metadata": {},
   "source": [
    "Ранее мы посчитали расстояние до центра в километрах. Теперь выделим квартиры в Санкт-Петербурге и вычислим среднюю цену каждого километра. Затем опишем, как стоимость объектов зависит от расстояния до центра города."
   ]
  },
  {
   "cell_type": "code",
   "execution_count": 87,
   "metadata": {},
   "outputs": [
    {
     "data": {
      "image/png": "[encoded data removed]",
      "text/plain": [
       "<Figure size 432x288 with 1 Axes>"
      ]
     },
     "metadata": {
      "needs_background": "light"
     },
     "output_type": "display_data"
    }
   ],
   "source": [
    "# создание в 'good_data' столбца, в котором посчитаем среднюю цену каждого километра до центра города\n",
    "good_data['price_city_centre_km'] = good_data['last_price'] / good_data['cityCenters_nearest_km']\n",
    "# построение графика для определения зависимости средней цены километра от удаленности от центра города\n",
    "(\n",
    "    good_data.loc[good_data['locality_name'] == 'Санкт-Петербург']\n",
    "        .pivot_table(index='cityCenters_nearest_km', values='last_price')\n",
    "        .plot(grid=True)\n",
    ")\n",
    "None"
   ]
  },
  {
   "cell_type": "markdown",
   "metadata": {},
   "source": [
    "Мы видим, что в целом тенденция стремится к тому, что средняя цена километра до центра уменьшается с удаленностью от центра города, однако на графике виден резкий пик на расстоянии около 27км от центра города, в котором стоимость километра до центра города резко возрастает. Можем предположить, что на этом расстоянии от центра города находятся элитные жилые комплексы с дорогостоящими объектами недвижимости."
   ]
  },
  {
   "cell_type": "markdown",
   "metadata": {},
   "source": [
    "#### Вывод"
   ]
  },
  {
   "cell_type": "markdown",
   "metadata": {},
   "source": [
    "Мы провели исследовательский анализ данных, очистили данные от выбросов и редких значений, описали основные признаки, определили закономерности.\n",
    "\n",
    "Анализ показал, что больше всего на цену объекта недвижимости влияют общая площадь и жилая площадь. \n",
    "\n",
    "Нами были выделены 10 населенных пунктов с самым большим количеством объявлений - это Санкт-Петербург, Мурино, Кудрово, поселок Шушары, Всеволожск, Пушкин, Колпино, Гатчина, поселок Парголово, Выборг. Самая высокая цена одного квадратного метра среди данных населенных пунктов принадлежит городу Санкт-Петербургу и составляет 109327 рублей, а самая низкая у Выборга - 57973 рубля.\n",
    "\n",
    "Средняя цена километра до центра города снижается с удаленностью от центра города, кроме некоторых исключительных значений."
   ]
  },
  {
   "cell_type": "markdown",
   "metadata": {},
   "source": [
    "### Общий вывод"
   ]
  },
  {
   "cell_type": "markdown",
   "metadata": {},
   "source": [
    "Нами были проанализированы данные сервиса Яндекс.Недвижимость — архив объявлений о продаже квартир в Санкт-Петербурге и соседних населённых пунктов за 2014 - 2019гг. Перед нами стояла задача - выполнить предобработку данных и изучить их, чтобы найти интересные особенности и зависимости, которые существуют на рынке недвижимости.\n",
    "\n",
    "По каждому объекту недвижимости на продажу нам были доступны два вида данных. Первые были вписаны пользователем, вторые — получены автоматически на основе картографических данных. Например, расстояние до центра, аэропорта, ближайшего парка и водоёма. \n",
    "\n",
    "После первичного обзора данных нами были обнаружены многочисленные пропуски в данных. Мы рекомендуем усовершенствовать автоматическую систему, которая выставляет картографические данные, а также сделать дополнительные поля обязательными для заполнения пользователем для того, чтобы в дальнейшем избегать пропусков. \n",
    "\n",
    "Мы провели первичную предобработку данных:\n",
    "\n",
    "* В столбце is_apartment мы заменили пропуски на значение False и изменили тип данных на bool.\n",
    "\n",
    "* В столбцах с жилой площадью и площадью кухни мы заполнили пропуски медианным значением площадей по количеству комнат в объекте недвижимости. Так как в студиях и апартаментах отсутствует кухня - мы заменили на 0 пропущенные значения в этих строках.\n",
    "\n",
    "* В столбцах с количеством этажей и балконов мы изменили тип данных на int, так как в них не может быть значений с плавающей точкой. Пропуски в столбце с количеством балконов мы заполнили нулем, в стобце с количеством этажей фактическим этажом квартиры.\n",
    "\n",
    "* Мы удалили строки, в которых отсутствовало название населенного пункта, так без него мы не сможем достоверно провести исследовательский анализ, а также избавились от неявных дубликатов в данном столбце.\n",
    "\n",
    "* Все столбцы были приведены к необходиму для дальнейшего исследования типу.\n",
    "\n",
    "Мы проанализировали множество факторов, которые могут повлиять на цену объекта недвижимости и пришли к следующим выводам:\n",
    "\n",
    "* В среднем продажа недвижимости занимала от 44 до 224 дней.\n",
    "\n",
    "* Самое большое влияние на цену объекта недвижимости оказывают общая и жилая площадь недвижимости.  Площадь кухни, количество комнат влияет на цену объекта в гораздо меньше степени. Дата размещения практически не влияет на цену объекта.\n",
    "\n",
    "* Объекты недвижимости, расположенные на любом этаже, кроме первого или последнего, продаются дороже, чем объекты недвижимости расположенные на первом или последнем этажах.\n",
    "\n",
    "* Цена квадратного метра уменьшается с удаленностью от центра города.\n",
    "\n",
    "* Мы определили 10 населённых пунктов с наибольшим количеством объявлений. Самая высокая цена одного квадратного метра в 10 населённых пунктах с наибольшим числом объявлений была в городе Санкт-Петербурге и составляла 109327 рублей, а самая низкая цена в городе Выборг и составляла 57973 рубля. \n",
    "\n",
    "* C 2014 года по 2017 год цена жилой недвижимости снижалась, однако с 2017 года начался рост вплоть до 2019 года.\n",
    "\n",
    "Резюмировав все вышесказанное, при оценке стоимости объекта недвижимости, мы можем рекомендовать опираться на общую площадь, жилую площадь, этаж и удаленность объекта недвижимости от центра города."
   ]
  }
 ],
 "metadata": {
  "ExecuteTimeLog": [
   {
    "duration": 477,
    "start_time": "2022-11-17T06:46:40.922Z"
   },
   {
    "duration": 448,
    "start_time": "2022-11-17T06:49:24.301Z"
   },
   {
    "duration": 345,
    "start_time": "2022-11-17T06:49:30.405Z"
   },
   {
    "duration": 1274,
    "start_time": "2022-11-25T14:32:42.628Z"
   },
   {
    "duration": 0,
    "start_time": "2022-11-25T14:32:43.906Z"
   },
   {
    "duration": 0,
    "start_time": "2022-11-25T14:32:43.907Z"
   },
   {
    "duration": 0,
    "start_time": "2022-11-25T14:32:43.908Z"
   },
   {
    "duration": 0,
    "start_time": "2022-11-25T14:32:43.910Z"
   },
   {
    "duration": 0,
    "start_time": "2022-11-25T14:32:43.911Z"
   },
   {
    "duration": 0,
    "start_time": "2022-11-25T14:32:43.912Z"
   },
   {
    "duration": 0,
    "start_time": "2022-11-25T14:32:43.913Z"
   },
   {
    "duration": 0,
    "start_time": "2022-11-25T14:32:43.913Z"
   },
   {
    "duration": 0,
    "start_time": "2022-11-25T14:32:43.914Z"
   },
   {
    "duration": 0,
    "start_time": "2022-11-25T14:32:43.915Z"
   },
   {
    "duration": 1,
    "start_time": "2022-11-25T14:32:43.916Z"
   },
   {
    "duration": 0,
    "start_time": "2022-11-25T14:32:43.917Z"
   },
   {
    "duration": 0,
    "start_time": "2022-11-25T14:32:43.918Z"
   },
   {
    "duration": 0,
    "start_time": "2022-11-25T14:32:43.920Z"
   },
   {
    "duration": 0,
    "start_time": "2022-11-25T14:32:43.921Z"
   },
   {
    "duration": 0,
    "start_time": "2022-11-25T14:32:43.922Z"
   },
   {
    "duration": 0,
    "start_time": "2022-11-25T14:32:43.923Z"
   },
   {
    "duration": 0,
    "start_time": "2022-11-25T14:32:43.924Z"
   },
   {
    "duration": 1,
    "start_time": "2022-11-25T14:32:43.925Z"
   },
   {
    "duration": 0,
    "start_time": "2022-11-25T14:32:43.926Z"
   },
   {
    "duration": 0,
    "start_time": "2022-11-25T14:32:43.928Z"
   },
   {
    "duration": 0,
    "start_time": "2022-11-25T14:32:43.929Z"
   },
   {
    "duration": 0,
    "start_time": "2022-11-25T14:32:43.929Z"
   },
   {
    "duration": 0,
    "start_time": "2022-11-25T14:32:43.931Z"
   },
   {
    "duration": 0,
    "start_time": "2022-11-25T14:32:43.932Z"
   },
   {
    "duration": 0,
    "start_time": "2022-11-25T14:32:43.977Z"
   },
   {
    "duration": 0,
    "start_time": "2022-11-25T14:32:43.978Z"
   },
   {
    "duration": 0,
    "start_time": "2022-11-25T14:32:43.980Z"
   },
   {
    "duration": 0,
    "start_time": "2022-11-25T14:32:43.981Z"
   },
   {
    "duration": 0,
    "start_time": "2022-11-25T14:32:43.982Z"
   },
   {
    "duration": 0,
    "start_time": "2022-11-25T14:32:43.984Z"
   },
   {
    "duration": 0,
    "start_time": "2022-11-25T14:32:43.985Z"
   },
   {
    "duration": 0,
    "start_time": "2022-11-25T14:32:43.986Z"
   },
   {
    "duration": 0,
    "start_time": "2022-11-25T14:32:43.988Z"
   },
   {
    "duration": 0,
    "start_time": "2022-11-25T14:32:43.989Z"
   },
   {
    "duration": 0,
    "start_time": "2022-11-25T14:32:43.990Z"
   },
   {
    "duration": 0,
    "start_time": "2022-11-25T14:32:43.992Z"
   },
   {
    "duration": 0,
    "start_time": "2022-11-25T14:32:43.993Z"
   },
   {
    "duration": 0,
    "start_time": "2022-11-25T14:32:43.994Z"
   },
   {
    "duration": 0,
    "start_time": "2022-11-25T14:32:43.996Z"
   },
   {
    "duration": 0,
    "start_time": "2022-11-25T14:32:44.001Z"
   },
   {
    "duration": 0,
    "start_time": "2022-11-25T14:32:44.002Z"
   },
   {
    "duration": 0,
    "start_time": "2022-11-25T14:32:44.004Z"
   },
   {
    "duration": 0,
    "start_time": "2022-11-25T14:32:44.005Z"
   },
   {
    "duration": 0,
    "start_time": "2022-11-25T14:32:44.005Z"
   },
   {
    "duration": 0,
    "start_time": "2022-11-25T14:32:44.006Z"
   },
   {
    "duration": 0,
    "start_time": "2022-11-25T14:32:44.008Z"
   },
   {
    "duration": 0,
    "start_time": "2022-11-25T14:32:44.009Z"
   },
   {
    "duration": 0,
    "start_time": "2022-11-25T14:32:44.010Z"
   },
   {
    "duration": 0,
    "start_time": "2022-11-25T14:32:44.011Z"
   },
   {
    "duration": 0,
    "start_time": "2022-11-25T14:32:44.012Z"
   },
   {
    "duration": 0,
    "start_time": "2022-11-25T14:32:44.013Z"
   },
   {
    "duration": 0,
    "start_time": "2022-11-25T14:32:44.014Z"
   },
   {
    "duration": 0,
    "start_time": "2022-11-25T14:32:44.016Z"
   },
   {
    "duration": 0,
    "start_time": "2022-11-25T14:32:44.017Z"
   },
   {
    "duration": 0,
    "start_time": "2022-11-25T14:32:44.018Z"
   },
   {
    "duration": 0,
    "start_time": "2022-11-25T14:32:44.019Z"
   },
   {
    "duration": 0,
    "start_time": "2022-11-25T14:32:44.077Z"
   },
   {
    "duration": 0,
    "start_time": "2022-11-25T14:32:44.078Z"
   },
   {
    "duration": 0,
    "start_time": "2022-11-25T14:32:44.079Z"
   },
   {
    "duration": 0,
    "start_time": "2022-11-25T14:32:44.080Z"
   },
   {
    "duration": 0,
    "start_time": "2022-11-25T14:32:44.081Z"
   },
   {
    "duration": 0,
    "start_time": "2022-11-25T14:32:44.083Z"
   },
   {
    "duration": 0,
    "start_time": "2022-11-25T14:32:44.084Z"
   },
   {
    "duration": 0,
    "start_time": "2022-11-25T14:32:44.085Z"
   },
   {
    "duration": 0,
    "start_time": "2022-11-25T14:32:44.086Z"
   },
   {
    "duration": 0,
    "start_time": "2022-11-25T14:32:44.087Z"
   },
   {
    "duration": 0,
    "start_time": "2022-11-25T14:32:44.088Z"
   },
   {
    "duration": 0,
    "start_time": "2022-11-25T14:32:44.089Z"
   },
   {
    "duration": 0,
    "start_time": "2022-11-25T14:32:44.090Z"
   },
   {
    "duration": 0,
    "start_time": "2022-11-25T14:32:44.091Z"
   },
   {
    "duration": 0,
    "start_time": "2022-11-25T14:32:44.093Z"
   },
   {
    "duration": 0,
    "start_time": "2022-11-25T14:32:44.095Z"
   },
   {
    "duration": 0,
    "start_time": "2022-11-25T14:32:44.096Z"
   },
   {
    "duration": 0,
    "start_time": "2022-11-25T14:32:44.098Z"
   },
   {
    "duration": 0,
    "start_time": "2022-11-25T14:32:44.099Z"
   },
   {
    "duration": 0,
    "start_time": "2022-11-25T14:32:44.101Z"
   },
   {
    "duration": 0,
    "start_time": "2022-11-25T14:32:44.102Z"
   },
   {
    "duration": 0,
    "start_time": "2022-11-25T14:32:44.104Z"
   },
   {
    "duration": 0,
    "start_time": "2022-11-25T14:32:44.105Z"
   },
   {
    "duration": 46,
    "start_time": "2022-11-25T21:47:22.923Z"
   },
   {
    "duration": 1136,
    "start_time": "2022-11-25T21:47:34.291Z"
   },
   {
    "duration": 113,
    "start_time": "2022-11-25T21:47:35.430Z"
   },
   {
    "duration": 9,
    "start_time": "2022-11-25T21:47:35.545Z"
   },
   {
    "duration": 131,
    "start_time": "2022-11-25T21:47:35.556Z"
   },
   {
    "duration": 0,
    "start_time": "2022-11-25T21:47:35.690Z"
   },
   {
    "duration": 0,
    "start_time": "2022-11-25T21:47:35.692Z"
   },
   {
    "duration": 0,
    "start_time": "2022-11-25T21:47:35.693Z"
   },
   {
    "duration": 0,
    "start_time": "2022-11-25T21:47:35.693Z"
   },
   {
    "duration": 0,
    "start_time": "2022-11-25T21:47:35.694Z"
   },
   {
    "duration": 0,
    "start_time": "2022-11-25T21:47:35.695Z"
   },
   {
    "duration": 0,
    "start_time": "2022-11-25T21:47:35.696Z"
   },
   {
    "duration": 0,
    "start_time": "2022-11-25T21:47:35.697Z"
   },
   {
    "duration": 0,
    "start_time": "2022-11-25T21:47:35.698Z"
   },
   {
    "duration": 0,
    "start_time": "2022-11-25T21:47:35.699Z"
   },
   {
    "duration": 0,
    "start_time": "2022-11-25T21:47:35.701Z"
   },
   {
    "duration": 0,
    "start_time": "2022-11-25T21:47:35.701Z"
   },
   {
    "duration": 0,
    "start_time": "2022-11-25T21:47:35.703Z"
   },
   {
    "duration": 0,
    "start_time": "2022-11-25T21:47:35.704Z"
   },
   {
    "duration": 0,
    "start_time": "2022-11-25T21:47:35.704Z"
   },
   {
    "duration": 0,
    "start_time": "2022-11-25T21:47:35.705Z"
   },
   {
    "duration": 0,
    "start_time": "2022-11-25T21:47:35.736Z"
   },
   {
    "duration": 0,
    "start_time": "2022-11-25T21:47:35.737Z"
   },
   {
    "duration": 0,
    "start_time": "2022-11-25T21:47:35.738Z"
   },
   {
    "duration": 0,
    "start_time": "2022-11-25T21:47:35.739Z"
   },
   {
    "duration": 0,
    "start_time": "2022-11-25T21:47:35.741Z"
   },
   {
    "duration": 0,
    "start_time": "2022-11-25T21:47:35.742Z"
   },
   {
    "duration": 0,
    "start_time": "2022-11-25T21:47:35.743Z"
   },
   {
    "duration": 0,
    "start_time": "2022-11-25T21:47:35.744Z"
   },
   {
    "duration": 0,
    "start_time": "2022-11-25T21:47:35.745Z"
   },
   {
    "duration": 0,
    "start_time": "2022-11-25T21:47:35.746Z"
   },
   {
    "duration": 0,
    "start_time": "2022-11-25T21:47:35.747Z"
   },
   {
    "duration": 0,
    "start_time": "2022-11-25T21:47:35.748Z"
   },
   {
    "duration": 0,
    "start_time": "2022-11-25T21:47:35.749Z"
   },
   {
    "duration": 0,
    "start_time": "2022-11-25T21:47:35.750Z"
   },
   {
    "duration": 0,
    "start_time": "2022-11-25T21:47:35.751Z"
   },
   {
    "duration": 0,
    "start_time": "2022-11-25T21:47:35.752Z"
   },
   {
    "duration": 0,
    "start_time": "2022-11-25T21:47:35.753Z"
   },
   {
    "duration": 0,
    "start_time": "2022-11-25T21:47:35.754Z"
   },
   {
    "duration": 0,
    "start_time": "2022-11-25T21:47:35.755Z"
   },
   {
    "duration": 0,
    "start_time": "2022-11-25T21:47:35.756Z"
   },
   {
    "duration": 0,
    "start_time": "2022-11-25T21:47:35.757Z"
   },
   {
    "duration": 0,
    "start_time": "2022-11-25T21:47:35.759Z"
   },
   {
    "duration": 0,
    "start_time": "2022-11-25T21:47:35.759Z"
   },
   {
    "duration": 0,
    "start_time": "2022-11-25T21:47:35.761Z"
   },
   {
    "duration": 0,
    "start_time": "2022-11-25T21:47:35.762Z"
   },
   {
    "duration": 0,
    "start_time": "2022-11-25T21:47:35.763Z"
   },
   {
    "duration": 0,
    "start_time": "2022-11-25T21:47:35.764Z"
   },
   {
    "duration": 0,
    "start_time": "2022-11-25T21:47:35.765Z"
   },
   {
    "duration": 0,
    "start_time": "2022-11-25T21:47:35.766Z"
   },
   {
    "duration": 0,
    "start_time": "2022-11-25T21:47:35.767Z"
   },
   {
    "duration": 0,
    "start_time": "2022-11-25T21:47:35.768Z"
   },
   {
    "duration": 0,
    "start_time": "2022-11-25T21:47:35.769Z"
   },
   {
    "duration": 0,
    "start_time": "2022-11-25T21:47:35.770Z"
   },
   {
    "duration": 0,
    "start_time": "2022-11-25T21:47:35.771Z"
   },
   {
    "duration": 0,
    "start_time": "2022-11-25T21:47:35.772Z"
   },
   {
    "duration": 0,
    "start_time": "2022-11-25T21:47:35.773Z"
   },
   {
    "duration": 0,
    "start_time": "2022-11-25T21:47:35.774Z"
   },
   {
    "duration": 0,
    "start_time": "2022-11-25T21:47:35.834Z"
   },
   {
    "duration": 0,
    "start_time": "2022-11-25T21:47:35.836Z"
   },
   {
    "duration": 0,
    "start_time": "2022-11-25T21:47:35.837Z"
   },
   {
    "duration": 0,
    "start_time": "2022-11-25T21:47:35.838Z"
   },
   {
    "duration": 0,
    "start_time": "2022-11-25T21:47:35.840Z"
   },
   {
    "duration": 0,
    "start_time": "2022-11-25T21:47:35.841Z"
   },
   {
    "duration": 0,
    "start_time": "2022-11-25T21:47:35.841Z"
   },
   {
    "duration": 0,
    "start_time": "2022-11-25T21:47:35.842Z"
   },
   {
    "duration": 0,
    "start_time": "2022-11-25T21:47:35.843Z"
   },
   {
    "duration": 0,
    "start_time": "2022-11-25T21:47:35.844Z"
   },
   {
    "duration": 0,
    "start_time": "2022-11-25T21:47:35.845Z"
   },
   {
    "duration": 0,
    "start_time": "2022-11-25T21:47:35.847Z"
   },
   {
    "duration": 0,
    "start_time": "2022-11-25T21:47:35.848Z"
   },
   {
    "duration": 0,
    "start_time": "2022-11-25T21:47:35.849Z"
   },
   {
    "duration": 0,
    "start_time": "2022-11-25T21:47:35.850Z"
   },
   {
    "duration": 0,
    "start_time": "2022-11-25T21:47:35.851Z"
   },
   {
    "duration": 0,
    "start_time": "2022-11-25T21:47:35.853Z"
   },
   {
    "duration": 0,
    "start_time": "2022-11-25T21:47:35.854Z"
   },
   {
    "duration": 0,
    "start_time": "2022-11-25T21:47:35.855Z"
   },
   {
    "duration": 0,
    "start_time": "2022-11-25T21:47:35.856Z"
   },
   {
    "duration": 0,
    "start_time": "2022-11-25T21:47:35.857Z"
   },
   {
    "duration": 0,
    "start_time": "2022-11-25T21:47:35.858Z"
   },
   {
    "duration": 0,
    "start_time": "2022-11-25T21:47:35.859Z"
   },
   {
    "duration": 0,
    "start_time": "2022-11-25T21:47:35.860Z"
   },
   {
    "duration": 0,
    "start_time": "2022-11-25T21:47:35.860Z"
   },
   {
    "duration": 0,
    "start_time": "2022-11-25T21:47:35.861Z"
   },
   {
    "duration": 0,
    "start_time": "2022-11-25T21:47:35.862Z"
   },
   {
    "duration": 0,
    "start_time": "2022-11-25T21:47:35.863Z"
   },
   {
    "duration": 1,
    "start_time": "2022-11-25T21:47:35.864Z"
   },
   {
    "duration": 1070,
    "start_time": "2022-11-25T21:48:25.270Z"
   },
   {
    "duration": 118,
    "start_time": "2022-11-25T21:48:26.342Z"
   },
   {
    "duration": 9,
    "start_time": "2022-11-25T21:48:26.462Z"
   },
   {
    "duration": 102,
    "start_time": "2022-11-25T21:48:26.473Z"
   },
   {
    "duration": 22,
    "start_time": "2022-11-25T21:48:26.577Z"
   },
   {
    "duration": 16,
    "start_time": "2022-11-25T21:48:26.600Z"
   },
   {
    "duration": 2036,
    "start_time": "2022-11-25T21:48:26.617Z"
   },
   {
    "duration": 2633,
    "start_time": "2022-11-25T21:48:28.655Z"
   },
   {
    "duration": 80,
    "start_time": "2022-11-25T21:48:31.290Z"
   },
   {
    "duration": 8,
    "start_time": "2022-11-25T21:48:31.373Z"
   },
   {
    "duration": 18,
    "start_time": "2022-11-25T21:48:31.383Z"
   },
   {
    "duration": 4,
    "start_time": "2022-11-25T21:48:31.402Z"
   },
   {
    "duration": 29,
    "start_time": "2022-11-25T21:48:31.408Z"
   },
   {
    "duration": 27,
    "start_time": "2022-11-25T21:48:31.439Z"
   },
   {
    "duration": 12,
    "start_time": "2022-11-25T21:48:31.467Z"
   },
   {
    "duration": 16,
    "start_time": "2022-11-25T21:48:31.481Z"
   },
   {
    "duration": 38,
    "start_time": "2022-11-25T21:48:31.499Z"
   },
   {
    "duration": 3,
    "start_time": "2022-11-25T21:48:31.539Z"
   },
   {
    "duration": 12,
    "start_time": "2022-11-25T21:48:31.543Z"
   },
   {
    "duration": 11,
    "start_time": "2022-11-25T21:48:31.557Z"
   },
   {
    "duration": 35,
    "start_time": "2022-11-25T21:48:31.569Z"
   },
   {
    "duration": 12,
    "start_time": "2022-11-25T21:48:31.606Z"
   },
   {
    "duration": 4,
    "start_time": "2022-11-25T21:48:31.635Z"
   },
   {
    "duration": 11,
    "start_time": "2022-11-25T21:48:31.640Z"
   },
   {
    "duration": 17,
    "start_time": "2022-11-25T21:48:31.652Z"
   },
   {
    "duration": 10,
    "start_time": "2022-11-25T21:48:31.670Z"
   },
   {
    "duration": 14,
    "start_time": "2022-11-25T21:48:31.681Z"
   },
   {
    "duration": 23,
    "start_time": "2022-11-25T21:48:31.700Z"
   },
   {
    "duration": 19,
    "start_time": "2022-11-25T21:48:31.725Z"
   },
   {
    "duration": 6,
    "start_time": "2022-11-25T21:48:31.746Z"
   },
   {
    "duration": 9,
    "start_time": "2022-11-25T21:48:31.753Z"
   },
   {
    "duration": 53,
    "start_time": "2022-11-25T21:48:31.764Z"
   },
   {
    "duration": 17,
    "start_time": "2022-11-25T21:48:31.819Z"
   },
   {
    "duration": 6,
    "start_time": "2022-11-25T21:48:31.838Z"
   },
   {
    "duration": 7,
    "start_time": "2022-11-25T21:48:31.846Z"
   },
   {
    "duration": 15,
    "start_time": "2022-11-25T21:48:31.855Z"
   },
   {
    "duration": 450,
    "start_time": "2022-11-25T21:48:31.871Z"
   },
   {
    "duration": 4,
    "start_time": "2022-11-25T21:48:32.323Z"
   },
   {
    "duration": 33,
    "start_time": "2022-11-25T21:48:32.335Z"
   },
   {
    "duration": 290,
    "start_time": "2022-11-25T21:48:32.369Z"
   },
   {
    "duration": 249,
    "start_time": "2022-11-25T21:48:32.661Z"
   },
   {
    "duration": 119,
    "start_time": "2022-11-25T21:48:32.911Z"
   },
   {
    "duration": 11,
    "start_time": "2022-11-25T21:48:33.034Z"
   },
   {
    "duration": 191,
    "start_time": "2022-11-25T21:48:33.046Z"
   },
   {
    "duration": 115,
    "start_time": "2022-11-25T21:48:33.239Z"
   },
   {
    "duration": 10,
    "start_time": "2022-11-25T21:48:33.356Z"
   },
   {
    "duration": 189,
    "start_time": "2022-11-25T21:48:33.367Z"
   },
   {
    "duration": 196,
    "start_time": "2022-11-25T21:48:33.558Z"
   },
   {
    "duration": 8,
    "start_time": "2022-11-25T21:48:33.756Z"
   },
   {
    "duration": 240,
    "start_time": "2022-11-25T21:48:33.765Z"
   },
   {
    "duration": 222,
    "start_time": "2022-11-25T21:48:34.007Z"
   },
   {
    "duration": 120,
    "start_time": "2022-11-25T21:48:34.230Z"
   },
   {
    "duration": 9,
    "start_time": "2022-11-25T21:48:34.351Z"
   },
   {
    "duration": 157,
    "start_time": "2022-11-25T21:48:34.361Z"
   },
   {
    "duration": 118,
    "start_time": "2022-11-25T21:48:34.520Z"
   },
   {
    "duration": 9,
    "start_time": "2022-11-25T21:48:34.640Z"
   },
   {
    "duration": 163,
    "start_time": "2022-11-25T21:48:34.650Z"
   },
   {
    "duration": 130,
    "start_time": "2022-11-25T21:48:34.815Z"
   },
   {
    "duration": 9,
    "start_time": "2022-11-25T21:48:34.947Z"
   },
   {
    "duration": 150,
    "start_time": "2022-11-25T21:48:34.958Z"
   },
   {
    "duration": 205,
    "start_time": "2022-11-25T21:48:35.110Z"
   },
   {
    "duration": 6,
    "start_time": "2022-11-25T21:48:35.317Z"
   },
   {
    "duration": 138,
    "start_time": "2022-11-25T21:48:35.324Z"
   },
   {
    "duration": 166,
    "start_time": "2022-11-25T21:48:35.464Z"
   },
   {
    "duration": 120,
    "start_time": "2022-11-25T21:48:35.635Z"
   },
   {
    "duration": 6,
    "start_time": "2022-11-25T21:48:35.757Z"
   },
   {
    "duration": 187,
    "start_time": "2022-11-25T21:48:35.764Z"
   },
   {
    "duration": 126,
    "start_time": "2022-11-25T21:48:35.953Z"
   },
   {
    "duration": 209,
    "start_time": "2022-11-25T21:48:36.080Z"
   },
   {
    "duration": 117,
    "start_time": "2022-11-25T21:48:36.291Z"
   },
   {
    "duration": 205,
    "start_time": "2022-11-25T21:48:36.410Z"
   },
   {
    "duration": 210,
    "start_time": "2022-11-25T21:48:36.617Z"
   },
   {
    "duration": 240,
    "start_time": "2022-11-25T21:48:36.828Z"
   },
   {
    "duration": 254,
    "start_time": "2022-11-25T21:48:37.070Z"
   },
   {
    "duration": 128,
    "start_time": "2022-11-25T21:48:37.327Z"
   },
   {
    "duration": 161,
    "start_time": "2022-11-25T21:48:37.458Z"
   },
   {
    "duration": 157,
    "start_time": "2022-11-25T21:48:37.621Z"
   },
   {
    "duration": 158,
    "start_time": "2022-11-25T21:48:37.779Z"
   },
   {
    "duration": 132,
    "start_time": "2022-11-25T21:48:37.939Z"
   },
   {
    "duration": 126,
    "start_time": "2022-11-25T21:48:38.072Z"
   },
   {
    "duration": 486,
    "start_time": "2022-11-25T21:48:38.200Z"
   },
   {
    "duration": 18,
    "start_time": "2022-11-25T21:48:38.691Z"
   },
   {
    "duration": 24,
    "start_time": "2022-11-25T21:48:38.711Z"
   },
   {
    "duration": 19,
    "start_time": "2022-11-25T21:48:38.737Z"
   },
   {
    "duration": 180,
    "start_time": "2022-11-25T21:48:38.757Z"
   },
   {
    "duration": 150,
    "start_time": "2022-11-25T21:48:38.939Z"
   },
   {
    "duration": 14,
    "start_time": "2022-11-25T21:49:58.848Z"
   },
   {
    "duration": 14,
    "start_time": "2022-11-25T22:01:23.666Z"
   },
   {
    "duration": 1186,
    "start_time": "2022-11-25T22:01:30.256Z"
   },
   {
    "duration": 116,
    "start_time": "2022-11-25T22:01:31.444Z"
   },
   {
    "duration": 9,
    "start_time": "2022-11-25T22:01:31.562Z"
   },
   {
    "duration": 100,
    "start_time": "2022-11-25T22:01:31.573Z"
   },
   {
    "duration": 23,
    "start_time": "2022-11-25T22:01:31.674Z"
   },
   {
    "duration": 33,
    "start_time": "2022-11-25T22:01:31.698Z"
   },
   {
    "duration": 2864,
    "start_time": "2022-11-25T22:01:31.733Z"
   },
   {
    "duration": 1834,
    "start_time": "2022-11-25T22:01:34.599Z"
   },
   {
    "duration": 80,
    "start_time": "2022-11-25T22:01:36.436Z"
   },
   {
    "duration": 21,
    "start_time": "2022-11-25T22:01:36.520Z"
   },
   {
    "duration": 21,
    "start_time": "2022-11-25T22:01:36.542Z"
   },
   {
    "duration": 5,
    "start_time": "2022-11-25T22:01:36.565Z"
   },
   {
    "duration": 14,
    "start_time": "2022-11-25T22:01:36.571Z"
   },
   {
    "duration": 22,
    "start_time": "2022-11-25T22:01:36.587Z"
   },
   {
    "duration": 25,
    "start_time": "2022-11-25T22:01:36.611Z"
   },
   {
    "duration": 14,
    "start_time": "2022-11-25T22:01:36.638Z"
   },
   {
    "duration": 44,
    "start_time": "2022-11-25T22:01:36.654Z"
   },
   {
    "duration": 3,
    "start_time": "2022-11-25T22:01:36.700Z"
   },
   {
    "duration": 54,
    "start_time": "2022-11-25T22:01:36.706Z"
   },
   {
    "duration": 29,
    "start_time": "2022-11-25T22:01:36.762Z"
   },
   {
    "duration": 48,
    "start_time": "2022-11-25T22:01:36.793Z"
   },
   {
    "duration": 5,
    "start_time": "2022-11-25T22:01:36.843Z"
   },
   {
    "duration": 15,
    "start_time": "2022-11-25T22:01:36.850Z"
   },
   {
    "duration": 15,
    "start_time": "2022-11-25T22:01:36.867Z"
   },
   {
    "duration": 19,
    "start_time": "2022-11-25T22:01:36.883Z"
   },
   {
    "duration": 20,
    "start_time": "2022-11-25T22:01:36.903Z"
   },
   {
    "duration": 11,
    "start_time": "2022-11-25T22:01:36.925Z"
   },
   {
    "duration": 19,
    "start_time": "2022-11-25T22:01:36.940Z"
   },
   {
    "duration": 21,
    "start_time": "2022-11-25T22:01:36.961Z"
   },
   {
    "duration": 7,
    "start_time": "2022-11-25T22:01:36.984Z"
   },
   {
    "duration": 12,
    "start_time": "2022-11-25T22:01:36.993Z"
   },
   {
    "duration": 78,
    "start_time": "2022-11-25T22:01:37.006Z"
   },
   {
    "duration": 5,
    "start_time": "2022-11-25T22:01:37.086Z"
   },
   {
    "duration": 12,
    "start_time": "2022-11-25T22:01:37.093Z"
   },
   {
    "duration": 29,
    "start_time": "2022-11-25T22:01:37.107Z"
   },
   {
    "duration": 4,
    "start_time": "2022-11-25T22:01:37.138Z"
   },
   {
    "duration": 17,
    "start_time": "2022-11-25T22:01:37.144Z"
   },
   {
    "duration": 456,
    "start_time": "2022-11-25T22:01:37.163Z"
   },
   {
    "duration": 4,
    "start_time": "2022-11-25T22:01:37.621Z"
   },
   {
    "duration": 29,
    "start_time": "2022-11-25T22:01:37.626Z"
   },
   {
    "duration": 226,
    "start_time": "2022-11-25T22:01:37.657Z"
   },
   {
    "duration": 243,
    "start_time": "2022-11-25T22:01:37.884Z"
   },
   {
    "duration": 121,
    "start_time": "2022-11-25T22:01:38.129Z"
   },
   {
    "duration": 11,
    "start_time": "2022-11-25T22:01:38.252Z"
   },
   {
    "duration": 189,
    "start_time": "2022-11-25T22:01:38.264Z"
   },
   {
    "duration": 131,
    "start_time": "2022-11-25T22:01:38.455Z"
   },
   {
    "duration": 8,
    "start_time": "2022-11-25T22:01:38.588Z"
   },
   {
    "duration": 178,
    "start_time": "2022-11-25T22:01:38.598Z"
   },
   {
    "duration": 203,
    "start_time": "2022-11-25T22:01:38.778Z"
   },
   {
    "duration": 8,
    "start_time": "2022-11-25T22:01:38.983Z"
   },
   {
    "duration": 236,
    "start_time": "2022-11-25T22:01:38.993Z"
   },
   {
    "duration": 223,
    "start_time": "2022-11-25T22:01:39.230Z"
   },
   {
    "duration": 130,
    "start_time": "2022-11-25T22:01:39.455Z"
   },
   {
    "duration": 9,
    "start_time": "2022-11-25T22:01:39.587Z"
   },
   {
    "duration": 169,
    "start_time": "2022-11-25T22:01:39.597Z"
   },
   {
    "duration": 116,
    "start_time": "2022-11-25T22:01:39.768Z"
   },
   {
    "duration": 8,
    "start_time": "2022-11-25T22:01:39.886Z"
   },
   {
    "duration": 162,
    "start_time": "2022-11-25T22:01:39.896Z"
   },
   {
    "duration": 123,
    "start_time": "2022-11-25T22:01:40.060Z"
   },
   {
    "duration": 10,
    "start_time": "2022-11-25T22:01:40.184Z"
   },
   {
    "duration": 141,
    "start_time": "2022-11-25T22:01:40.196Z"
   },
   {
    "duration": 192,
    "start_time": "2022-11-25T22:01:40.338Z"
   },
   {
    "duration": 6,
    "start_time": "2022-11-25T22:01:40.534Z"
   },
   {
    "duration": 125,
    "start_time": "2022-11-25T22:01:40.542Z"
   },
   {
    "duration": 175,
    "start_time": "2022-11-25T22:01:40.669Z"
   },
   {
    "duration": 127,
    "start_time": "2022-11-25T22:01:40.846Z"
   },
   {
    "duration": 8,
    "start_time": "2022-11-25T22:01:40.975Z"
   },
   {
    "duration": 195,
    "start_time": "2022-11-25T22:01:40.984Z"
   },
   {
    "duration": 114,
    "start_time": "2022-11-25T22:01:41.180Z"
   },
   {
    "duration": 199,
    "start_time": "2022-11-25T22:01:41.296Z"
   },
   {
    "duration": 124,
    "start_time": "2022-11-25T22:01:41.497Z"
   },
   {
    "duration": 197,
    "start_time": "2022-11-25T22:01:41.622Z"
   },
   {
    "duration": 216,
    "start_time": "2022-11-25T22:01:41.821Z"
   },
   {
    "duration": 231,
    "start_time": "2022-11-25T22:01:42.039Z"
   },
   {
    "duration": 300,
    "start_time": "2022-11-25T22:01:42.271Z"
   },
   {
    "duration": 120,
    "start_time": "2022-11-25T22:01:42.573Z"
   },
   {
    "duration": 164,
    "start_time": "2022-11-25T22:01:42.695Z"
   },
   {
    "duration": 157,
    "start_time": "2022-11-25T22:01:42.861Z"
   },
   {
    "duration": 150,
    "start_time": "2022-11-25T22:01:43.020Z"
   },
   {
    "duration": 134,
    "start_time": "2022-11-25T22:01:43.172Z"
   },
   {
    "duration": 124,
    "start_time": "2022-11-25T22:01:43.308Z"
   },
   {
    "duration": 495,
    "start_time": "2022-11-25T22:01:43.440Z"
   },
   {
    "duration": 19,
    "start_time": "2022-11-25T22:01:43.937Z"
   },
   {
    "duration": 7,
    "start_time": "2022-11-25T22:01:43.958Z"
   },
   {
    "duration": 28,
    "start_time": "2022-11-25T22:01:43.967Z"
   },
   {
    "duration": 191,
    "start_time": "2022-11-25T22:01:43.996Z"
   },
   {
    "duration": 157,
    "start_time": "2022-11-25T22:01:44.188Z"
   }
  ],
  "kernelspec": {
   "display_name": "Python 3 (ipykernel)",
   "language": "python",
   "name": "python3"
  },
  "language_info": {
   "codemirror_mode": {
    "name": "ipython",
    "version": 3
   },
   "file_extension": ".py",
   "mimetype": "text/x-python",
   "name": "python",
   "nbconvert_exporter": "python",
   "pygments_lexer": "ipython3",
   "version": "3.9.13"
  },
  "toc": {
   "base_numbering": 1,
   "nav_menu": {},
   "number_sections": true,
   "sideBar": true,
   "skip_h1_title": true,
   "title_cell": "Table of Contents",
   "title_sidebar": "Contents",
   "toc_cell": false,
   "toc_position": {
    "height": "calc(100% - 180px)",
    "left": "10px",
    "top": "150px",
    "width": "373.594px"
   },
   "toc_section_display": true,
   "toc_window_display": true
  }
 },
 "nbformat": 4,
 "nbformat_minor": 2
}
